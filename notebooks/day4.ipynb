{
 "cells": [
  {
   "cell_type": "code",
   "execution_count": 1,
   "metadata": {
    "collapsed": true
   },
   "outputs": [],
   "source": [
    "%matplotlib notebook"
   ]
  },
  {
   "cell_type": "code",
   "execution_count": 2,
   "metadata": {
    "collapsed": true
   },
   "outputs": [],
   "source": [
    "import nltk"
   ]
  },
  {
   "cell_type": "code",
   "execution_count": 3,
   "metadata": {
    "collapsed": false
   },
   "outputs": [
    {
     "data": {
      "text/plain": [
       "[73,\n",
       " 116,\n",
       " 39,\n",
       " 115,\n",
       " 32,\n",
       " 115,\n",
       " 117,\n",
       " 110,\n",
       " 110,\n",
       " 121,\n",
       " 44,\n",
       " 32,\n",
       " 119,\n",
       " 101,\n",
       " 32,\n",
       " 115,\n",
       " 104,\n",
       " 111,\n",
       " 117,\n",
       " 108,\n",
       " 100,\n",
       " 32,\n",
       " 98,\n",
       " 101,\n",
       " 32,\n",
       " 97,\n",
       " 116,\n",
       " 32,\n",
       " 116,\n",
       " 104,\n",
       " 101,\n",
       " 32,\n",
       " 115,\n",
       " 119,\n",
       " 105,\n",
       " 109,\n",
       " 109,\n",
       " 105,\n",
       " 110,\n",
       " 103,\n",
       " 32,\n",
       " 112,\n",
       " 111,\n",
       " 111,\n",
       " 108,\n",
       " 32,\n",
       " 105,\n",
       " 110,\n",
       " 115,\n",
       " 116,\n",
       " 101,\n",
       " 97,\n",
       " 100,\n",
       " 32,\n",
       " 111,\n",
       " 102,\n",
       " 32,\n",
       " 105,\n",
       " 110,\n",
       " 32,\n",
       " 99,\n",
       " 108,\n",
       " 97,\n",
       " 115,\n",
       " 115,\n",
       " 46,\n",
       " 46,\n",
       " 46]"
      ]
     },
     "execution_count": 3,
     "metadata": {},
     "output_type": "execute_result"
    }
   ],
   "source": [
    "# in the Unicode character set, the following sentence corresponds\n",
    "# to the following list of integers (let's assume the computer uses\n",
    "# decimal digits to represent these numbers to make the discussion\n",
    "# easier to understand, even though in reality it uses binary bits;\n",
    "# but conceptually, there's no relevant difference)\n",
    "list(ord(c) for c in \"It's sunny, we should be at the swimming pool instead of in class...\")"
   ]
  },
  {
   "cell_type": "code",
   "execution_count": 4,
   "metadata": {
    "collapsed": false
   },
   "outputs": [
    {
     "data": {
      "text/plain": [
       "'7311639115321151171101101214432119101321151041111171081003298101329711632116104101321151191051091091051101033211211111110832105110115116101971003211110232105110329910897115115464646'"
      ]
     },
     "execution_count": 4,
     "metadata": {},
     "output_type": "execute_result"
    }
   ],
   "source": [
    "# when the computer stores this sequence of integers, it can't just\n",
    "# put them end to end, because it would have no idea where the\n",
    "# individual characters begin and end -- for instance here: is the\n",
    "# first character 7, 73, 731...?\n",
    "\"\".join(str(ord(c)) for c in \"It's sunny, we should be at the swimming pool instead of in class...\")"
   ]
  },
  {
   "cell_type": "code",
   "execution_count": 5,
   "metadata": {
    "collapsed": false
   },
   "outputs": [
    {
     "data": {
      "text/plain": [
       "'00730116003901150032011501170110011001210044003201190101003201150104011101170108010000320098010100320097011600320116010401010032011501190105010901090105011001030032011201110111010800320105011001150116010100970100003201110102003201050110003200990108009701150115004600460046'"
      ]
     },
     "execution_count": 5,
     "metadata": {},
     "output_type": "execute_result"
    }
   ],
   "source": [
    "# it's the job of the encoding to define how these integers will be\n",
    "# stored in order for those boundaries to become clear -- for instance,\n",
    "# a fixed-width encoding will use the same number of digits for each\n",
    "# codepoint, e.g. 4:\n",
    "\"\".join(str(ord(c)).rjust(4, \"0\") for c in \"It's sunny, we should be at the swimming pool instead of in class...\")"
   ]
  },
  {
   "cell_type": "markdown",
   "metadata": {},
   "source": [
    "Now, it's easy to split the stream of digits at every fourth one and see that the first character is `0073`, the second one is `0116` etc."
   ]
  },
  {
   "cell_type": "markdown",
   "metadata": {},
   "source": [
    "# Getting your own data into Python I"
   ]
  },
  {
   "cell_type": "code",
   "execution_count": 6,
   "metadata": {
    "collapsed": true
   },
   "outputs": [],
   "source": [
    "# open a filehandle (NOTE: replace the path with one appropriate for your setup,\n",
    "# e.g. \"C://Users/<your_username>/...\" on Windows)\n",
    "fh = open(\"/Users/dvl/nltk_data/corpora/gutenberg/carroll-alice.txt\")"
   ]
  },
  {
   "cell_type": "code",
   "execution_count": 7,
   "metadata": {
    "collapsed": false
   },
   "outputs": [
    {
     "data": {
      "text/plain": [
       "\"[Alice's Adventures in Wonderland by Lewis Carroll 1865]\\n\""
      ]
     },
     "execution_count": 7,
     "metadata": {},
     "output_type": "execute_result"
    }
   ],
   "source": [
    "# \"\\n\" is an \"escape sequence\" which indicates a newline inside a Python string\n",
    "fh.readline()"
   ]
  },
  {
   "cell_type": "code",
   "execution_count": 8,
   "metadata": {
    "collapsed": false
   },
   "outputs": [
    {
     "data": {
      "text/plain": [
       "'\\n'"
      ]
     },
     "execution_count": 8,
     "metadata": {},
     "output_type": "execute_result"
    }
   ],
   "source": [
    "fh.readline()"
   ]
  },
  {
   "cell_type": "code",
   "execution_count": 9,
   "metadata": {
    "collapsed": false
   },
   "outputs": [
    {
     "data": {
      "text/plain": [
       "'CHAPTER I. Down the Rabbit-Hole\\n\\nAlice was beginni'"
      ]
     },
     "execution_count": 9,
     "metadata": {},
     "output_type": "execute_result"
    }
   ],
   "source": [
    "fh.read()[:50]"
   ]
  },
  {
   "cell_type": "code",
   "execution_count": 10,
   "metadata": {
    "collapsed": true
   },
   "outputs": [],
   "source": [
    "# close the filehandle when you're done with it\n",
    "fh.close()"
   ]
  },
  {
   "cell_type": "code",
   "execution_count": 11,
   "metadata": {
    "collapsed": true
   },
   "outputs": [],
   "source": [
    "# a \"with\" statement takes care of handling the closing for you even if\n",
    "# errors occur at some point during processing; use it :)\n",
    "with open(\"/Users/dvl/nltk_data/corpora/gutenberg/carroll-alice.txt\") as fh:\n",
    "    alice = fh.read()"
   ]
  },
  {
   "cell_type": "code",
   "execution_count": 12,
   "metadata": {
    "collapsed": false
   },
   "outputs": [
    {
     "data": {
      "text/plain": [
       "\"[Alice's Adventures in Wonderland by Lewis Carroll\""
      ]
     },
     "execution_count": 12,
     "metadata": {},
     "output_type": "execute_result"
    }
   ],
   "source": [
    "alice[:50]"
   ]
  },
  {
   "cell_type": "code",
   "execution_count": 13,
   "metadata": {
    "collapsed": false
   },
   "outputs": [
    {
     "data": {
      "text/plain": [
       "42.06724707295107"
      ]
     },
     "execution_count": 13,
     "metadata": {},
     "output_type": "execute_result"
    }
   ],
   "source": [
    "# when reading the file line by line, a \"for ... in\" loop is typically\n",
    "# used\n",
    "with open(\"/Users/dvl/nltk_data/corpora/gutenberg/carroll-alice.txt\") as fh:\n",
    "    line_length_sum = 0\n",
    "    number_of_lines = 0\n",
    "    for line in fh:\n",
    "        # if a string ends with a newline, .strip() removes it\n",
    "        line = line.strip()\n",
    "        line_length_sum += len(line)\n",
    "        number_of_lines += 1\n",
    "        \n",
    "line_length_sum / number_of_lines"
   ]
  },
  {
   "cell_type": "code",
   "execution_count": 14,
   "metadata": {
    "collapsed": false
   },
   "outputs": [
    {
     "data": {
      "text/plain": [
       "3331"
      ]
     },
     "execution_count": 14,
     "metadata": {},
     "output_type": "execute_result"
    }
   ],
   "source": [
    "with open(\"/Users/dvl/nltk_data/corpora/gutenberg/carroll-alice.txt\") as fh:\n",
    "    total = sum(1 for line in fh)  # (non-)empty lines also!\n",
    "total"
   ]
  },
  {
   "cell_type": "code",
   "execution_count": 15,
   "metadata": {
    "collapsed": false
   },
   "outputs": [
    {
     "data": {
      "text/plain": [
       "852"
      ]
     },
     "execution_count": 15,
     "metadata": {},
     "output_type": "execute_result"
    }
   ],
   "source": [
    "with open(\"/Users/dvl/nltk_data/corpora/gutenberg/carroll-alice.txt\") as fh:\n",
    "    empty_lines = sum(1 for line in fh if line.strip() == \"\")\n",
    "empty_lines"
   ]
  },
  {
   "cell_type": "code",
   "execution_count": 16,
   "metadata": {
    "collapsed": false
   },
   "outputs": [
    {
     "data": {
      "text/plain": [
       "2479"
      ]
     },
     "execution_count": 16,
     "metadata": {},
     "output_type": "execute_result"
    }
   ],
   "source": [
    "with open(\"/Users/dvl/nltk_data/corpora/gutenberg/carroll-alice.txt\") as fh:\n",
    "    non_empty_lines = sum(1 for line in fh if line.strip() != \"\")\n",
    "non_empty_lines"
   ]
  },
  {
   "cell_type": "code",
   "execution_count": 17,
   "metadata": {
    "collapsed": false
   },
   "outputs": [],
   "source": [
    "# this a Jupyter-specific way to open a convenient popup with the text content\n",
    "# of a string; it's NOT Python syntax!\n",
    "%page -r alice"
   ]
  },
  {
   "cell_type": "code",
   "execution_count": 18,
   "metadata": {
    "collapsed": false
   },
   "outputs": [
    {
     "data": {
      "text/plain": [
       "<Response [200]>"
      ]
     },
     "execution_count": 18,
     "metadata": {},
     "output_type": "execute_result"
    }
   ],
   "source": [
    "# requests is a library which allows you to fetch web pages much like your browser\n",
    "# does\n",
    "import requests\n",
    "\n",
    "# the .get() method retrieves the content at a given URL\n",
    "response = requests.get(\"http://www.gutenberg.org/cache/epub/1112/pg1112.txt\")\n",
    "response"
   ]
  },
  {
   "cell_type": "code",
   "execution_count": 19,
   "metadata": {
    "collapsed": false
   },
   "outputs": [
    {
     "ename": "TypeError",
     "evalue": "'str' object is not callable",
     "output_type": "error",
     "traceback": [
      "\u001b[0;31m---------------------------------------------------------------------------\u001b[0m",
      "\u001b[0;31mTypeError\u001b[0m                                 Traceback (most recent call last)",
      "\u001b[0;32m<ipython-input-19-c6f6f03a3846>\u001b[0m in \u001b[0;36m<module>\u001b[0;34m()\u001b[0m\n\u001b[1;32m      3\u001b[0m \u001b[0;31m# object. since it's not a method, trying to invoke it (by appending parentheses)\u001b[0m\u001b[0;34m\u001b[0m\u001b[0;34m\u001b[0m\u001b[0m\n\u001b[1;32m      4\u001b[0m \u001b[0;31m# fails\u001b[0m\u001b[0;34m\u001b[0m\u001b[0;34m\u001b[0m\u001b[0m\n\u001b[0;32m----> 5\u001b[0;31m \u001b[0mrnj\u001b[0m \u001b[0;34m=\u001b[0m \u001b[0mresponse\u001b[0m\u001b[0;34m.\u001b[0m\u001b[0mtext\u001b[0m\u001b[0;34m(\u001b[0m\u001b[0;34m)\u001b[0m\u001b[0;34m\u001b[0m\u001b[0m\n\u001b[0m",
      "\u001b[0;31mTypeError\u001b[0m: 'str' object is not callable"
     ]
    }
   ],
   "source": [
    "# .text stores the content of the response as a string; it's not a method, just\n",
    "# a data attribute -- a string (in this case) which is tacked onto the response\n",
    "# object. since it's not a method, trying to invoke it (by appending parentheses)\n",
    "# fails\n",
    "rnj = response.text()"
   ]
  },
  {
   "cell_type": "code",
   "execution_count": 20,
   "metadata": {
    "collapsed": true
   },
   "outputs": [],
   "source": [
    "# the correct way to access it is just to type its name. it works like any other\n",
    "# variable really, with the caveat that its name (\"text\") must be prefixed by\n",
    "# the namespace of its parent object (\"response\").\n",
    "rnj = response.text"
   ]
  },
  {
   "cell_type": "code",
   "execution_count": 21,
   "metadata": {
    "collapsed": true
   },
   "outputs": [],
   "source": [
    "%page -r rnj"
   ]
  },
  {
   "cell_type": "code",
   "execution_count": 22,
   "metadata": {
    "collapsed": false
   },
   "outputs": [
    {
     "data": {
      "text/plain": [
       "(1807, 159841)"
      ]
     },
     "execution_count": 22,
     "metadata": {},
     "output_type": "execute_result"
    }
   ],
   "source": [
    "rnj.index(\"THE TRAGEDY\"), rnj.index(\"THE END\")"
   ]
  },
  {
   "cell_type": "code",
   "execution_count": 23,
   "metadata": {
    "collapsed": true
   },
   "outputs": [],
   "source": [
    "rnj = rnj[1807:159848]"
   ]
  },
  {
   "cell_type": "code",
   "execution_count": 24,
   "metadata": {
    "collapsed": false
   },
   "outputs": [],
   "source": [
    "%page -r rnj"
   ]
  },
  {
   "cell_type": "code",
   "execution_count": 25,
   "metadata": {
    "collapsed": false
   },
   "outputs": [
    {
     "data": {
      "text/plain": [
       "['THE',\n",
       " 'TRAGEDY',\n",
       " 'OF',\n",
       " 'ROMEO',\n",
       " 'AND',\n",
       " 'JULIET',\n",
       " 'by',\n",
       " 'William',\n",
       " 'Shakespeare',\n",
       " 'Dramatis']"
      ]
     },
     "execution_count": 25,
     "metadata": {},
     "output_type": "execute_result"
    }
   ],
   "source": [
    "rnj_tokens = nltk.word_tokenize(rnj)\n",
    "rnj_tokens[:10]"
   ]
  },
  {
   "cell_type": "code",
   "execution_count": 26,
   "metadata": {
    "collapsed": true
   },
   "outputs": [],
   "source": [
    "rnj_text = nltk.Text(rnj_tokens)"
   ]
  },
  {
   "cell_type": "code",
   "execution_count": 27,
   "metadata": {
    "collapsed": false
   },
   "outputs": [
    {
     "data": {
      "application/javascript": [
       "/* Put everything inside the global mpl namespace */\n",
       "window.mpl = {};\n",
       "\n",
       "mpl.get_websocket_type = function() {\n",
       "    if (typeof(WebSocket) !== 'undefined') {\n",
       "        return WebSocket;\n",
       "    } else if (typeof(MozWebSocket) !== 'undefined') {\n",
       "        return MozWebSocket;\n",
       "    } else {\n",
       "        alert('Your browser does not have WebSocket support.' +\n",
       "              'Please try Chrome, Safari or Firefox ≥ 6. ' +\n",
       "              'Firefox 4 and 5 are also supported but you ' +\n",
       "              'have to enable WebSockets in about:config.');\n",
       "    };\n",
       "}\n",
       "\n",
       "mpl.figure = function(figure_id, websocket, ondownload, parent_element) {\n",
       "    this.id = figure_id;\n",
       "\n",
       "    this.ws = websocket;\n",
       "\n",
       "    this.supports_binary = (this.ws.binaryType != undefined);\n",
       "\n",
       "    if (!this.supports_binary) {\n",
       "        var warnings = document.getElementById(\"mpl-warnings\");\n",
       "        if (warnings) {\n",
       "            warnings.style.display = 'block';\n",
       "            warnings.textContent = (\n",
       "                \"This browser does not support binary websocket messages. \" +\n",
       "                    \"Performance may be slow.\");\n",
       "        }\n",
       "    }\n",
       "\n",
       "    this.imageObj = new Image();\n",
       "\n",
       "    this.context = undefined;\n",
       "    this.message = undefined;\n",
       "    this.canvas = undefined;\n",
       "    this.rubberband_canvas = undefined;\n",
       "    this.rubberband_context = undefined;\n",
       "    this.format_dropdown = undefined;\n",
       "\n",
       "    this.image_mode = 'full';\n",
       "\n",
       "    this.root = $('<div/>');\n",
       "    this._root_extra_style(this.root)\n",
       "    this.root.attr('style', 'display: inline-block');\n",
       "\n",
       "    $(parent_element).append(this.root);\n",
       "\n",
       "    this._init_header(this);\n",
       "    this._init_canvas(this);\n",
       "    this._init_toolbar(this);\n",
       "\n",
       "    var fig = this;\n",
       "\n",
       "    this.waiting = false;\n",
       "\n",
       "    this.ws.onopen =  function () {\n",
       "            fig.send_message(\"supports_binary\", {value: fig.supports_binary});\n",
       "            fig.send_message(\"send_image_mode\", {});\n",
       "            fig.send_message(\"refresh\", {});\n",
       "        }\n",
       "\n",
       "    this.imageObj.onload = function() {\n",
       "            if (fig.image_mode == 'full') {\n",
       "                // Full images could contain transparency (where diff images\n",
       "                // almost always do), so we need to clear the canvas so that\n",
       "                // there is no ghosting.\n",
       "                fig.context.clearRect(0, 0, fig.canvas.width, fig.canvas.height);\n",
       "            }\n",
       "            fig.context.drawImage(fig.imageObj, 0, 0);\n",
       "        };\n",
       "\n",
       "    this.imageObj.onunload = function() {\n",
       "        this.ws.close();\n",
       "    }\n",
       "\n",
       "    this.ws.onmessage = this._make_on_message_function(this);\n",
       "\n",
       "    this.ondownload = ondownload;\n",
       "}\n",
       "\n",
       "mpl.figure.prototype._init_header = function() {\n",
       "    var titlebar = $(\n",
       "        '<div class=\"ui-dialog-titlebar ui-widget-header ui-corner-all ' +\n",
       "        'ui-helper-clearfix\"/>');\n",
       "    var titletext = $(\n",
       "        '<div class=\"ui-dialog-title\" style=\"width: 100%; ' +\n",
       "        'text-align: center; padding: 3px;\"/>');\n",
       "    titlebar.append(titletext)\n",
       "    this.root.append(titlebar);\n",
       "    this.header = titletext[0];\n",
       "}\n",
       "\n",
       "\n",
       "\n",
       "mpl.figure.prototype._canvas_extra_style = function(canvas_div) {\n",
       "\n",
       "}\n",
       "\n",
       "\n",
       "mpl.figure.prototype._root_extra_style = function(canvas_div) {\n",
       "\n",
       "}\n",
       "\n",
       "mpl.figure.prototype._init_canvas = function() {\n",
       "    var fig = this;\n",
       "\n",
       "    var canvas_div = $('<div/>');\n",
       "\n",
       "    canvas_div.attr('style', 'position: relative; clear: both; outline: 0');\n",
       "\n",
       "    function canvas_keyboard_event(event) {\n",
       "        return fig.key_event(event, event['data']);\n",
       "    }\n",
       "\n",
       "    canvas_div.keydown('key_press', canvas_keyboard_event);\n",
       "    canvas_div.keyup('key_release', canvas_keyboard_event);\n",
       "    this.canvas_div = canvas_div\n",
       "    this._canvas_extra_style(canvas_div)\n",
       "    this.root.append(canvas_div);\n",
       "\n",
       "    var canvas = $('<canvas/>');\n",
       "    canvas.addClass('mpl-canvas');\n",
       "    canvas.attr('style', \"left: 0; top: 0; z-index: 0; outline: 0\")\n",
       "\n",
       "    this.canvas = canvas[0];\n",
       "    this.context = canvas[0].getContext(\"2d\");\n",
       "\n",
       "    var rubberband = $('<canvas/>');\n",
       "    rubberband.attr('style', \"position: absolute; left: 0; top: 0; z-index: 1;\")\n",
       "\n",
       "    var pass_mouse_events = true;\n",
       "\n",
       "    canvas_div.resizable({\n",
       "        start: function(event, ui) {\n",
       "            pass_mouse_events = false;\n",
       "        },\n",
       "        resize: function(event, ui) {\n",
       "            fig.request_resize(ui.size.width, ui.size.height);\n",
       "        },\n",
       "        stop: function(event, ui) {\n",
       "            pass_mouse_events = true;\n",
       "            fig.request_resize(ui.size.width, ui.size.height);\n",
       "        },\n",
       "    });\n",
       "\n",
       "    function mouse_event_fn(event) {\n",
       "        if (pass_mouse_events)\n",
       "            return fig.mouse_event(event, event['data']);\n",
       "    }\n",
       "\n",
       "    rubberband.mousedown('button_press', mouse_event_fn);\n",
       "    rubberband.mouseup('button_release', mouse_event_fn);\n",
       "    // Throttle sequential mouse events to 1 every 20ms.\n",
       "    rubberband.mousemove('motion_notify', mouse_event_fn);\n",
       "\n",
       "    rubberband.mouseenter('figure_enter', mouse_event_fn);\n",
       "    rubberband.mouseleave('figure_leave', mouse_event_fn);\n",
       "\n",
       "    canvas_div.on(\"wheel\", function (event) {\n",
       "        event = event.originalEvent;\n",
       "        event['data'] = 'scroll'\n",
       "        if (event.deltaY < 0) {\n",
       "            event.step = 1;\n",
       "        } else {\n",
       "            event.step = -1;\n",
       "        }\n",
       "        mouse_event_fn(event);\n",
       "    });\n",
       "\n",
       "    canvas_div.append(canvas);\n",
       "    canvas_div.append(rubberband);\n",
       "\n",
       "    this.rubberband = rubberband;\n",
       "    this.rubberband_canvas = rubberband[0];\n",
       "    this.rubberband_context = rubberband[0].getContext(\"2d\");\n",
       "    this.rubberband_context.strokeStyle = \"#000000\";\n",
       "\n",
       "    this._resize_canvas = function(width, height) {\n",
       "        // Keep the size of the canvas, canvas container, and rubber band\n",
       "        // canvas in synch.\n",
       "        canvas_div.css('width', width)\n",
       "        canvas_div.css('height', height)\n",
       "\n",
       "        canvas.attr('width', width);\n",
       "        canvas.attr('height', height);\n",
       "\n",
       "        rubberband.attr('width', width);\n",
       "        rubberband.attr('height', height);\n",
       "    }\n",
       "\n",
       "    // Set the figure to an initial 600x600px, this will subsequently be updated\n",
       "    // upon first draw.\n",
       "    this._resize_canvas(600, 600);\n",
       "\n",
       "    // Disable right mouse context menu.\n",
       "    $(this.rubberband_canvas).bind(\"contextmenu\",function(e){\n",
       "        return false;\n",
       "    });\n",
       "\n",
       "    function set_focus () {\n",
       "        canvas.focus();\n",
       "        canvas_div.focus();\n",
       "    }\n",
       "\n",
       "    window.setTimeout(set_focus, 100);\n",
       "}\n",
       "\n",
       "mpl.figure.prototype._init_toolbar = function() {\n",
       "    var fig = this;\n",
       "\n",
       "    var nav_element = $('<div/>')\n",
       "    nav_element.attr('style', 'width: 100%');\n",
       "    this.root.append(nav_element);\n",
       "\n",
       "    // Define a callback function for later on.\n",
       "    function toolbar_event(event) {\n",
       "        return fig.toolbar_button_onclick(event['data']);\n",
       "    }\n",
       "    function toolbar_mouse_event(event) {\n",
       "        return fig.toolbar_button_onmouseover(event['data']);\n",
       "    }\n",
       "\n",
       "    for(var toolbar_ind in mpl.toolbar_items) {\n",
       "        var name = mpl.toolbar_items[toolbar_ind][0];\n",
       "        var tooltip = mpl.toolbar_items[toolbar_ind][1];\n",
       "        var image = mpl.toolbar_items[toolbar_ind][2];\n",
       "        var method_name = mpl.toolbar_items[toolbar_ind][3];\n",
       "\n",
       "        if (!name) {\n",
       "            // put a spacer in here.\n",
       "            continue;\n",
       "        }\n",
       "        var button = $('<button/>');\n",
       "        button.addClass('ui-button ui-widget ui-state-default ui-corner-all ' +\n",
       "                        'ui-button-icon-only');\n",
       "        button.attr('role', 'button');\n",
       "        button.attr('aria-disabled', 'false');\n",
       "        button.click(method_name, toolbar_event);\n",
       "        button.mouseover(tooltip, toolbar_mouse_event);\n",
       "\n",
       "        var icon_img = $('<span/>');\n",
       "        icon_img.addClass('ui-button-icon-primary ui-icon');\n",
       "        icon_img.addClass(image);\n",
       "        icon_img.addClass('ui-corner-all');\n",
       "\n",
       "        var tooltip_span = $('<span/>');\n",
       "        tooltip_span.addClass('ui-button-text');\n",
       "        tooltip_span.html(tooltip);\n",
       "\n",
       "        button.append(icon_img);\n",
       "        button.append(tooltip_span);\n",
       "\n",
       "        nav_element.append(button);\n",
       "    }\n",
       "\n",
       "    var fmt_picker_span = $('<span/>');\n",
       "\n",
       "    var fmt_picker = $('<select/>');\n",
       "    fmt_picker.addClass('mpl-toolbar-option ui-widget ui-widget-content');\n",
       "    fmt_picker_span.append(fmt_picker);\n",
       "    nav_element.append(fmt_picker_span);\n",
       "    this.format_dropdown = fmt_picker[0];\n",
       "\n",
       "    for (var ind in mpl.extensions) {\n",
       "        var fmt = mpl.extensions[ind];\n",
       "        var option = $(\n",
       "            '<option/>', {selected: fmt === mpl.default_extension}).html(fmt);\n",
       "        fmt_picker.append(option)\n",
       "    }\n",
       "\n",
       "    // Add hover states to the ui-buttons\n",
       "    $( \".ui-button\" ).hover(\n",
       "        function() { $(this).addClass(\"ui-state-hover\");},\n",
       "        function() { $(this).removeClass(\"ui-state-hover\");}\n",
       "    );\n",
       "\n",
       "    var status_bar = $('<span class=\"mpl-message\"/>');\n",
       "    nav_element.append(status_bar);\n",
       "    this.message = status_bar[0];\n",
       "}\n",
       "\n",
       "mpl.figure.prototype.request_resize = function(x_pixels, y_pixels) {\n",
       "    // Request matplotlib to resize the figure. Matplotlib will then trigger a resize in the client,\n",
       "    // which will in turn request a refresh of the image.\n",
       "    this.send_message('resize', {'width': x_pixels, 'height': y_pixels});\n",
       "}\n",
       "\n",
       "mpl.figure.prototype.send_message = function(type, properties) {\n",
       "    properties['type'] = type;\n",
       "    properties['figure_id'] = this.id;\n",
       "    this.ws.send(JSON.stringify(properties));\n",
       "}\n",
       "\n",
       "mpl.figure.prototype.send_draw_message = function() {\n",
       "    if (!this.waiting) {\n",
       "        this.waiting = true;\n",
       "        this.ws.send(JSON.stringify({type: \"draw\", figure_id: this.id}));\n",
       "    }\n",
       "}\n",
       "\n",
       "\n",
       "mpl.figure.prototype.handle_save = function(fig, msg) {\n",
       "    var format_dropdown = fig.format_dropdown;\n",
       "    var format = format_dropdown.options[format_dropdown.selectedIndex].value;\n",
       "    fig.ondownload(fig, format);\n",
       "}\n",
       "\n",
       "\n",
       "mpl.figure.prototype.handle_resize = function(fig, msg) {\n",
       "    var size = msg['size'];\n",
       "    if (size[0] != fig.canvas.width || size[1] != fig.canvas.height) {\n",
       "        fig._resize_canvas(size[0], size[1]);\n",
       "        fig.send_message(\"refresh\", {});\n",
       "    };\n",
       "}\n",
       "\n",
       "mpl.figure.prototype.handle_rubberband = function(fig, msg) {\n",
       "    var x0 = msg['x0'];\n",
       "    var y0 = fig.canvas.height - msg['y0'];\n",
       "    var x1 = msg['x1'];\n",
       "    var y1 = fig.canvas.height - msg['y1'];\n",
       "    x0 = Math.floor(x0) + 0.5;\n",
       "    y0 = Math.floor(y0) + 0.5;\n",
       "    x1 = Math.floor(x1) + 0.5;\n",
       "    y1 = Math.floor(y1) + 0.5;\n",
       "    var min_x = Math.min(x0, x1);\n",
       "    var min_y = Math.min(y0, y1);\n",
       "    var width = Math.abs(x1 - x0);\n",
       "    var height = Math.abs(y1 - y0);\n",
       "\n",
       "    fig.rubberband_context.clearRect(\n",
       "        0, 0, fig.canvas.width, fig.canvas.height);\n",
       "\n",
       "    fig.rubberband_context.strokeRect(min_x, min_y, width, height);\n",
       "}\n",
       "\n",
       "mpl.figure.prototype.handle_figure_label = function(fig, msg) {\n",
       "    // Updates the figure title.\n",
       "    fig.header.textContent = msg['label'];\n",
       "}\n",
       "\n",
       "mpl.figure.prototype.handle_cursor = function(fig, msg) {\n",
       "    var cursor = msg['cursor'];\n",
       "    switch(cursor)\n",
       "    {\n",
       "    case 0:\n",
       "        cursor = 'pointer';\n",
       "        break;\n",
       "    case 1:\n",
       "        cursor = 'default';\n",
       "        break;\n",
       "    case 2:\n",
       "        cursor = 'crosshair';\n",
       "        break;\n",
       "    case 3:\n",
       "        cursor = 'move';\n",
       "        break;\n",
       "    }\n",
       "    fig.rubberband_canvas.style.cursor = cursor;\n",
       "}\n",
       "\n",
       "mpl.figure.prototype.handle_message = function(fig, msg) {\n",
       "    fig.message.textContent = msg['message'];\n",
       "}\n",
       "\n",
       "mpl.figure.prototype.handle_draw = function(fig, msg) {\n",
       "    // Request the server to send over a new figure.\n",
       "    fig.send_draw_message();\n",
       "}\n",
       "\n",
       "mpl.figure.prototype.handle_image_mode = function(fig, msg) {\n",
       "    fig.image_mode = msg['mode'];\n",
       "}\n",
       "\n",
       "mpl.figure.prototype.updated_canvas_event = function() {\n",
       "    // Called whenever the canvas gets updated.\n",
       "    this.send_message(\"ack\", {});\n",
       "}\n",
       "\n",
       "// A function to construct a web socket function for onmessage handling.\n",
       "// Called in the figure constructor.\n",
       "mpl.figure.prototype._make_on_message_function = function(fig) {\n",
       "    return function socket_on_message(evt) {\n",
       "        if (evt.data instanceof Blob) {\n",
       "            /* FIXME: We get \"Resource interpreted as Image but\n",
       "             * transferred with MIME type text/plain:\" errors on\n",
       "             * Chrome.  But how to set the MIME type?  It doesn't seem\n",
       "             * to be part of the websocket stream */\n",
       "            evt.data.type = \"image/png\";\n",
       "\n",
       "            /* Free the memory for the previous frames */\n",
       "            if (fig.imageObj.src) {\n",
       "                (window.URL || window.webkitURL).revokeObjectURL(\n",
       "                    fig.imageObj.src);\n",
       "            }\n",
       "\n",
       "            fig.imageObj.src = (window.URL || window.webkitURL).createObjectURL(\n",
       "                evt.data);\n",
       "            fig.updated_canvas_event();\n",
       "            fig.waiting = false;\n",
       "            return;\n",
       "        }\n",
       "        else if (typeof evt.data === 'string' && evt.data.slice(0, 21) == \"data:image/png;base64\") {\n",
       "            fig.imageObj.src = evt.data;\n",
       "            fig.updated_canvas_event();\n",
       "            fig.waiting = false;\n",
       "            return;\n",
       "        }\n",
       "\n",
       "        var msg = JSON.parse(evt.data);\n",
       "        var msg_type = msg['type'];\n",
       "\n",
       "        // Call the  \"handle_{type}\" callback, which takes\n",
       "        // the figure and JSON message as its only arguments.\n",
       "        try {\n",
       "            var callback = fig[\"handle_\" + msg_type];\n",
       "        } catch (e) {\n",
       "            console.log(\"No handler for the '\" + msg_type + \"' message type: \", msg);\n",
       "            return;\n",
       "        }\n",
       "\n",
       "        if (callback) {\n",
       "            try {\n",
       "                // console.log(\"Handling '\" + msg_type + \"' message: \", msg);\n",
       "                callback(fig, msg);\n",
       "            } catch (e) {\n",
       "                console.log(\"Exception inside the 'handler_\" + msg_type + \"' callback:\", e, e.stack, msg);\n",
       "            }\n",
       "        }\n",
       "    };\n",
       "}\n",
       "\n",
       "// from http://stackoverflow.com/questions/1114465/getting-mouse-location-in-canvas\n",
       "mpl.findpos = function(e) {\n",
       "    //this section is from http://www.quirksmode.org/js/events_properties.html\n",
       "    var targ;\n",
       "    if (!e)\n",
       "        e = window.event;\n",
       "    if (e.target)\n",
       "        targ = e.target;\n",
       "    else if (e.srcElement)\n",
       "        targ = e.srcElement;\n",
       "    if (targ.nodeType == 3) // defeat Safari bug\n",
       "        targ = targ.parentNode;\n",
       "\n",
       "    // jQuery normalizes the pageX and pageY\n",
       "    // pageX,Y are the mouse positions relative to the document\n",
       "    // offset() returns the position of the element relative to the document\n",
       "    var x = e.pageX - $(targ).offset().left;\n",
       "    var y = e.pageY - $(targ).offset().top;\n",
       "\n",
       "    return {\"x\": x, \"y\": y};\n",
       "};\n",
       "\n",
       "/*\n",
       " * return a copy of an object with only non-object keys\n",
       " * we need this to avoid circular references\n",
       " * http://stackoverflow.com/a/24161582/3208463\n",
       " */\n",
       "function simpleKeys (original) {\n",
       "  return Object.keys(original).reduce(function (obj, key) {\n",
       "    if (typeof original[key] !== 'object')\n",
       "        obj[key] = original[key]\n",
       "    return obj;\n",
       "  }, {});\n",
       "}\n",
       "\n",
       "mpl.figure.prototype.mouse_event = function(event, name) {\n",
       "    var canvas_pos = mpl.findpos(event)\n",
       "\n",
       "    if (name === 'button_press')\n",
       "    {\n",
       "        this.canvas.focus();\n",
       "        this.canvas_div.focus();\n",
       "    }\n",
       "\n",
       "    var x = canvas_pos.x;\n",
       "    var y = canvas_pos.y;\n",
       "\n",
       "    this.send_message(name, {x: x, y: y, button: event.button,\n",
       "                             step: event.step,\n",
       "                             guiEvent: simpleKeys(event)});\n",
       "\n",
       "    /* This prevents the web browser from automatically changing to\n",
       "     * the text insertion cursor when the button is pressed.  We want\n",
       "     * to control all of the cursor setting manually through the\n",
       "     * 'cursor' event from matplotlib */\n",
       "    event.preventDefault();\n",
       "    return false;\n",
       "}\n",
       "\n",
       "mpl.figure.prototype._key_event_extra = function(event, name) {\n",
       "    // Handle any extra behaviour associated with a key event\n",
       "}\n",
       "\n",
       "mpl.figure.prototype.key_event = function(event, name) {\n",
       "\n",
       "    // Prevent repeat events\n",
       "    if (name == 'key_press')\n",
       "    {\n",
       "        if (event.which === this._key)\n",
       "            return;\n",
       "        else\n",
       "            this._key = event.which;\n",
       "    }\n",
       "    if (name == 'key_release')\n",
       "        this._key = null;\n",
       "\n",
       "    var value = '';\n",
       "    if (event.ctrlKey && event.which != 17)\n",
       "        value += \"ctrl+\";\n",
       "    if (event.altKey && event.which != 18)\n",
       "        value += \"alt+\";\n",
       "    if (event.shiftKey && event.which != 16)\n",
       "        value += \"shift+\";\n",
       "\n",
       "    value += 'k';\n",
       "    value += event.which.toString();\n",
       "\n",
       "    this._key_event_extra(event, name);\n",
       "\n",
       "    this.send_message(name, {key: value,\n",
       "                             guiEvent: simpleKeys(event)});\n",
       "    return false;\n",
       "}\n",
       "\n",
       "mpl.figure.prototype.toolbar_button_onclick = function(name) {\n",
       "    if (name == 'download') {\n",
       "        this.handle_save(this, null);\n",
       "    } else {\n",
       "        this.send_message(\"toolbar_button\", {name: name});\n",
       "    }\n",
       "};\n",
       "\n",
       "mpl.figure.prototype.toolbar_button_onmouseover = function(tooltip) {\n",
       "    this.message.textContent = tooltip;\n",
       "};\n",
       "mpl.toolbar_items = [[\"Home\", \"Reset original view\", \"fa fa-home icon-home\", \"home\"], [\"Back\", \"Back to  previous view\", \"fa fa-arrow-left icon-arrow-left\", \"back\"], [\"Forward\", \"Forward to next view\", \"fa fa-arrow-right icon-arrow-right\", \"forward\"], [\"\", \"\", \"\", \"\"], [\"Pan\", \"Pan axes with left mouse, zoom with right\", \"fa fa-arrows icon-move\", \"pan\"], [\"Zoom\", \"Zoom to rectangle\", \"fa fa-square-o icon-check-empty\", \"zoom\"], [\"\", \"\", \"\", \"\"], [\"Download\", \"Download plot\", \"fa fa-floppy-o icon-save\", \"download\"]];\n",
       "\n",
       "mpl.extensions = [\"eps\", \"jpeg\", \"pdf\", \"png\", \"ps\", \"raw\", \"svg\", \"tif\"];\n",
       "\n",
       "mpl.default_extension = \"png\";var comm_websocket_adapter = function(comm) {\n",
       "    // Create a \"websocket\"-like object which calls the given IPython comm\n",
       "    // object with the appropriate methods. Currently this is a non binary\n",
       "    // socket, so there is still some room for performance tuning.\n",
       "    var ws = {};\n",
       "\n",
       "    ws.close = function() {\n",
       "        comm.close()\n",
       "    };\n",
       "    ws.send = function(m) {\n",
       "        //console.log('sending', m);\n",
       "        comm.send(m);\n",
       "    };\n",
       "    // Register the callback with on_msg.\n",
       "    comm.on_msg(function(msg) {\n",
       "        //console.log('receiving', msg['content']['data'], msg);\n",
       "        // Pass the mpl event to the overriden (by mpl) onmessage function.\n",
       "        ws.onmessage(msg['content']['data'])\n",
       "    });\n",
       "    return ws;\n",
       "}\n",
       "\n",
       "mpl.mpl_figure_comm = function(comm, msg) {\n",
       "    // This is the function which gets called when the mpl process\n",
       "    // starts-up an IPython Comm through the \"matplotlib\" channel.\n",
       "\n",
       "    var id = msg.content.data.id;\n",
       "    // Get hold of the div created by the display call when the Comm\n",
       "    // socket was opened in Python.\n",
       "    var element = $(\"#\" + id);\n",
       "    var ws_proxy = comm_websocket_adapter(comm)\n",
       "\n",
       "    function ondownload(figure, format) {\n",
       "        window.open(figure.imageObj.src);\n",
       "    }\n",
       "\n",
       "    var fig = new mpl.figure(id, ws_proxy,\n",
       "                           ondownload,\n",
       "                           element.get(0));\n",
       "\n",
       "    // Call onopen now - mpl needs it, as it is assuming we've passed it a real\n",
       "    // web socket which is closed, not our websocket->open comm proxy.\n",
       "    ws_proxy.onopen();\n",
       "\n",
       "    fig.parent_element = element.get(0);\n",
       "    fig.cell_info = mpl.find_output_cell(\"<div id='\" + id + \"'></div>\");\n",
       "    if (!fig.cell_info) {\n",
       "        console.error(\"Failed to find cell for figure\", id, fig);\n",
       "        return;\n",
       "    }\n",
       "\n",
       "    var output_index = fig.cell_info[2]\n",
       "    var cell = fig.cell_info[0];\n",
       "\n",
       "};\n",
       "\n",
       "mpl.figure.prototype.handle_close = function(fig, msg) {\n",
       "    fig.root.unbind('remove')\n",
       "\n",
       "    // Update the output cell to use the data from the current canvas.\n",
       "    fig.push_to_output();\n",
       "    var dataURL = fig.canvas.toDataURL();\n",
       "    // Re-enable the keyboard manager in IPython - without this line, in FF,\n",
       "    // the notebook keyboard shortcuts fail.\n",
       "    IPython.keyboard_manager.enable()\n",
       "    $(fig.parent_element).html('<img src=\"' + dataURL + '\">');\n",
       "    fig.close_ws(fig, msg);\n",
       "}\n",
       "\n",
       "mpl.figure.prototype.close_ws = function(fig, msg){\n",
       "    fig.send_message('closing', msg);\n",
       "    // fig.ws.close()\n",
       "}\n",
       "\n",
       "mpl.figure.prototype.push_to_output = function(remove_interactive) {\n",
       "    // Turn the data on the canvas into data in the output cell.\n",
       "    var dataURL = this.canvas.toDataURL();\n",
       "    this.cell_info[1]['text/html'] = '<img src=\"' + dataURL + '\">';\n",
       "}\n",
       "\n",
       "mpl.figure.prototype.updated_canvas_event = function() {\n",
       "    // Tell IPython that the notebook contents must change.\n",
       "    IPython.notebook.set_dirty(true);\n",
       "    this.send_message(\"ack\", {});\n",
       "    var fig = this;\n",
       "    // Wait a second, then push the new image to the DOM so\n",
       "    // that it is saved nicely (might be nice to debounce this).\n",
       "    setTimeout(function () { fig.push_to_output() }, 1000);\n",
       "}\n",
       "\n",
       "mpl.figure.prototype._init_toolbar = function() {\n",
       "    var fig = this;\n",
       "\n",
       "    var nav_element = $('<div/>')\n",
       "    nav_element.attr('style', 'width: 100%');\n",
       "    this.root.append(nav_element);\n",
       "\n",
       "    // Define a callback function for later on.\n",
       "    function toolbar_event(event) {\n",
       "        return fig.toolbar_button_onclick(event['data']);\n",
       "    }\n",
       "    function toolbar_mouse_event(event) {\n",
       "        return fig.toolbar_button_onmouseover(event['data']);\n",
       "    }\n",
       "\n",
       "    for(var toolbar_ind in mpl.toolbar_items){\n",
       "        var name = mpl.toolbar_items[toolbar_ind][0];\n",
       "        var tooltip = mpl.toolbar_items[toolbar_ind][1];\n",
       "        var image = mpl.toolbar_items[toolbar_ind][2];\n",
       "        var method_name = mpl.toolbar_items[toolbar_ind][3];\n",
       "\n",
       "        if (!name) { continue; };\n",
       "\n",
       "        var button = $('<button class=\"btn btn-default\" href=\"#\" title=\"' + name + '\"><i class=\"fa ' + image + ' fa-lg\"></i></button>');\n",
       "        button.click(method_name, toolbar_event);\n",
       "        button.mouseover(tooltip, toolbar_mouse_event);\n",
       "        nav_element.append(button);\n",
       "    }\n",
       "\n",
       "    // Add the status bar.\n",
       "    var status_bar = $('<span class=\"mpl-message\" style=\"text-align:right; float: right;\"/>');\n",
       "    nav_element.append(status_bar);\n",
       "    this.message = status_bar[0];\n",
       "\n",
       "    // Add the close button to the window.\n",
       "    var buttongrp = $('<div class=\"btn-group inline pull-right\"></div>');\n",
       "    var button = $('<button class=\"btn btn-mini btn-primary\" href=\"#\" title=\"Stop Interaction\"><i class=\"fa fa-power-off icon-remove icon-large\"></i></button>');\n",
       "    button.click(function (evt) { fig.handle_close(fig, {}); } );\n",
       "    button.mouseover('Stop Interaction', toolbar_mouse_event);\n",
       "    buttongrp.append(button);\n",
       "    var titlebar = this.root.find($('.ui-dialog-titlebar'));\n",
       "    titlebar.prepend(buttongrp);\n",
       "}\n",
       "\n",
       "mpl.figure.prototype._root_extra_style = function(el){\n",
       "    var fig = this\n",
       "    el.on(\"remove\", function(){\n",
       "\tfig.close_ws(fig, {});\n",
       "    });\n",
       "}\n",
       "\n",
       "mpl.figure.prototype._canvas_extra_style = function(el){\n",
       "    // this is important to make the div 'focusable\n",
       "    el.attr('tabindex', 0)\n",
       "    // reach out to IPython and tell the keyboard manager to turn it's self\n",
       "    // off when our div gets focus\n",
       "\n",
       "    // location in version 3\n",
       "    if (IPython.notebook.keyboard_manager) {\n",
       "        IPython.notebook.keyboard_manager.register_events(el);\n",
       "    }\n",
       "    else {\n",
       "        // location in version 2\n",
       "        IPython.keyboard_manager.register_events(el);\n",
       "    }\n",
       "\n",
       "}\n",
       "\n",
       "mpl.figure.prototype._key_event_extra = function(event, name) {\n",
       "    var manager = IPython.notebook.keyboard_manager;\n",
       "    if (!manager)\n",
       "        manager = IPython.keyboard_manager;\n",
       "\n",
       "    // Check for shift+enter\n",
       "    if (event.shiftKey && event.which == 13) {\n",
       "        this.canvas_div.blur();\n",
       "        event.shiftKey = false;\n",
       "        // Send a \"J\" for go to next cell\n",
       "        event.which = 74;\n",
       "        event.keyCode = 74;\n",
       "        manager.command_mode();\n",
       "        manager.handle_keydown(event);\n",
       "    }\n",
       "}\n",
       "\n",
       "mpl.figure.prototype.handle_save = function(fig, msg) {\n",
       "    fig.ondownload(fig, null);\n",
       "}\n",
       "\n",
       "\n",
       "mpl.find_output_cell = function(html_output) {\n",
       "    // Return the cell and output element which can be found *uniquely* in the notebook.\n",
       "    // Note - this is a bit hacky, but it is done because the \"notebook_saving.Notebook\"\n",
       "    // IPython event is triggered only after the cells have been serialised, which for\n",
       "    // our purposes (turning an active figure into a static one), is too late.\n",
       "    var cells = IPython.notebook.get_cells();\n",
       "    var ncells = cells.length;\n",
       "    for (var i=0; i<ncells; i++) {\n",
       "        var cell = cells[i];\n",
       "        if (cell.cell_type === 'code'){\n",
       "            for (var j=0; j<cell.output_area.outputs.length; j++) {\n",
       "                var data = cell.output_area.outputs[j];\n",
       "                if (data.data) {\n",
       "                    // IPython >= 3 moved mimebundle to data attribute of output\n",
       "                    data = data.data;\n",
       "                }\n",
       "                if (data['text/html'] == html_output) {\n",
       "                    return [cell, data, j];\n",
       "                }\n",
       "            }\n",
       "        }\n",
       "    }\n",
       "}\n",
       "\n",
       "// Register the function which deals with the matplotlib target/channel.\n",
       "// The kernel may be null if the page has been refreshed.\n",
       "if (IPython.notebook.kernel != null) {\n",
       "    IPython.notebook.kernel.comm_manager.register_target('matplotlib', mpl.mpl_figure_comm);\n",
       "}\n"
      ],
      "text/plain": [
       "<IPython.core.display.Javascript object>"
      ]
     },
     "metadata": {},
     "output_type": "display_data"
    },
    {
     "data": {
      "text/html": [
       "<img src=\"data:image/png;base64,iVBORw0KGgoAAAANSUhEUgAAAoAAAAHgCAYAAAA10dzkAAAgAElEQVR4Xu3dCZhkZXm38fu44A5GSXABjUaCGg0moEaJ4oYj7pq4ICLEuEVcknEHdwWNknHBUYx+iAtgxN1onGhAXPIlCtHEJS6J+gkuaBIF1Cgq9V1P93uYMzVVXctT/Vb11H2uC4Xu85zld56q/vf7nlPd4KKAAgoooIACCiiwVALNUp2tJ6uAAgoooIACCiiAAdAmUEABBRRQQAEFlkzAALhkF9zTVUABBRRQQAEFDID2gAIKKKCAAgoosGQCBsAlu+CergIKKKCAAgooYAC0BxRQQAEFFFBAgSUTMAAu2QX3dBVQQAEFFFBAAQOgPaCAAgoooIACCiyZgAFwyS64p6uAAgoooIACChgA7QEFFFBAAQUUUGDJBAyAS3bBPV0FFFBAAQUUUMAAaA8ooIACCiiggAJLJmAAXLIL7ukqoIACCiiggAIGQHtAAQUUUEABBRRYMgED4JJdcE9XAQUUUEABBRQwANoDCiiggAIKKKDAkgkYAJfsgnu6CiiggAIKKKCAAdAeUEABBRRQQAEFlkzAALhkF9zTVUABBRRQQAEFDID2gAIKKKCAAgoosGQCBsAlu+CergIKKKCAAgooYAC0BxRQQAEFFFBAgSUTMAAu2QX3dBVQQAEFFFBAAQOgPaCAAgoooIACCiyZgAFwyS64p6uAAgoooIACChgA7QEFFFBAAQUUUGDJBAyAS3bBPV0FFFBAAQUUUMAAaA8ooIACCiiggAJLJmAAXLIL7ukqoIACCiiggAIGQHtAgY0rcCTwJuAmwNcrnMbBwFnAnYCPz3h/NwS+ARwFvGWNbbfn3K7yU+AHwGeB04Ez+mrH3e6MT2dmm1tP87UO8nlA/NMuFwJfBV4FnNb5+qXA84EXTnjGTwa+BbxnwjpXV0CBGQkYAGcE6WYUmINAhKGTgX0rBcCrAzcHvgT8eMbnO25Qa8/5j4FvA1cCbgDcC3hwCaj3Bn5ejm834FbAfwL/PeNjrrG59TQfFQCfCxwERMi7FvBo4AHAI4FTSvG0ATDC/ieAR9RAdB8KKLCzgAHQrlBg4wrUDoDrKTVpABwUeiOcvBN4DRAjTIu8RDC9ZIEPMEb/IgBesQTAONTLl/D/vyVUx9cMgAt8ET00BdYSMADaHwpsXIFxA2BMIz4HuA1wOeCTwFOAL5ZT/x3gM8BJwOYOx3FlvT8APgcMm46M4BXb278Egi8DLwL+tmzraOBwYL+y//b7H+rsaxYBMDb3buAeZcTqZ8Cg7d4aiHP7feCqwHeBvwOeUI6nnWaO8w2Pu5URxbcDTwViu+1ylTIF+iDg+mVU8o3AS4BeWal1+yPgUOD+wBXKMf428JfA7YHdge8D/wQcViyHmf8F8FjgRmVk813AMcDFnWOLcPbiMkUe6+8J/Avw+BLk1ur8QQEw1v+bMtoaI5PDAmD4R3iMkdcIuXHbwDPKFHLUxOhfjNp2f/7EiGKMLLoooEAlAQNgJWh3o8A6CIwTAGNq9L3AB8r9gnEYzwRuBtyyBJb42p+VkbN7AtuAuwB/X4Jd3PcVS4SRM4E7d+4BfGK5LyyC16llajiC1U/K9qLu5eWHf0zDxijSfYAIhRGGYh+xzCoAPgp4fTnWCLr9271aufcsQtbWcry/WQLY48qxtAEw7lF7RznGCM8RiuIc26AS5/Ix4KblHrgvABGWI/zEKOTT+gJgTFlH0IxRyisD7we+VgLcS8v/R4iMaxD7+OUQ8+PLNTyxhOyYlo+gF+EurlG7RAD8JvCVcq4x6nhC2W4cc3x/2DIsAMYvCtcF9i6F/SOAEf4i+H8UiOO7RvllYI/yC0KE7fhFIRzil4rYT/wcivs4Ixi6KKBAJQEDYCVod6PAOgiMEwAjYMQP1rt39h+jN/G1t/aN+EVQvG0Z8YoQ+K9ltKct7Q+A8cM9Qk2sGyNg4yzxnhOjkDH6Fw9wxOjhLANgnOeHgYeUB0L6A+ABwKdLCInANmhpA+DrSlBt14kRtheU8PwfwBHlXrg7Ap/qbCjWixAYIem/OiOnEZLj3sV2uXYJPvftjJb2H0+/+a+VEcsIon/aWTlGWON6drcV4SyufwTEX5V1YxQyQm3c2xcheNjSBsAY4YzauAcwQnuMJL+y/GIQtf0B8JwS+uIXjDZgRsCOB0heXUZQo857AMd5tbiOAusoYABcR1w3rcA6C4wKgPF0cPzgjdGkCAftEq/7CCPXAw7sfD1+yEfoi6nCHwG/WwJKu0p/GNlUglx3JG/QKUfoiuAU+/r1ztRfTAVHOIllViOAcUwxuhQPhMRIW/92Y5o1wkc7KnY2cH7fQbeudy0jfO23bwxE8Ht4eRL2bWXkMO5H7C4xAvrPnTDWTuPGAw9R011iezGlHKEqRhPjv7tLv3lYxwjbIWU0tl03RiPj3rwYrW1HHiOAvbYztR3rxpRzuD+0BMFhLdr/FHCsFw/WxKhpBNz2/sVuAIzp9JiCjun1CMDdJaaB4xePmH6PxQA4TN6vK1BJwABYCdrdKLAOAqMCYNxXFtOgcS9a/2s9vvb/gAg13SXuA4ynPSNIdO8HjHX6w8jDSrCMqeR4MnjQEqNgny/3G0bIiWnVmNqMKcuYhmz3P6sA2E4Bt6Nyg7YbwTZGsiJERSCMeyEj8EQojqV1vQXw752TiunjCDhxP1tMa8f0ddwfOGgJ3wjeb+6MAMb+/qFv5Rgdi49RiWnfCN4RjGLbcR0GmcdIX3xMTv+xxboxvRojq+3IYHsPYDeMjevcjgDGiHBs54fl2rUjie1pdANgTF+fV0YKY/S0u8RH9MQ0+m+VLxoA1+ENwU0qMImAAXASLddVYLEERgXAeOgiAkzc8xf3ZPUvMYrTnQaNMBPTuTGNF/dpRYCM+8rapT8AttOtMer2kSE0bSCLIBgBpV1itCseBJh1AIxp7AhaMb067CGQ9hhiKjpGJZ8FxEfHxDlHkB01AhghLAJN/BMjWjH9Pei9NO6/+59OAAzfuIdy2BLBNB5ECbMY6YtrMWgE8INAjE7GqFq7DBsBjKCdCYDdp4AHHfegEcDYZ/czBKPOEcDFeu/waBQY+KYliwIKbAyBUQEwziI+IDo+by3WXWuJwPRvJfw9sNzTds3ypGzcqxdLfxiJKb3vjLgH8EnAK4DrdKaTYxoyRt1itGiWAbC9vy32F0/rxjLOiFeMYMbUdwS5eJq2vQcwRuHiidl2ObaM1sXIZTzQEuv9dXmYJqbahy2tW/+07aD1477K+NDlmMb9qwHm7T2AMbIYTwG3SzsyGPcARkCMZRYjgJMEwNhn3F8ZfRFPlrdPQcc1aD9E+unl2GIaOkaGx713dET7+m0FFJhUwBHAScVcX4HFEWiDSjyJ+72+w4oQEaN+MZIUo2LxFxfi5v94KGGvMroXU8AxLRtLPJEa9+rFKFR8YHIEs/jrGhGI2qdeB30kSTwYEDf3x/bjwYSYIo2P/4j70eJ+sbjHL572jJGvCDRx32FMecZUYozATRMA46+fRHCIe/fiydYYSYwRvPhaTMvGx6y096j1B8B4KvoxxSSmISOsREiN6ck41gi0g54CjqnQGEmLeyljhC6W+CiXGPmMewDj3CJExvHEvZfxpPP9yihk69Y/AhjBM6ba46NV4t6/GMX7EyACeDxNHP6DzOMeuxjVDfeY8o3jjo/didHa+Cst7TKPABijwXGPYrjE/YcRaON6x1PA0Rdtn8Z0e4wwx3R1fC36MvrRRQEFKgkYACtBuxsF1kGgHQEctOkYYYswF0uElxi9iic/46nO+IEbT4BG+IiHFSLExb/HlG53irIdVYoHBuJPrA36GJjYfgSWGLGK/f2iTDtHIGk/5y+efI0/FRb3u8XIWXwvgmlsrxsAY7QyAtCoPwUXf/2kXWKaNz47L8JPBND2Pr72+xEAu9uN0cd4ICUCX3ycSQTW+GiT+Fr8fyytaxxfjCTGR+JEoIw/gRbn2f6VkVg3Al+EsTCKz+SLj7+Jc4wQFEEtQtiwEcB4IOZlwO3KE8NxLjEqFnXtlP0w8/ig6/jYmv7PAez+hZYI2f3Tsf0ew9oypnDjPsk4v7U+Lib2EQEvrmm7RB9Fff/nAMYTye0StyfE6Gn80hE9GSOafg7gOrxJuEkFhgkYAO0NBRRQYEeBcabWNVNAAQU2tIABcENfPg9eAQXWQcAAuA6oblIBBRZLwAC4WNfDo1FAgfkLGADnfw08AgUUWGcBA+A6A7t5BRRQQAEFFFBg0QQMgIt2RTweBRRQQAEFFFBgnQUMgDng8IuPtYgnCV0UUEABBRRQYOMIxMcUxUc/tZ9ZuXGOfAZHagDMIcafPur/O6K5LVqtgAIKKKCAArUE4q8UfbvWzhZpPwbA3NWIvyN64Xnnncfuu8e/unQFjjnmGI4//nhRBghoM7wttBlso4s9M82bqX0zWO2iiy5in332iW/Gh5RfNI3tRq8xAOau4EoAvPDCCw2AAxw3b97Mli1bcsK7aLU2wy+sNoNtdLFnpnk7tG+GB8A99ojsZwCcpq+sAQPgGl3gG48/sKZ5k7BvDICT9o0943vNpD0TI4AGwEnVXL8rYABcox+2bdvGpk3xp0Fd+gW0Gd4T2gy20cWemead1L5xBHBY3zgFPM0ranuNATDnZ7UCCiiggALVBRwBBANgru0MgDk/qxVQQAEFFKguYAA0AGabzgCYFbReAQUUUECBygIGQANgtuUMgFlB6xVQQAEFFKgsYAA0AGZbzgCYFbReAQUUUECBygIGQANgtuUMgFlB6xVQQAEFFKgsYAA0AGZbzgCYFbReAQUUUECBygIGQANgtuUMgFlB6xVQQAEFFKgsYAA0AGZbzgCYFbReAQUUUECBygIGQANgtuUMgFlB6xVQQAEFFKgsYAA0AGZbzgCYFbReAQUUUECBygIGQANgtuUMgFlB6xVQQAEFFKgsYAA0AGZbzgCYFbReAQUUUECBygIGQANgtuUMgFlB6xVQQAEFFKgsYAA0AGZbzgCYFbReAQUUUECBygIGQANgtuUMgFlB6xVQQAEFFKgsYAA0AGZbzgCYFbReAQUUUECBygIGQANgtuUMgFlB6xVQQAEFFKgsYAA0AGZbzgCYFbReAQUUUECBygIGQANgtuUMgFlB6xVQQAEFFKgsYAA0AGZbzgCYFbReAQUUUECBygIGQANgtuUMgFlB6xVQQAEFFKgsYAA0AGZbzgCYFbReAQUUUECBygIGQANgtuUMgFlB6xVQQAEFFKgsYAA0AGZbzgCYFbReAQUUUECBygIGQANgtuUMgFlB6xVQQAEFFKgsYAA0AGZbzgCYFbReAQUUUECBygIGQANgtuUMgFlB6xVQQAEFFKgsYAA0AGZbzgCYFbReAQUUUECBygIGQANgtuUMgFlB6xVQQAEFFKgsYAA0AGZbzgCYFbReAQUUUECBygIGQANgtuUMgFlB6xVQQAEFFKgsYAA0AGZbzgCYFbReAQUUUECBygIGQANgtuUMgFlB6xVQQAEFFKgsYAA0AGZbzgCYFbReAQUUUECBygIGQANgtuUMgFlB6xVQQAEFFKgsYAA0AGZbzgCYFbReAQUUUECBygIGQANgtuUMgFlB6xVQQAEFFKgsYAA0AGZbzgCYFbReAQUUUECBygIGQANgtuUMgFlB6xVQQAEFFKgsYAA0AGZbzgCYFbReAQUUUECBygIGQANgtuUMgFlB6xVQQAEFFKgsYAA0AGZbzgCYFbReAQUUUECBygIGQANgtuUMgFlB6xVQQAEFFKgsYAA0AGZbzgCYFbReAQUUUECBygIGQANgtuUMgFlB6xVQQAEFFKgsYAA0AGZbzgCYFbReAQUUUECBygIGQANgtuUMgFlB6xVQQAEFFKgsYAA0AGZbzgCYFbReAQUUUECBygIGQANgtuUMgFlB6xVQQAEFFKgsYAA0AGZbzgCYFbReAQUUUECBygIGQANgtuUMgFlB6xVQQAEFFKgsYAA0AGZbzgCYFbReAQUUUECBygIGQANgtuUMgFlB6xVQQAEFFKgsYAA0AGZbzgCYFbReAQUUUECBygIGQANgtuUMgFlB6xVQQAEFFKgsYAA0AGZbzgCYFbReAQUUUECBygIGQANgtuUMgFlB6xVQQAEFFKgsYAA0AGZbzgCYFbReAQUUUECBygIGQANgtuUMgFlB6xVQQAEFFKgsYAA0AGZbzgCYFbReAQUUUECBygIGQANgtuUMgFlB6xVQQAEFFKgsYAA0AGZbzgCYFbReAQUUUECBygIGQANgtuUMgFlB6xVQQAEFFKgsYAA0AGZbzgCYFbReAQUUUECBygIGQANgtuUMgFlB6xVQQAEFFKgsYACcawDsfQy4HfBz4FLgPOBEaP66ch9kdmcAzOhZq4ACCiigwBwEDIDzDYBnAZ+A5rmr1773IODtwJ2g+cQc+mGaXRoAp1GzRgEFFFBAgTkKGAAXKgCuhMAfAC+BZgv0rgS8EIhguAfwBeBp0Hy6BMYjgRcDxwPPAK4NnAE8CXgZ8OAyuviCHUcVe7cFXgrcErgYeCvwfGhiFDKO4abAFuDWwP8CHwKeDs1FA3rVADjHF7C7VkABBRRQYBoBA+DCBMDe5YGHlDB2L2g+DL0TgTsC9y/TwxHsng/cFJrvQC8C4BuBVwDPBq4HnAt8FzgWeD/wQOB04EbQfBt6+wHnAI8E3gnsXdZ7BzQvgd7VgS8DpwHPAa4J/A3wQ2geMCwAHnbYhRx55O5s2jRNGw6v2baNnbbZfm2t701yFGttb5LtjFq31n7iOI47Do6NDhhz6T+2+O8TToCPfGTHDcR2Dzxwx2sS654THVWW2O+k16a7fvz76afDKaeM7otB++lWtcfWtTjqKDjssJ37qq3r32bXctT+utuIfx/2ehi3r8fZX7vOoGs+qL5dL77XLnGc7bWNaxnXOK5B6zRo3a99Dfbdd7XP2u93r1v/vrvH2a3tmsW++/u2f9+x/iiXUd8ftY1R16f/2o6zv0Hd3J7bpO+ba72+p91m/2tl0veQMd9q1lxtmvfIbk23n4e9nie9Vt2+7b73dZ27VoPcuq+5tseH9dha7xuzMO5uwwA4/wAYo3E/A64RQ2/AMdCcAL0G+PFqKGz+dvtF631uNZw1LysB8HWrtc2vVtfpvRu4CjSHdmouBB4OzQeg9ypgT2gO73z/YUCMEu4LvcOAVwLX7YwI3gr4F+A60Hy/rwlXRgD33PNCjjhid7bEuOEMl82b2Wmb7dfW+t4kh7DW9ibZzqh1a+0njuOAA+Dc+FVgzKX/2OK/TzoJfvrTHTcQ2z344B2vSax79tnb14v9TnptuuvHv596KlxwwfCDH9eyPbauxV57weGH79xX7d76j71rOei8Bh1lrBfLsNfDuH09zv7adQZd80H17XrtMbbH2V7buJZxjeMatE6D1j3/fNh779U+a7/fvW79++4eZ7e26x777u/b/n3H+qNcRn1/1DZGXZ/+azvO/qbpk2GvgLVe36N6b9g2+18rk76HjPlWs+Zq476uuxvp1rRf777uhvXhuMfb7dvue1/XuWs1yK37mmt7fFiPrfW+Me4xj7ueAXD+AbDcA9i7WhnJ+03gHmU6N34E3gKaL22/oL0YtfseNE8oAfBF0Nyg8/2Yzv0FNDHCV5ZejAg+BZrToBfTuXcqobNd4XKsODR7QO9pq1POzW069TEqGNO/t4GmM9azsoYBcMxX2zRvbmNueqfVJn3z7j+2+G8D4CqrAXB7wOuGRQPg9pedAXDad6od66Z5jzQATm9vAFyYABgXsbcb8O9lBO41wE/KCOAHOmHss6tTupeNAE4aAE9efeK4edTgtuk9tOz/en0jgDGeFKOCA0cAr3zlo7n5zXdbGTnYtGnTyj+zWEb9Jt4/wjLNG/E0bzrTnFut/fSHlnGO1QA4/Ie5AdAAGN3RHzTWGmUa5zXXbrMN1ePWjHp9OwK48wxF5lrtaiOA27ZtI/6J5ZJLLmHr1q3xr/GMwaB7/Cdpyw25bky1zmnp9T0FvBIC476+lwM3KQ93HFTu4zsfeMLqVC03K/fzxbqTBsADgY8CEQDfB8TU8Y1W99dsg15MRUcIfVu53zDuAYz7AS9c6x5Ap4BHt5ABcLwp0XByCni1n8b5hab7A2rQ9Gn/L0lOAY+2HfWLZ39oG+c6DXqHmDasOQW88y9sreWoazPptdrVAmC3Dx0BnO8I4JnAJ7d/DMxKAIzp2C8C71oNdytPAcfDITHVGk8BP7XvKeBxAuB3Sl0EudhHPN0bTw//HnAF4JvA66B5Q/n+zcp0dITFeAr4g6tPGTdxL2H/4hTw6Oy3ww/zSd+Axtz8Dqs5Bbz9h3z/fWXeA7jjfXvtD0zvAdw5VHRfVI4ATvNONFnNNL8kOwU8mbEBcEevOY4ATn/hFqhyJQD6FPDoKzLNE26jtzp4jUmf4Os/tvhvnwJetfUp4O1P+YZH+8SwTwFvf+1N+mRpWzntE7s+Bbyz/aCnxWOtYU+jj/ve6lPA40ptzPUMgLnr5ucA5vysVkABBRRQoLqAU8BznQKufr3XY4cGwPVQdZsKKKCAAgqso4AB0ACYbS8DYFbQegUUUEABBSoLGAANgNmWMwBmBa1XQAEFFFCgsoAB0ACYbTkDYFbQegUUUEABBSoLGAANgNmWMwBmBa1XQAEFFFCgsoAB0ACYbTkDYFbQegUUUEABBSoLGAANgNmWMwBmBa1XQAEFFFCgsoAB0ACYbTkDYFbQegUUUEABBSoLGAANgNmWMwBmBa1XQAEFFFCgsoAB0ACYbTkDYFbQegUUUEABBSoLGAANgNmWMwBmBa1XQAEFFFCgsoAB0ACYbTkDYFbQegUUUEABBSoLGAANgNmWMwBmBa1XQAEFFFCgsoAB0ACYbTkDYFbQegUUUEABBSoLGAANgNmWMwBmBa1XQAEFFFCgsoAB0ACYbTkDYFbQegUUUEABBSoLGAANgNmWMwBmBa1XQAEFFFCgsoAB0ACYbTkDYFbQegUUUEABBSoLGAANgNmWMwBmBa1XQAEFFFCgsoAB0ACYbTkDYFbQegUUUEABBSoLGAANgNmWMwBmBa1XQAEFFFCgsoAB0ACYbTkDYFbQegUUUEABBSoLGAANgNmWMwBmBa1XQAEFFFCgsoAB0ACYbTkDYFbQegUUUEABBSoLGAANgNmWMwBmBa1XQAEFFFCgsoAB0ACYbTkDYFbQegUUUEABBSoLGAANgNmWMwBmBa1XQAEFFFCgsoAB0ACYbTkDYFbQegUUUEABBSoLGAANgNmWMwBmBa1XQAEFFFCgsoAB0ACYbTkDYFbQegUUUEABBSoLGAANgNmWMwBmBa1XQAEFFFCgsoAB0ACYbTkDYFbQegUUUEABBSoLGAANgNmWMwBmBa1XQAEFFFCgsoAB0ACYbTkDYFbQegUUUEABBSoLGAANgNmWMwBmBa1XQAEFFFCgsoAB0ACYbTkDYFbQegUUUEABBSoLGAANgNmWMwBmBa1XQAEFFFCgsoAB0ACYbTkDYFbQegUUUEABBSoLGAANgNmWMwBmBa1XQAEFFFCgsoAB0ACYbTkDYFbQegUUUEABBSoLGAANgNmWMwBmBa1XQAEFFFCgsoAB0ACYbTkDYFbQegUUUEABBSoLGAANgNmWMwBmBa1XQAEFFFCgsoAB0ACYbTkDYFbQegUUUEABBSoLGAANgNmWMwBmBa1XQAEFFFCgsoAB0ACYbTkDYFbQegUUUEABBSoLGAANgNmWMwBmBa1XQAEFFFCgsoAB0ACYbTkDYFbQegUUUEABBSoLGAANgNmWMwBmBa1XQAEFFFCgsoAB0ACYbTkDYFbQegUUUEABBSoLGAANgNmWMwBmBa1XQAEFFFCgsoAB0ACYbTkDYFbQegUUUEABBSoLGAANgNmWMwBmBa1XQAEFFFCgsoAB0ACYbTkDYFbQegUUUEABBSoLGAANgNmWMwBmBa1XQAEFFFCgsoAB0ACYbTkDYFbQegUUUEABBSoLGAANgNmWMwBmBa1XQAEFFFCgsoAB0ACYbTkDYFbQegUUUEABBSoLGAANgNmWMwBmBa1XQAEFFFCgsoAB0ACYbTkDYFbQegUUUEABBSoLGAANgNmWMwBmBa1XQAEFFFCgsoAB0ACYbTkDYFbQegUUUEABBSoLGAANgNmWMwBmBa1XQAEFFFCgsoAB0ACYbTkDYFbQegUUUEABBSoLGAANgNmWMwBmBa1XQAEFFFCgsoABcJcOgL2DgbOAK0BzKfSeBRwMzT1m2GcGwBliuikFFFBAAQVqCBgAN1wA7L0JuDw0jxjdICsB8EzgiqsBcNKl9zzgbtDcYY1KA+CkrK6vgAIKKKDAnAUMgAbANVpwJQDeFZo7GgDn/Ep19woooIACCsxQwAC4oQNg7xvAi6A5eXtP9GKkL0btzoT+EcD+Eb3elYAIeQ8Gfg34PPDn0HwOeg8DYrTxcsDPgB5wKDSf6us/RwBn+IJ0UwoooIACCtQQMAAuXwDsjOj1TgGuBxwJXAA8rgTCfaG5CCYbATzxxN058EDYtKlG69bfx3HHwbHHrr3fbdsGn/+wr097FrPcXndb42x3HIdJz2vSY5h0+/NafxzPYccWtbHM8vU0zfFMUzPonEZtp/98h/33MJNR2+8e06BtD3OeZLuz7LP+/Wb6of/1Fcd5zjmj388Gnc9RR8Ep8ZOjLOvhM+77wSCjSV4vUR8O3Z9ba53PoGswzjEMes8cdI6ZazxN7xkAlzYA9q4N/ADYD5qvdUYQvwo8H5rTJg2Ad77z7hx8MGzZMk0rLn7NAQfAueeufZybNw8+/2Ffn/asZ7m97rbG2e44DpOe16THMOn257X+OJ7Dji1qY5nl62ma45mmZtA5jdpO//kO++9hJqO23z2mQdse5jzJdmfZZ/37zfRD/+srjvPss0e/nw06n732ggtiuKAs64+mmz4AACAASURBVOEz7vvBIKNJXi9RHw7dn1trnc+gazDOMQx6zxx0jplrPE3vGQCXNwDeBvgn4EedxmlWHxjhhdC8zAC440tqnOBjAJzmbQjGfcOfbuvzq8r8cFyPHwbTHM80NQbAfM8ZAFcNRwWybuCbtFcNgBexxx57BHP8z0X5rt14W4jQs4GW7lPAvX8D3gDNiasn0Ivp3PNH3ANYpoB7NwDiHsIbQhM1A5bec4BDxnkI5Oijj+aMM3Zj773h+OM3sWmScfgNom8AXL1Q4zhMekkNgDuLGQBXTdof8K1H92tdtUl++DsC6AhgGy6XbQRw27ZtxD+xXHLJJWzdutUAOOkPrPmtv0MAjIc/brr6cMbKQxoRBB9eQtuwh0C69wC+a/UzAnkiNN+C3jWAg4DPQnMB9B4NxF1vMU388yHnfNlDIE4BD/9tdZIfTuP01iy3N2n4MgCOc4VW18lcJwOgAbB/dGtY+B3VkU4BDxZyBNARwI04Ang5aI4sI34RAm8PfBd4OvDuCQJgPAX8DOBw4DrAxWVa+AnQfA96Ee7OAA5kdar83tD8Y99LyQDYAXEKeNSPouFvxN2Rnknu45luj3WqDIDbnUdZDBqVcwRwRz8D4I6v23Huv1vrlW4ANAButAAYAe/r0Dy1zo+wkXu5LAD6FDD4FPDIfhm4wrhP/U239flVZZ6QXI8nAqc5nmlqBomP2o5PAe+o5lPAqx6jnsrt3m00qsf6+9KngA2AGygA9m4MfBp4DDQRBBdh8XMAF+EqeAwKKKCAAgpMIOBTwBvmKeDeScB9gVOhedoE13i9VzUArrew21dAAQUUUGDGAgbADRMAZ3zlZ7c5A+DsLN2SAgoooIACVQQMgAbAbKMZALOC1iuggAIKKFBZwABoAMy2nAEwK2i9AgoooIAClQUMgAbAbMsZALOC1iuggAIKKFBZwABoAMy2nAEwK2i9AgoooIAClQUMgAbAbMsZALOC1iuggAIKKFBZwABoAMy2nAEwK2i9AgoooIAClQUMgAbAbMsZALOC1iuggAIKKFBZwABoAMy2nAEwK2i9AgoooIAClQUMgAbAbMsZALOC1iuggAIKKFBZwABoAMy2nAEwK2i9AgoooIAClQUMgAbAbMsZALOC1iuggAIKKFBZwABoAMy2nAEwK2i9AgoooIAClQUMgAbAbMsZALOC1iuggAIKKFBZwABoAMy2nAEwK2i9AgoooIAClQUMgAbAbMsZALOC1iuggAIKKFBZwABoAMy2nAEwK2i9AgoooIAClQUMgAbAbMsZALOC1iuggAIKKFBZwABoAMy2nAEwK2i9AgoooIAClQUMgAbAbMsZALOC1iuggAIKKFBZwABoAMy2nAEwK2i9AgoooIAClQUMgAbAbMsZALOC1iuggAIKKFBZwABoAMy2nAEwK2i9AgoooIAClQUMgAbAbMsZALOC1iuggAIKKFBZwABoAMy2nAEwK2i9AgoooIAClQUMgAbAbMsZALOC1iuggAIKKFBZwABoAMy2nAEwK2i9AgoooIAClQUMgAbAbMsZALOC1iuggAIKKFBZwABoAMy2nAEwK2i9AgoooIAClQUMgAbAbMsZALOC1iuggAIKKFBZwABoAMy2nAEwK2i9AgoooIAClQUMgAbAbMsZALOC1iuggAIKKFBZwABoAMy2nAEwK2i9AgoooIAClQUMgAbAbMsZALOC1iuggAIKKFBZwABoAMy2nAEwK2i9AgoooIAClQUMgAbAbMsZALOC1iuggAIKKFBZwABoAMy2nAEwK2i9AgoooIAClQUMgAbAbMsZALOC1iuggAIKKFBZwABoAMy2nAEwK2i9AgoooIAClQUMgAbAbMsZALOC1iuggAIKKFBZwABoAMy2nAEwK2i9AgoooIAClQUMgAbAbMsZALOC1iuggAIKKFBZwABoAMy2nAEwK2i9AgoooIAClQUMgAbAbMsZALOC1iuggAIKKFBZwABoAMy2nAEwK2i9AgoooIAClQUMgAbAbMsZALOC1iuggAIKKFBZwABoAMy2nAEwK2i9AgoooIAClQUMgAbAbMsZALOC1iuggAIKKFBZwABoAMy2nAEwK2i9AgoooIAClQUMgAbAbMsZALOC1iuggAIKKFBZwABoAMy2nAEwK2i9AgoooIAClQUMgAbAbMsZALOC1iuggAIKKFBZwABoAMy2nAEwK2i9AgoooIAClQUMgAbAbMsZALOC1iuggAIKKFBZwABoAMy2nAEwK2i9AgoooIAClQUMgAbAbMsZALOC1iuggAIKKFBZwABoAMy2nAEwK2i9AgoooIAClQUMgAbAbMsZALOC1iuggAIKKFBZwABoAMy2nAEwK2i9AgoooIAClQUMgAbAbMsZALOC1iuggAIKKFBZwABoAMy2nAEwK2i9AgoooIAClQUMgAbAbMsZALOC1iuggAIKKFBZwABoAMy2nAEwK2i9AgoooIAClQUMgAbAbMsZALOC1iuggAIKKFBZwAC4ywXA3unAxdA8Zvpe6n0XeAo0p42xDQPgGEiuooACCiigwCIJGAAXKgD2LgZ6pUGuBFwe+CmrxxhfPxSaT63dQLMOgL39gH8H9obmOwP2bQBcpFe0x6KAAgoooMAYAgbAhQqA3SvWexFwEDR3GeM6dlaZeQC8KfBFYB8D4GRXwrUVUEABBRRYVAED4IYKgL3fAT4L3ACa721vqt5HgU9DcwysBMBfAr8C7g/8D/AqaF61un7vasCbgdsB1wDOB7ZA88bO9soUMO8s9VcpI5ExCvlGaDZ3GnplBPDZz76QF70o/nWyZds22LRpcM1a35tsL5OtPa/9TnKUG+EYJzmf9Vw3rM45B449dj33Mp9t9/dB+9/t/x91FJxyyvZjO+641X8/8MBVk1jCJb4eX4vl9NNXa+Jr45q1222319WIYzjssNX9xT6Gvd4HCQ7r8/7zjNq1jre7nexrZ9C+J736o45h1Pcn3d8k68e+22WSazXJPhZ13fVyn+S1VNPGALihAmC0Ru9jwEegKW/lvZsAXwJuAs23SgB8IPAo4NQS9D4I/Ak074FehL77Ae8FfgLcFzgDuBs0H19tvu49gCtTwLH9mAKOYNi/rATA/fe/kM99bvIAuHkzbNkyuOXX+t56vkjmtd9JzmkjHOMk57Oe64bV2WfDueeu517ms+3+Pmj/u/3/vfaCCy7YfmwHHLD67wcfvGoSS7jE1+NrsZx66mpNfG1cs3a77fa6GnEMhx++ur/Yx7DX+yDBYX3ef55Ru9bxdreTfe0M2vekV3/UMYz6/qT7m2T92He7THKtJtnHoq67Xu6TvJZq2hgAN14AfCjwEmhutNoovZcBt4DmnuW/YwQwwtodtjdS75XAb0Fzn8HN1fsw8BlonlO20XkI5LIAuOYUsAGw5ssW1uuNqu5Z1NmbAXC7swEw/9oxANZ53c5jL+v1vmoAnMfVHG+f8YDFAi7D7gHsXRE4DzgK+IcyhftoaN7fCYC/gOYRnQD45DICeCvoXRl4KXAvYM+yTkzxvhmax04bAPfc82iOOGK3lfJNmzat/DPO4gjgOEo7r7Neb1TTHc1iVxkADYCOAI7/GnUEcHyrcddcpAC4bds24p9YLrnkErZu3Rr/ugdw0bjnsyutt8ECYND3Yvr35sDbgROAG0JzaScAXh+aO3YC4CuAfaG5N/ReADxgdRq4+UapiRHAb23/6JgdpoD3Bb4y6ilgRwDrviQMgON7GwANgAbAyV4v7dpOAY/vttaaixQAu8fpFPCGmwJeCYA3AL4KfHn1Xr7m+Z2wF1PAcQ/gI0tAvC0Q9wD+KTTvhl6EwYOAQ8o9gA8GTgbeMiQAxo198SDJIdCcNaDJvQdwNu8RE23FADg+lwHQAGgAnOz1YgAc32ucNQ2A4yjNZ50NOAK4EgJjyvcewI2g+XYnAMaHN7dPAcdI34+AV0IT9wFG3V5APBcYITAeAnkHcD3gh50AGJ/399TtHwTdezZwNBCfTXgyNE/tXCqfAp5D367X02pzOJV136VPAW8n9ilgyL52fAp43V+yc9tBtjeGHbhPAc/tko7c8YIGwFHHvfJgR4S/eKJ3nosfBD1PffetgAIKKKDAFAJOAS/sFPBaV7N34/j0hnIfX/nolimu/mxKDICzcXQrCiiggAIKVBMwAG64ANiLz+yLR2xfC80zq3XK8B0ZABfgIngICiiggAIKTCJgANxwAXCSy1tlXQNgFWZ3ooACCiigwOwEDIAGwGw3GQCzgtYroIACCihQWcAAaADMtpwBMCtovQIKKKCAApUFDIAGwGzLGQCzgtYroIACCihQWcAAaADMtpwBMCtovQIKKKCAApUFDIAGwGzLGQCzgtYroIACCihQWcAAaADMtpwBMCtovQIKKKCAApUFDIAGwGzLGQCzgtYroIACCihQWcAAaADMtpwBMCtovQIKKKCAApUFDIAGwGzLGQCzgtYroIACCihQWcAAaADMtpwBMCtovQIKKKCAApUFDIAGwGzLGQCzgtYroIACCihQWcAAaADMtpwBMCtovQIKKKCAApUFDIAGwGzLGQCzgtYroIACCihQWcAAaADMtpwBMCtovQIKKKCAApUFDIAGwGzLGQCzgtYroIACCihQWcAAaADMtpwBMCtovQIKKKCAApUFDIAGwGzLGQCzgtYroIACCihQWcAAaADMtpwBMCtovQIKKKCAApUFDIAGwGzLGQCzgtYroIACCihQWcAAaADMtpwBMCtovQIKKKCAApUFDIAGwGzLGQCzgtYroIACCihQWcAAaADMtpwBMCtovQIKKKCAApUFDIAGwGzLGQCzgtYroIACCihQWcAAaADMtpwBMCtovQIKKKCAApUFDIAGwGzLGQCzgtYroIACCihQWcAAaADMtpwBMCtovQIKKKCAApUFDIAGwGzLGQCzgtYroIACCihQWcAAaADMtpwBMCtovQIKKKCAApUFDIAGwGzLGQCzgtYroIACCihQWcAAaADMtpwBMCtovQIKKKCAApUFDIAGwGzLGQCzgtYroIACCihQWcAAaADMtpwBMCtovQIKKKCAApUFDIAGwGzLGQCzgtYroIACCihQWcAAaADMtpwBMCtovQIKKKCAApUFDIAGwGzLGQCzgtYroIACCihQWcAAaADMtpwBMCtovQIKKKCAApUFDIAGwGzLGQCzgtYroIACCihQWcAAaADMtpwBMCtovQIKKKCAApUFDIAGwGzLGQCzgtYroIACCihQWcAAaADMtpwBMCtovQIKKKCAApUFDIAGwGzLGQCzgtYroIACCihQWcAAaADMtpwBMCtovQIKKKCAApUFDIAGwGzLGQCzgtYroIACCihQWcAAaADMtpwBMCtovQIKKKCAApUFDIAGwGzLGQCzgtYroIACCihQWcAAaADMtpwBMCtovQIKKKCAApUFDIAGwGzLGQCzgtYroIACCihQWcAAaADMtpwBMCtovQIKKKCAApUFDIAGwGzLGQCzgtYroIACCihQWcAAaADMtpwBMCtovQIKKKCAApUFDIAGwGzLGQCzgtYroIACCihQWcAAaADMtpwBMCtovQIKKKCAApUFDIAGwGzLGQCzgtYroIACCihQWcAAaADMtpwBMCtovQIKKKCAApUFDIAGwGzLGQCzgtYroIACCihQWcAAaADMtpwBMCtovQIKKKCAApUFDIAGwGzLGQCzgtYroIACCihQWcAAaADMtpwBMCtovQIKKKCAApUFDIAGwGzLGQCzgtYroIACCihQWcAAaADMtpwBMCtovQIKKKCAApUFDIAGwGzLGQCzgtYroIACCihQWcAAaADMtpwBMCtovQIKKKCAApUFDIAGwGzLGQCzgtYroIACCihQWcAAuPQBsLcP8EXgd6H55hT9ZwCcAs0SBRRQQAEF5ilgAJxpAOx9DLgj8Fho3rD9wvauDnwXuCqwLzRfn89F7z0PuBs0d5jh/g2AM8R0UwoooIACCtQQMADONgCeBewJ/ByaAzsB8M+AxwM3nz4A9q4IzS9yTbESAO8KTYTUWS0GwFlJuh0FFFBAAQUqCRgAZx8A/y9wBPBAaD6zeh17/wa8Hnj19gDYuy3wUuCWwMXAW4EXQPOrUnMpsBl40Or0LH8KzTugdy/g2cB+QKx7FjQPht4NgW8AN9k+wtg7ePX7XAF4KPAm4HLAz+KggEOB8wfUHQU8BYjp4W8BJ0DzliE9uRIA3/WuC3ngA+NfN/6ybRts2jT785h2u9PWZc/guOPg2GOzW5lv/Vp207hOUzMLgbWuxbBjiq+ffjqccsqORxBfP+ec1Wvb1sb/xxJ9335tV7j+s7B3G7u2wLxe04ugagCcfQD8RAlmN4TmkdD7wxLu7gL852pA44rAOcAjgXcCewPvB94BzUs6AfDLwAOg+Qr0rlSml98HPLysH2HuIGjOKgEwppY7U8wrAfDM1f01l8KgEcCV4Nip6/0RcDJwP+BsII77vcDh0MQx9i8rAfDxj7+QrVt3jQC4eTNs2TL7l+e02522LnsGBxwA556b3cp869eym8Z1mppZCKx1LYYdU3z91FPhggt2PIL4+tlnr17btjb+P5bo+/Zru8L1n4W929i1Beb1ml4EVQPg+gTAGO2LBytuALy2/Ptp24MWT16dKm4O394EvYeVEcB9OwHwMdC8sbPOB1ZH65on7dw8/UEu1hg7AHZGDnsfXj3eJkYAy9J7JfDb0NzTADj9y3baN5pp66Y/0tXKXSEAGAANgNnXgfW7tsC83l8XQdUAuC4BsHku9N4DfAFWwl6Euit3AuBrgDuVqdi2D2I0r4Fmj04AvDs0H+0Esdje66DZuo4BMILrVmgiuLYB8AnA46C5xbAAuP/+R3OXu+y28u1Nmzat/LNRl/V6Q5h2u9PWZf0NgDsLLuK1cAQw2+nWL7PAvF7T8zLftm0b8U8sl1xyCVu3rsSJyB0XzeuY5rnfZnY778X9dp+AlQAYCehDwBnQPHTHKdqVe/guheZRw/fdi3sA44ndmMJtg9jfrk4jNxEq+5betYD/AvaH5vOr31wZVYx7C9sp4OcAh+z4EMhOU8COADoFvNI9BkAD4Ea/BWB27+1uaVcVWLYA2L2OjgCu2wjgSgC7M/AVaL6z40MaRFiLkb0IgHFPXzzMcaPyAEe5HXtgADwEiJHFeMgkwmB7D2AJib3/AD5YHh6Je/vOAG7VCYCPBuK2/v2g+XkJiX0Pj/T+GIiPsLn/aphdGamMfT4CmjjW/sV7AMd8Z5z2jWbaujEPa+hqBkADoAEw+yqyftEF5vX+ugguBsDZBsAIYp9cHQHcaYSu/2GLWwMvBn6vPKUbH8Ic07vl8wN7EQpjtK4zArgSKu8DxEheTCvHx8KcuTrCuPK92wMnAb8JxJPHb1udzr1sBDDCWoTC+IiaGPm8N/DtHR8CWdlOPJwS9wDGwyntU8BvHtKwPgU85it52qfNpq0b87CGrrYrPAXqU8A+BZx9HVi/awvM6/11EVQNgDMNgItwSasfg58DWJ3cHSqggAIKKJATMAAaAHMdBAbArKD1CiiggAIKVBYwABoAsy1nAMwKWq+AAgoooEBlAQOgATDbcgbArKD1CiiggAIKVBYwABoAsy1nAMwKWq+AAgoooEBlAQOgATDbcgbArKD1CiiggAIKVBYwABoAsy1nAMwKWq+AAgoooEBlAQOgATDbcgbArKD1CiiggAIKVBYwABoAsy1nAMwKWq+AAgoooEBlAQOgATDbcgbArKD1CiiggAIKVBYwABoAsy1nAMwKWq+AAgoooEBlAQOgATDbcgbArKD1CiiggAIKVBYwABoAsy1nAMwKWq+AAgoooEBlAQOgATDbcgbArKD1CiiggAIKVBYwABoAsy1nAMwKWq+AAgoooEBlAQOgATDbcgbArKD1CiiggAIKVBYwABoAsy1nAMwKWq+AAgoooEBlAQOgATDbcgbArKD1CiiggAIKVBYwABoAsy1nAMwKWq+AAgoooEBlAQOgATDbcgbArKD1CiiggAIKVBYwABoAsy1nAMwKWq+AAgoooEBlAQOgATDbcgbArKD1CiiggAIKVBYwABoAsy1nAMwKWq+AAgoooEBlAQOgATDbcgbArKD1CiiggAIKVBYwABoAsy1nAMwKWq+AAgoooEBlAQOgATDbcgbArKD1CiiggAIKVBYwABoAsy1nAMwKWq+AAgoooEBlAQOgATDbcgbArKD1CiiggAIKVBYwABoAsy1nAMwKWq+AAgoooEBlAQOgATDbcgbArKD1CiiggAIKVBYwABoAsy1nAMwKWq+AAgoooEBlAQOgATDbcgbArKD1CiiggAIKVBYwABoAsy1nAMwKWq+AAgoooEBlAQOgATDbcgbArKD1CiiggAIKVBYwABoAsy1nAMwKWq+AAgoooEBlAQOgATDbcgbArKD1CiiggAIKVBYwABoAsy1nAMwKWq+AAgoooEBlAQOgATDbcgbArKD1CiiggAIKVBYwABoAsy1nAMwKWq+AAgoooEBlAQOgATDbcgbArKD1CiiggAIKVBYwABoAsy1nAMwKWq+AAgoooEBlAQOgATDbcgbArKD1CiiggAIKVBYwABoAsy1nAMwKWq+AAgoooEBlAQOgATDbcgbArKD1CiiggAIKVBYwABoAsy1nAMwKWq+AAgoooEBlAQOgATDbcgbArKD1CiiggAIKVBYwABoAsy1nAMwKWq+AAgoooEBlAQOgATDbcgbArKD1CiiggAIKVBYwABoAsy1nAMwKWq+AAgoooEBlAQOgATDbcgbArKD1CiiggAIKVBYwABoAsy1nAMwKWq+AAgoooEBlAQOgATDbcgbArKD1CiiggAIKVBYwABoAsy1nAMwKWq+AAgoooEBlAQOgATDbcgbArKD1CiiggAIKVBYwABoAsy1nAMwKWq+AAgoooEBlAQOgATDbcgbArKD1CiiggAIKVBYwABoAsy1nAMwKWq+AAgoooEBlAQOgATDbcgbArKD1CiiggAIKVBYwABoAsy1nAMwKWq+AAgoooEBlAQOgATDbcgbArKD1CiiggAIKVBYwABoAsy1nAMwKWq+AAgoooEBlAQOgATDbcgbArKD1CiiggAIKVBYwABoAsy1nAMwKWq+AAgoooEBlAQOgATDbcgbArKD1CiiggAIKVBYwABoAsy1nAMwKWq+AAgoooEBlAQOgATDbcgbArKD1CiiggAIKVBYwABoAsy1nAMwKWq+AAgoooEBlAQOgATDbcgbArKD1CiiggAIKVBYwABoAsy1nAMwKWq+AAgoooEBlAQOgATDbcgbANQS3bdvGpk2bssa7ZL02wy+rNoNtdLFnpnkztG8GqxkADYDTvJ66NQbANQQ3b97Mli1bssa7ZL02wy+rNoNtdLFnpnkztG8MgMP6ppmmoay5TMAAaACc6uXgm7I/zCdtHHvGnpm0Z2J9+8YAaACc5pUzumYlAJ533nnsvnv8q0tX4JhjjuH4448XZYCANsPbQpvBNrrYM9O8mdo3wwPgPvvsE9/cA7hoGtuNXuMIYO4KXh84P7cJqxVQQAEFFFBgTgJ7A9+e077nulsDYI4//K4HXJzbjNUKKKCAAgooUFngGsB3gF7l/S7E7gyAC3EZPAgFFFBAAQUUUKCegAGwnrV7UkABBRRQQAEFFkLAALgQl8GDUEABBRRQQAEF6gkYAHPWLwAeBcQjwOcCRwNfzG1yoaqfBzwH+CmrnxkZ90l8ADi8HOXvAicCBwA/At4AhEl3GWU0zjYWAeUh5fruD1wduCJwaefAxjmPWViM2sY8rEbZhNPPgF92+uh2fa+VUec1C9/aNi8B7gXcEPgxcDbw9L4Hx2ZxXrPYxiLaLGvfPBd4BLAncEn52fJM4F99v2Ecm2Xtm4lfwwbAickuK3ga8ATgUOA/gQhL8aL97RKYpt/y4lTGOd0VuOOAQ4oQ9FXgZOCF5bz/DjgBeFVZf5TRONtYFI1DgGsBVwXe2BcAxzmPWViM2sa8rNayiWOKN+Too7OGHOCo85qF7zxsjgPeCXy+9M3rgJsDv1cOZhbnNYttLKLNMvfNvsD34yPGgCsATyq/OFy3/BI+i2s+i23Mo29G2Sxz30x8PQyAE5NdVvB1IP7MxWvKVy5fnibaDJw6/WYXqnKtAHgk8JflKeh2JCzeqJ4IxIs0llFG42xjoUCAg4Ez+wLgOOcxC4tR25i31SCb9g35bsVt0DGOOq9Z+M7bJvYfo8f/Un6RiB/uszivWWxjEW3sm9WrciXgz4C/An4D+G/75rJ2HWRj30zwajYAToDVWTWmfGPKM6ax/rnz9W3lt/2nTrfZhauKABjnElPA8c8/AscC3yzh92ZlBLQ98PD4ZPlgzcuNYRQBeq1txLTZoi2DQs6o85iFxTjbmLfVWgHweyU0/z/gpDKKGsc7zmtpFr7zton9x/Tv44Abl4OZxXnNYhuLaNP+IF/WvrlnGUiIDymOX7BfAcRIeSyzuOaz2Ma8+mYtm2Xvm4muiQFwIq7LVo4PjvxWCS9f6Wzi7eUTxR8z3WYXriqmq+IzDs8DYvrh5cBty0jGq4GrAYd1jvqm5b6u+Hj1CCyjjGIqda1txOczLdoyKOSMOo9ZWIyzjXlbDQuAdy6/PPwKiOniGCF/FvB6YJzX0ix8520TI6DvAR4IfKQczCzOaxbbWESbOCb7Bq5ZRvziDw68y77ZoVUH2dg3E7yaDYATYHVWHWfUYrotL3bVbuW+lPsA8VuYI4D+Rt7t2GEBsL+r40buuwN/uCQjgPcG3lp+kL+/gzGLUZhZbGOe7zrDbAYd07L1TWsQP6d/CNyhzDDN4prPYhvz7JthNvbNBFfFADgBVt+qg+5b+i7wF7vQPYD9Om0AvG8ZEXxZ3z2ATy4Pxqx1D2AY/TlwWnlo3JAbIAAACHxJREFUZtQ2pr9C61M5KOTEwz+jzmNYv0xiseg9N0kA3AQcVC7RrmwTT8zHfcIPAj7a15LL3jdr2Qz7Qb4sfdM9/3gQJO4ZPQJ495jvm7vya2otG/tmgp97BsAJsPpWjXvj4ing+JiHeLHFb6cPB/bbhZ4Cjh9a8cBD3Hi8V5kCjlGbW5aP84jp73gKOJ52jND3wXKzcvsU8CijeBJt1Damv0KzrYwp2Pjolwg58bRz/AmhmNKMj2mIaexR5zELi1HbmO0Zj7+1tWxuVXolnoRtnwY+vbxetpZdjDqvcfpk1DbGP5vZrRnvD/GEfIyYf2rAZmdxXrPYxuzOePwtjbKJJ6Xj59My9k08TBe3E8WTwL9e3l//uMy4XFA+hmpZ329G2Sxz34z/6itrGgAnJtuh4PnAY0sYOGcX/BzA9wF/UAJOTEF8vHwuYATeWG4BvLZ8DmD8hhofc/GiPtJRRuNsI3eVZlMdT1u+qfM3I9vPRYz7lMJlnPOYhcWobczmbCfbylo2cbtEjI7GvX7xOYDxEEj0THxmZHcZdV6z8J3srPJrR+D9BfDzzvttfJZmfHRUGwhncV6z2Eb+bCfbwiibmBpe1r6Jz1o9sAS9i4DPlF8k4gnydpnFNZ/FNia76vm1R9ksc99MrGsAnJjMAgUUUEABBRRQYGMLGAA39vXz6BVQQAEFFFBAgYkFDIATk1mggAIKKKCAAgpsbAED4Ma+fh69AgoooIACCigwsYABcGIyCxRQQAEFFFBAgY0tYADc2NfPo1dAAQUUUEABBSYWMABOTGaBAgoooIACCiiwsQUMgBv7+nn0CiiggAIKKKDAxAIGwInJLFBAAQUUUEABBTa2gAFwY18/j14BBfIC5wHHAm/Jb4r4+7bHA78GPB04CYg/U7e5/GWHhwIfmsF+3IQCCiiQEjAApvgsVkCBpED8TdgIX9ftbCf+vN4/lL8X/OLO198N/AQ4IrnP/vJxAuDdgGeWP9EVf/v4P4DXl3/a7V0eiD+J+AggjjWW6wGx/VsD3T/lNe0pPA+IY7nDtBuwTgEFFAgBA6B9oIAC8xTYD/gSsD/whXIgMYJ2LyD+/vSdytcidP0XEH8M/m1THHCEs/j7s/G3eCcNgBE4/xp4FnAK8L8lhL2xBL2jywbj7x3H3zreF2j/XvYfAmcDuwG/muK4+0siAN4VuOMMtuUmFFBgiQUMgEt88T11BRZE4JvAq4BXlOP5TJlGjSnZvYCfAn8AfAqIkPVdIALhU4BHAb8BfK2MGH64bONg4CzgMOCFwA2AG5YRxFcD9ytB7uXA09aYAr5qGcF7DRDhq7vESNzfl2O7BvA+4CpluxE2Tyijhlcq5xDhc3fgweVY41x+AXwWuHvZcKwb+4l1Yhr588CfA58DHga8qZz7z0qYPbS4LMil9DAUUGCjCBgAN8qV8jgV2HUF3gBcH7gncO0yihb//1HgJeWeuWcDDwFuWRgi/D0ZuE8JSQ8q9/DdtoSlNgC+p4TEH5cRuLgn7/dL3Y+ArcDDyzqD7gE8BIhQ2R3V616J84GTS6CLgBkjfzcBvtEJomcCVyiBLQJi7DcCXzsyeHvgY2X9GGGMaeMjgQuAx5VAGPu/qPy7I4C77mvBM1OgmoABsBq1O1JAgSECEd5iZCtGvO4PPLZMscZI2DWBvyhh6Zwy6heb+TIQo3LxT7u8F/gO8HggAmAEr5hijvv1Yon3uxhN/KPOgxgxIhdTzX8y5CGQGHV7KxAjgT8fcPz/VAJnBLU2AHbDYnscVyxT0BEAv18eEHkH8N+dbV6rTHPHMceIZrt8FXg+cJoB0NeQAgrMSsAAOCtJt6OAAtMKRPCJ0a4YbYvAFaNoLwXi/rkYsYtRvf8p07btFG88DBLBsftEbUy53hS4dycAxpTqL8uBxVTx94BblPsO2+P9QQmWsxoBXCsAxj4PKvuL+/i+DfwfIKalbwNEoIwRwnaJ9+gIjzGN/TID4LQtZp0CCvQLGADtCQUUWASBfy5P/sY9exHsYrQvpk0j+MU9eq8EIijGAxixxAhgTN+e2Dn4mO6N+wO7I4DtyFusNmgEcI8yCvfIISOAMfIXIS3uUYxRuO4SU7FxD+DtgE+POQLYbx0jhBFqI7TGqF9MHcdIYkwtD1qeU4KyD4EsQtd6DApsYAED4Aa+eB66AruQQHzcS0zDXrncB9ie2geBW5XAF4GrXeKz9Z4I3Lc8PRzTujGCF2EsHqron3pt6+J+w3jiOKaa4yNbIljG/XbxMMmwzwGM77+uPNAR68QDGHEs8WTwB8p9erH9CG4R4OIewPYp4P7jiIda4iNcPlL2H+cWD7fEwxwfB95Vgm+c27eAeLgkRgzjnGKU9NHlgZWYJh40Jb0LtYSnooAC6ylgAFxPXbetgALjCsSIVjy1G5+fFyOA7RL3/8XU7jHAX3a+Hk8BRwiMQPTrnaeA/66sMywAXr2M5kUAjPsBY1o1RhjjIZO1Pgg6nviNj4E5sDyF234OYExRt8s49wBep3yMTQS/+GiYmJKOkcwYYYwlpqyfASsfKB3rXlymhePzEmPduGfxjHIc8f4dI4f/OC6y6ymggAKtgAHQXlBAAQUUUEABBZZMwAC4ZBfc01VAAQUUUEABBQyA9oACCiiggAIKKLBkAgbAJbvgnq4CCiiggAIKKGAAtAcUUEABBRRQQIElEzAALtkF93QVUEABBRRQQAEDoD2ggAIKKKCAAgosmYABcMkuuKergAIKKKCAAgoYAO0BBRRQQAEFFFBgyQQMgEt2wT1dBRRQQAEFFFDAAGgPKKCAAgoooIACSyZgAFyyC+7pKqCAAgoooIACBkB7QAEFFFBAAQUUWDIBA+CSXXBPVwEFFFBAAQUUMADaAwoooIACCiigwJIJ/H+E6fLBH7FOPAAAAABJRU5ErkJggg==\">"
      ],
      "text/plain": [
       "<IPython.core.display.HTML object>"
      ]
     },
     "metadata": {},
     "output_type": "display_data"
    }
   ],
   "source": [
    "rnj_text.dispersion_plot([\"Romeo\", \"Juliet\", \"Tybalt\", \"Mercutio\"])"
   ]
  },
  {
   "cell_type": "markdown",
   "metadata": {},
   "source": [
    "Most of the web doesn't contain just raw text though, but also HTML markup used to format the text. In addition to actual content, many web pages include pieces of text which are not really interesting because they're not full sentences and they're typically the same for all the pages on a website -- for instance, navigation elements. Collectively, these are called **boilerplate**.\n",
    "\n",
    "Python has a really good library for boilerplate removal, which is called `bs4` (Beautiful Soup)."
   ]
  },
  {
   "cell_type": "code",
   "execution_count": 28,
   "metadata": {
    "collapsed": false
   },
   "outputs": [
    {
     "data": {
      "text/plain": [
       "'\\n<!DOCTYPE html>\\n<html id=\"js-context\" class=\"js-o'"
      ]
     },
     "execution_count": 28,
     "metadata": {},
     "output_type": "execute_result"
    }
   ],
   "source": [
    "# fetch a webpage\n",
    "response = requests.get(\"http://www.theguardian.com/politics/2016/aug/23/nicola-sturgeon-to-appoint-brexit-minister\")\n",
    "# extract its text content from the response\n",
    "brex = response.text\n",
    "# whoops -- we need to get rid of this HTML markup and other boilerplate!\n",
    "brex[:50]"
   ]
  },
  {
   "cell_type": "code",
   "execution_count": 29,
   "metadata": {
    "collapsed": false,
    "scrolled": false
   },
   "outputs": [
    {
     "data": {
      "text/plain": [
       "'\\n\\n\\n\\nNicola Sturgeon to appoint Brexit minister | P'"
      ]
     },
     "execution_count": 29,
     "metadata": {},
     "output_type": "execute_result"
    }
   ],
   "source": [
    "from bs4 import BeautifulSoup\n",
    "\n",
    "brex = BeautifulSoup(brex, \"lxml\").get_text()\n",
    "# whew, that's better (though admittedly not ideal)!\n",
    "brex[:50]"
   ]
  },
  {
   "cell_type": "code",
   "execution_count": 30,
   "metadata": {
    "collapsed": true
   },
   "outputs": [],
   "source": [
    "brex_text = nltk.Text(nltk.word_tokenize(brex))"
   ]
  },
  {
   "cell_type": "code",
   "execution_count": 31,
   "metadata": {
    "collapsed": false
   },
   "outputs": [
    {
     "name": "stdout",
     "output_type": "stream",
     "text": [
      "Displaying 25 of 28 matches:\n",
      "                                    Brexit minister | Politics | The Guardian \n",
      " '' : '' Nicola Sturgeon to appoint Brexit minister '' , '' isImmersive '' : f\n",
      " '' : '' Nicola Sturgeon to appoint Brexit minister '' , '' isFront '' : false\n",
      " '' : '' Nicola Sturgeon to appoint Brexit minister '' , '' shouldHideAdverts \n",
      "' : '' Nicola Sturgeon said her new Brexit minister would further embed Scotti\n",
      " Scottish interests during the UK’s Brexit talks . `` , '' credit '' : '' Phot\n",
      "Nicola Sturgeon , EU referendum and Brexit , Scottish independence , European \n",
      "Sturgeon Nicola Sturgeon to appoint Brexit minister First minister appears to \n",
      " talks Nicola Sturgeon said her new Brexit minister would further embed Scotti\n",
      " Scottish interests during the UK’s Brexit talks . Photograph : Jeff Mitchell/\n",
      "ger Nicola Sturgeon is to appoint a Brexit minister to influence the terms of \n",
      "vernment paper which forecasts that Brexit could cost Scotland’s economy as mu\n",
      "ng a Treasury paper on the costs of Brexit which Sturgeon had previously attac\n",
      "n now and 2030 , and forecasts that Brexit will damage the UK economy ; but so\n",
      "dding Scottish interests during the Brexit talks – a commitment given by There\n",
      "y Theresa May this summer ; her new Brexit minister would press that agenda on\n",
      "as only slightly risen since June’s Brexit vote , despite Scotland’s significa\n",
      "es voters immediately following the Brexit vote , a YouGov poll found that 32 \n",
      "anted to wait to see the terms of a Brexit deal before deciding on independenc\n",
      "ld be better protected by accepting Brexit , by putting the quest for a fast i\n",
      "e greatly strengthened if the right Brexit deal was struck . But Sturgeon invi\n",
      "is of the economic damage caused by Brexit should have been published before t\n",
      "s Nicola Sturgeon EU referendum and Brexit Scottish independence European Unio\n",
      " Michael Russell appointed Scottish Brexit minister Former education secretary\n",
      " Michael Russell appointed Scottish Brexit minister Nicola Sturgeon : independ\n"
     ]
    }
   ],
   "source": [
    "brex_text.concordance(\"Brexit\")"
   ]
  },
  {
   "cell_type": "markdown",
   "metadata": {},
   "source": [
    "If you want to download a lot of web content, not necessarily specific pages, just a lot of pages based on a few links you provide as seeds to start the search, use a **web crawler / spider**. A good web crawler for Python and linguistics is **SpiderLing**: <http://corpus.tools/wiki/SpiderLing>."
   ]
  },
  {
   "cell_type": "markdown",
   "metadata": {},
   "source": [
    "# Regular expressions\n",
    "\n",
    "Regular expressions are a query language which makes it possible to match different strings with a single query (instead of searching for all of them literally one by one). It also allows you to define sophisticated replacement operations."
   ]
  },
  {
   "cell_type": "code",
   "execution_count": 32,
   "metadata": {
    "collapsed": true
   },
   "outputs": [],
   "source": [
    "# simple matching and replacement for literal character sequences can be done\n",
    "# without regular expressions -- let's define a string to play with:\n",
    "string = \"\"\"the cat and the dog\n",
    "went down to the bog\n",
    "they drank some whiskey and ate\n",
    "the hog\"\"\""
   ]
  },
  {
   "cell_type": "code",
   "execution_count": 33,
   "metadata": {
    "collapsed": false
   },
   "outputs": [
    {
     "data": {
      "text/plain": [
       "'My father\\'s nickname is \"Big D\" but his real name is Donald.'"
      ]
     },
     "execution_count": 33,
     "metadata": {},
     "output_type": "execute_result"
    }
   ],
   "source": [
    "# notice that the triple quote syntax allows you to have multiline strings!\n",
    "# it also makes it easy to put quotes inside a quoted string -- if a simple\n",
    "# string is to contain a quotation mark, it needs to be escaped...\n",
    "\"My father's nickname is \\\"Big D\\\" but his real name is Donald.\""
   ]
  },
  {
   "cell_type": "code",
   "execution_count": 34,
   "metadata": {
    "collapsed": false
   },
   "outputs": [
    {
     "data": {
      "text/plain": [
       "'My father\\'s nickname is \"Big D\" but his real name is Donald.'"
      ]
     },
     "execution_count": 34,
     "metadata": {},
     "output_type": "execute_result"
    }
   ],
   "source": [
    "# if you use single quotes for defining your strings, then double quotes are\n",
    "# fine, but you need to escape single quotes...\n",
    "'My father\\'s nickname is \"Big D\" but his real name is Donald.'"
   ]
  },
  {
   "cell_type": "code",
   "execution_count": 35,
   "metadata": {
    "collapsed": false
   },
   "outputs": [
    {
     "ename": "SyntaxError",
     "evalue": "invalid syntax (<ipython-input-35-8cd7030836cc>, line 3)",
     "output_type": "error",
     "traceback": [
      "\u001b[0;36m  File \u001b[0;32m\"<ipython-input-35-8cd7030836cc>\"\u001b[0;36m, line \u001b[0;32m3\u001b[0m\n\u001b[0;31m    'My father's nickname is \"Big D\" but his real name is Donald.\"\u001b[0m\n\u001b[0m               ^\u001b[0m\n\u001b[0;31mSyntaxError\u001b[0m\u001b[0;31m:\u001b[0m invalid syntax\n"
     ]
    }
   ],
   "source": [
    "# ... otherwise, bad stuff happens, because Python ends the string prematurely\n",
    "# when parsing it\n",
    "'My father's nickname is \"Big D\" but his real name is Donald.\""
   ]
  },
  {
   "cell_type": "code",
   "execution_count": 36,
   "metadata": {
    "collapsed": false
   },
   "outputs": [
    {
     "ename": "SyntaxError",
     "evalue": "invalid syntax (<ipython-input-36-950f482449a5>, line 1)",
     "output_type": "error",
     "traceback": [
      "\u001b[0;36m  File \u001b[0;32m\"<ipython-input-36-950f482449a5>\"\u001b[0;36m, line \u001b[0;32m1\u001b[0m\n\u001b[0;31m    \"My father's nickname is \"Big D\" but his real name is Donald.\"\u001b[0m\n\u001b[0m                                ^\u001b[0m\n\u001b[0;31mSyntaxError\u001b[0m\u001b[0;31m:\u001b[0m invalid syntax\n"
     ]
    }
   ],
   "source": [
    "\"My father's nickname is \"Big D\" but his real name is Donald.\""
   ]
  },
  {
   "cell_type": "code",
   "execution_count": 37,
   "metadata": {
    "collapsed": false
   },
   "outputs": [
    {
     "data": {
      "text/plain": [
       "'My father\\'s nickname is \"Big D\"\\nbut his real name is Donald.'"
      ]
     },
     "execution_count": 37,
     "metadata": {},
     "output_type": "execute_result"
    }
   ],
   "source": [
    "# triple quotes free you from having to think about this; additionally, they\n",
    "# allow you to type literal newlines into the string\n",
    "\"\"\"My father's nickname is \"Big D\"\n",
    "but his real name is Donald.\"\"\""
   ]
  },
  {
   "cell_type": "code",
   "execution_count": 38,
   "metadata": {
    "collapsed": false
   },
   "outputs": [
    {
     "data": {
      "text/plain": [
       "4"
      ]
     },
     "execution_count": 38,
     "metadata": {},
     "output_type": "execute_result"
    }
   ],
   "source": [
    "# anyway, back to our example string: .find() returns the index (>= 0) of the\n",
    "# argument substring on success...\n",
    "string.find(\"cat\")"
   ]
  },
  {
   "cell_type": "code",
   "execution_count": 39,
   "metadata": {
    "collapsed": false
   },
   "outputs": [
    {
     "data": {
      "text/plain": [
       "-1"
      ]
     },
     "execution_count": 39,
     "metadata": {},
     "output_type": "execute_result"
    }
   ],
   "source": [
    "# ... or -1 on failure\n",
    "string.find(\"hippopotamus\")"
   ]
  },
  {
   "cell_type": "code",
   "execution_count": 40,
   "metadata": {
    "collapsed": false
   },
   "outputs": [
    {
     "name": "stdout",
     "output_type": "stream",
     "text": [
      "hippopotamus cat and hippopotamus dog\n",
      "went down to hippopotamus bog\n",
      "hippopotamusy drank some whiskey and ate\n",
      "hippopotamus hog\n"
     ]
    }
   ],
   "source": [
    "# .replace() creates a new string where all occurrences of the first argument\n",
    "# are replaced by the second one\n",
    "print(string.replace(\"the\", \"hippopotamus\"))"
   ]
  },
  {
   "cell_type": "markdown",
   "metadata": {},
   "source": [
    "But what if you want to match both \"cat\" and \"dog\", or replace them by their plurals -- at the same time? That's what regular expressions are for.\n",
    "\n",
    "Python has a built-in regular expression module called simply `re`, but it's worth **downloading and using the external `regex` library**, because it has more features, **better Unicode support** and it's faster.\n",
    "\n",
    "Summary of regex syntax based on the [NLTK Book](http://www.nltk.org/book/ch03.html):\n",
    "\n",
    "```python\n",
    ".         # Wildcard, matches any character\n",
    "\\w   \\W   # Matches any (non-)word character (careful, the\n",
    "          # computer's idea about what a word character is might\n",
    "          # be different from yours)\n",
    "\\d   \\D   # Matches any (non-)digit character\n",
    "\\s   \\S   # Matches any (non-)space character\n",
    "\\p{...}   # Matches any character with Unicode property ...\n",
    "\\P{...}   # Matches any character without Unicode property ...\n",
    "^abc      # Matches some pattern abc at the start of a string\n",
    "          # (or line, if the multiline flag is enabled)\n",
    "abc$      # Matches some pattern abc at the end of a string\n",
    "          # (or line, if the multiline flag is enabled)\n",
    "\\babc\\b   # Matches some pattern abc surrounded by word boundaries\n",
    "\\Babc\\B   # Matches some pattern abc not surrounded by word boundaries\n",
    "[abc]     # Matches one of a set of characters\n",
    "[A-Z0-9]  # Matches one of a range of characters\n",
    "ed|ing|s  # Matches one of the specified strings (disjunction)\n",
    "*         # Zero or more of previous item, e.g. a*, [a-z]* (also\n",
    "          # known as Kleene Closure); greedy (match as many as\n",
    "          # possible)\n",
    "*?        # The same as *, but non-greedy (match as few as possible)\n",
    "+         # One or more of previous item, e.g. a+, [a-z]+; greedy\n",
    "+?        # The same as + but non-greedy\n",
    "?         # Zero or one of the previous item (i.e. optional), e.g.\n",
    "          # a?, [a-z]?\n",
    "{n}       # Exactly n repeats where n is a non-negative integer\n",
    "{n,}      # At least n repeats\n",
    "{,n}      # No more than n repeats\n",
    "{m,n}     # At least m and no more than n repeats\n",
    "a(b|c)+   # Parentheses indicate the scope of the operators and\n",
    "          # capture the corresponding groups of characters, which\n",
    "          # are then accessible accessible with the match.group()\n",
    "          # match.groups() method\n",
    "a(?:b|c)+ # Non-capturing version of the parentheses\n",
    "```\n",
    "\n",
    "An overview of Unicode properties available for matching characters can be found here: <http://www.regular-expressions.info/unicode.html>. If you want to inspect the properties of a particular character, the following web page might be useful: <http://unicode.org/cldr/utility/properties.html>."
   ]
  },
  {
   "cell_type": "code",
   "execution_count": 41,
   "metadata": {
    "collapsed": true
   },
   "outputs": [],
   "source": [
    "# this imports the `regex` library and renames it to `re` for convenience\n",
    "# (it's less typing)\n",
    "import regex as re"
   ]
  },
  {
   "cell_type": "code",
   "execution_count": 42,
   "metadata": {
    "collapsed": false
   },
   "outputs": [
    {
     "data": {
      "text/plain": [
       "<regex.Match object; span=(0, 3), match='the'>"
      ]
     },
     "execution_count": 42,
     "metadata": {},
     "output_type": "execute_result"
    }
   ],
   "source": [
    "# re.match(pattern, string) returns a successful match when the string\n",
    "# matches the the pattern starting at the beginning of the string\n",
    "re.match(\"the\", string)"
   ]
  },
  {
   "cell_type": "code",
   "execution_count": 43,
   "metadata": {
    "collapsed": true
   },
   "outputs": [],
   "source": [
    "re.match(\"cat\", string)"
   ]
  },
  {
   "cell_type": "code",
   "execution_count": 44,
   "metadata": {
    "collapsed": false,
    "scrolled": true
   },
   "outputs": [
    {
     "data": {
      "text/plain": [
       "<regex.Match object; span=(4, 7), match='cat'>"
      ]
     },
     "execution_count": 44,
     "metadata": {},
     "output_type": "execute_result"
    }
   ],
   "source": [
    "# re.search(pattern, string) allows the pattern to match at any point\n",
    "# in the string (returning the first match)\n",
    "re.search(\"cat\", string)"
   ]
  },
  {
   "cell_type": "markdown",
   "metadata": {},
   "source": [
    "**TIP!** The backslash `\\` is an **escape character** -- it changes the meaning of the following (sequence of) character(s). Some **escape sequences** are also available in vanilla Python strings, e.g. `\\n` for newline, `\\t` for tabulator, `\\r` for carriage return. With regular expressions, in order to avoid any surprises, you should prevent Python from interpreting these escape sequences, so that the regular expression library sees them as you've typed them. Therefore, for defining regular expressions matching and replacement patterns, **use raw strings** (which cancel the interpretation of backslash escapes by Python): type `r\"...\"` instead of just `\"...\"`. That's what we'll do from now on."
   ]
  },
  {
   "cell_type": "code",
   "execution_count": 45,
   "metadata": {
    "collapsed": false
   },
   "outputs": [
    {
     "data": {
      "text/plain": [
       "[<regex.Match object; span=(16, 19), match='dog'>,\n",
       " <regex.Match object; span=(37, 40), match='bog'>,\n",
       " <regex.Match object; span=(77, 80), match='hog'>]"
      ]
     },
     "execution_count": 45,
     "metadata": {},
     "output_type": "execute_result"
    }
   ],
   "source": [
    "# re.finditer(pattern, string) is kind of like re.search(), but it\n",
    "# doesn't stop at the first match -- it'll keep searching until the\n",
    "# end of the string, returning all matches. careful, it's a\n",
    "# *generator*, i.e. it's lazy and won't evaluate until you force it,\n",
    "# e.g. by requesting a list of the results\n",
    "list(re.finditer(r\"[dbh]og\", string))"
   ]
  },
  {
   "cell_type": "code",
   "execution_count": 46,
   "metadata": {
    "collapsed": false
   },
   "outputs": [
    {
     "data": {
      "text/plain": [
       "['dog', 'bog', 'hog']"
      ]
     },
     "execution_count": 46,
     "metadata": {},
     "output_type": "execute_result"
    }
   ],
   "source": [
    "# re.findall(pattern, string) is kind of like re.finditer(), but it's\n",
    "# not lazy and instead of Match objects, returns plain strings\n",
    "# corresponding to the matches...\n",
    "re.findall(r\"[dbh]og\", string)"
   ]
  },
  {
   "cell_type": "code",
   "execution_count": 47,
   "metadata": {
    "collapsed": false
   },
   "outputs": [
    {
     "data": {
      "text/plain": [
       "[('the', 'cat'),\n",
       " ('the', 'dog'),\n",
       " ('the', 'bog'),\n",
       " ('some', 'whiskey'),\n",
       " ('the', 'hog')]"
      ]
     },
     "execution_count": 47,
     "metadata": {},
     "output_type": "execute_result"
    }
   ],
   "source": [
    "# ... unless your pattern contains capturing groups (indicated by\n",
    "# parentheses), in which case it returns whatever substring was\n",
    "# captured by those groups:\n",
    "re.findall(r\"(the|some) (cat|[dbh]og|whiskey)\", string)"
   ]
  },
  {
   "cell_type": "code",
   "execution_count": 48,
   "metadata": {
    "collapsed": false
   },
   "outputs": [
    {
     "data": {
      "text/plain": [
       "[<regex.Match object; span=(0, 7), match='the cat'>,\n",
       " <regex.Match object; span=(12, 19), match='the dog'>,\n",
       " <regex.Match object; span=(33, 40), match='the bog'>,\n",
       " <regex.Match object; span=(52, 64), match='some whiskey'>,\n",
       " <regex.Match object; span=(73, 80), match='the hog'>]"
      ]
     },
     "execution_count": 48,
     "metadata": {},
     "output_type": "execute_result"
    }
   ],
   "source": [
    "# conversely, re.finditer() still returns a list of Match objects\n",
    "matches = list(re.finditer(r\"(the|some) (cat|[dbh]og|whiskey)\", string))\n",
    "matches"
   ]
  },
  {
   "cell_type": "code",
   "execution_count": 49,
   "metadata": {
    "collapsed": false
   },
   "outputs": [],
   "source": [
    "# the Match object returned by re.match(), re.search() and re.finditer()\n",
    "# gives you richer information and allows for more fine-grained control\n",
    "# than the context-dependent result of re.findall(). let's take a look\n",
    "# at the first match from our previous example:\n",
    "match = matches[0]"
   ]
  },
  {
   "cell_type": "code",
   "execution_count": 50,
   "metadata": {
    "collapsed": false
   },
   "outputs": [
    {
     "data": {
      "text/plain": [
       "'the cat'"
      ]
     },
     "execution_count": 50,
     "metadata": {},
     "output_type": "execute_result"
    }
   ],
   "source": [
    "# the substring corresponding to the match can be extracted from the\n",
    "# Match object with the .group() method without any argument\n",
    "match.group()"
   ]
  },
  {
   "cell_type": "code",
   "execution_count": 51,
   "metadata": {
    "collapsed": false
   },
   "outputs": [
    {
     "data": {
      "text/plain": [
       "('the', 'cat')"
      ]
     },
     "execution_count": 51,
     "metadata": {},
     "output_type": "execute_result"
    }
   ],
   "source": [
    "# whereas the content of the capturing groups can be extracted using the\n",
    "# .group() method with numeric arguments (groups are numbered sequentially\n",
    "# as they are defined in the pattern), or at once with the .groups() method\n",
    "match.groups()"
   ]
  },
  {
   "cell_type": "code",
   "execution_count": 52,
   "metadata": {
    "collapsed": false
   },
   "outputs": [
    {
     "data": {
      "text/plain": [
       "(0, 7)"
      ]
     },
     "execution_count": 52,
     "metadata": {},
     "output_type": "execute_result"
    }
   ],
   "source": [
    "# additionally, you also get the span of the match in the original string\n",
    "# (and more)\n",
    "match.span()"
   ]
  },
  {
   "cell_type": "code",
   "execution_count": 53,
   "metadata": {
    "collapsed": false
   },
   "outputs": [
    {
     "data": {
      "text/plain": [
       "'the cat'"
      ]
     },
     "execution_count": 53,
     "metadata": {},
     "output_type": "execute_result"
    }
   ],
   "source": [
    "string[0:7]"
   ]
  },
  {
   "cell_type": "code",
   "execution_count": 54,
   "metadata": {
    "collapsed": false
   },
   "outputs": [
    {
     "name": "stdout",
     "output_type": "stream",
     "text": [
      "a cat and a dog\n",
      "went down to a bog\n",
      "they drank some whiskey and ate\n",
      "a hog\n"
     ]
    }
   ],
   "source": [
    "# re.sub(pattern, replacement_pattern, string) replaces all occurrences\n",
    "# of pattern in string with replacement_pattern\n",
    "print(re.sub(r\"\\bthe\\b\", r\"a\", string))"
   ]
  },
  {
   "cell_type": "code",
   "execution_count": 55,
   "metadata": {
    "collapsed": false
   },
   "outputs": [
    {
     "name": "stdout",
     "output_type": "stream",
     "text": [
      "a cat and a dog\n",
      "went down to the bog\n",
      "they drank some whiskey and ate\n",
      "the hog\n"
     ]
    }
   ],
   "source": [
    "# the count argument to re.sub() can be used to limit the number of\n",
    "# replacements to be made\n",
    "print(re.sub(r\"\\bthe\\b\", r\"a\", string, count=2))"
   ]
  },
  {
   "cell_type": "code",
   "execution_count": 56,
   "metadata": {
    "collapsed": false
   },
   "outputs": [
    {
     "name": "stdout",
     "output_type": "stream",
     "text": [
      "the cute cats and the cute dogs\n",
      "went down to the cute bogs\n",
      "they drank some cute whiskeys and ate\n",
      "the cute hogs\n"
     ]
    }
   ],
   "source": [
    "# numbered back-references can be used to refer back to the content\n",
    "# of captured groups inside the replacement string (in this case, it's\n",
    "# *really* important to use a raw string as the replacement pattern)\n",
    "print(re.sub(r\"(the|some) (cat|[dbh]og|whiskey)\", r\"\\1 cute \\2s\", string))"
   ]
  },
  {
   "cell_type": "code",
   "execution_count": 57,
   "metadata": {
    "collapsed": true
   },
   "outputs": [],
   "source": [
    "# FINALLY (whew!), all of these functions have a flags argument to modify\n",
    "# the behavior of the regular expression pattern matching engine; re.DOTALL\n",
    "# makes the . match all characters including the newline\n",
    "re.search(r\"dog.*bog\", string)"
   ]
  },
  {
   "cell_type": "code",
   "execution_count": 58,
   "metadata": {
    "collapsed": false
   },
   "outputs": [
    {
     "data": {
      "text/plain": [
       "<regex.Match object; span=(16, 40), match='dog\\nwent down to the bog'>"
      ]
     },
     "execution_count": 58,
     "metadata": {},
     "output_type": "execute_result"
    }
   ],
   "source": [
    "re.search(r\"dog.*bog\", string, flags=re.DOTALL)"
   ]
  },
  {
   "cell_type": "code",
   "execution_count": 59,
   "metadata": {
    "collapsed": false
   },
   "outputs": [
    {
     "name": "stdout",
     "output_type": "stream",
     "text": [
      "THE cat and the dog\n",
      "went down to the bog\n",
      "they drank some whiskey and ate\n",
      "the hog\n"
     ]
    }
   ],
   "source": [
    "# re.IGNORECASE makes the matching case insensitive (that's probably\n",
    "# intuitive enough), and re.MULTILINE makes ^ and $ match the beginnings\n",
    "# and ends of *lines* within the string, instead of only the beginning\n",
    "# and end of the string\n",
    "print(re.sub(r\"^the\", r\"THE\", string))"
   ]
  },
  {
   "cell_type": "code",
   "execution_count": 60,
   "metadata": {
    "collapsed": false
   },
   "outputs": [
    {
     "name": "stdout",
     "output_type": "stream",
     "text": [
      "THE cat and the dog\n",
      "went down to the bog\n",
      "THEy drank some whiskey and ate\n",
      "THE hog\n"
     ]
    }
   ],
   "source": [
    "print(re.sub(r\"^the\", r\"THE\", string, flags=re.MULTILINE))"
   ]
  },
  {
   "cell_type": "code",
   "execution_count": 61,
   "metadata": {
    "collapsed": false
   },
   "outputs": [
    {
     "data": {
      "text/plain": [
       "<regex.Match object; span=(16, 40), match='dog\\nwent down to the bog'>"
      ]
     },
     "execution_count": 61,
     "metadata": {},
     "output_type": "execute_result"
    }
   ],
   "source": [
    "# flags can be combined using the | (\"bitwise or\") operator. it's a\n",
    "# stupid design decision, providing separate arguments to allow the \n",
    "# functions to be invoked like re.search(..., multiline=True, ignorecase=True)\n",
    "# would have been better, but that's life :) leaving aside the details\n",
    "# of how this works, this is how you perform e.g. a multiline match\n",
    "# where dot matches all:\n",
    "re.search(\"dog$.*bog$\", string, flags=re.MULTILINE | re.DOTALL)"
   ]
  },
  {
   "cell_type": "markdown",
   "metadata": {},
   "source": [
    "**TIP!** One last important Unicode caveat: `.` actually matches individual codepoints, and as we've seen, what appears on the screen as **one grapheme** can actually consist of **multiple codepoints**. In order to **match graphemes**, use the **`\\X` escape sequence**. This is useful when you want to get an exact measure of the length of a string in graphemes, not just the number of codepoints."
   ]
  },
  {
   "cell_type": "code",
   "execution_count": 62,
   "metadata": {
    "collapsed": false
   },
   "outputs": [
    {
     "data": {
      "text/plain": [
       "['æ', '̃', '̤', '̽']"
      ]
     },
     "execution_count": 62,
     "metadata": {},
     "output_type": "execute_result"
    }
   ],
   "source": [
    "re.findall(r\".\", \"æ̤̃̽\")"
   ]
  },
  {
   "cell_type": "code",
   "execution_count": 63,
   "metadata": {
    "collapsed": false
   },
   "outputs": [
    {
     "data": {
      "text/plain": [
       "['æ̤̃̽']"
      ]
     },
     "execution_count": 63,
     "metadata": {},
     "output_type": "execute_result"
    }
   ],
   "source": [
    "re.findall(r\"\\X\", \"æ̤̃̽\")"
   ]
  },
  {
   "cell_type": "code",
   "execution_count": 64,
   "metadata": {
    "collapsed": false
   },
   "outputs": [
    {
     "data": {
      "text/plain": [
       "4"
      ]
     },
     "execution_count": 64,
     "metadata": {},
     "output_type": "execute_result"
    }
   ],
   "source": [
    "len(\"æ̤̃̽\")"
   ]
  },
  {
   "cell_type": "code",
   "execution_count": 65,
   "metadata": {
    "collapsed": false
   },
   "outputs": [
    {
     "data": {
      "text/plain": [
       "1"
      ]
     },
     "execution_count": 65,
     "metadata": {},
     "output_type": "execute_result"
    }
   ],
   "source": [
    "len(re.findall(r\"\\X\", \"æ̤̃̽\"))"
   ]
  },
  {
   "cell_type": "markdown",
   "metadata": {},
   "source": [
    "Now, evaluate the next cell and play around with regular expression matching using the interactive widget! (You are not expected to understand how this code works at this point; if you're curious, look up HTML markup and Python decorators.)"
   ]
  },
  {
   "cell_type": "code",
   "execution_count": 66,
   "metadata": {
    "collapsed": false,
    "scrolled": true
   },
   "outputs": [
    {
     "data": {
      "text/html": [],
      "text/plain": [
       "<IPython.core.display.HTML object>"
      ]
     },
     "metadata": {},
     "output_type": "display_data"
    }
   ],
   "source": [
    "import IPython.core.display as ipd\n",
    "import ipywidgets as ipw\n",
    "\n",
    "@ipw.interact(regex=ipw.Text(), string=ipw.Textarea())\n",
    "def findall(DOTALL=False, MULTILINE=False, IGNORECASE=False, only_first=False, regex=\"\", string=\"\"):\n",
    "    if not (regex and string):\n",
    "        ipd.display(ipd.HTML(\"\"))\n",
    "        return None\n",
    "    flags = 0\n",
    "    if DOTALL:\n",
    "        flags |= re.DOTALL\n",
    "    if MULTILINE:\n",
    "        flags |= re.MULTILINE\n",
    "    if IGNORECASE:\n",
    "        flags |= re.IGNORECASE\n",
    "    start = '<span style=\"background-color: gold\">'\n",
    "    end = \"</span>\"\n",
    "    offset_bump = len(start) + len(end)\n",
    "    offset = 0\n",
    "    html = string\n",
    "    matches = []\n",
    "    for m in re.finditer(regex, string, flags):\n",
    "        matches.append(m.captures()[0])\n",
    "        span = m.span()\n",
    "        sstart, send = span[0] + offset, span[1] + offset\n",
    "        html = html[:sstart] + start + html[sstart:send] + end + html[send:]\n",
    "        offset += offset_bump\n",
    "        if only_first:\n",
    "            break\n",
    "    ipd.display(ipd.HTML(\"<p>regex: <strong>\" + regex + \"</strong></p>\" + \"<pre>\" + html + \"</pre\"))\n",
    "    return matches"
   ]
  },
  {
   "cell_type": "markdown",
   "metadata": {},
   "source": [
    "**TIP!** If you want to match everything we might informally think of as \"letters\", it is best to use the `\\p{Alphabetic}` Unicode property rather than `\\p{Letter}` (`\\w` is best avoided, \"word characters\" is a handwavy category), because it turns out that not all alphabetic characters are letters:"
   ]
  },
  {
   "cell_type": "code",
   "execution_count": 67,
   "metadata": {
    "collapsed": false
   },
   "outputs": [
    {
     "name": "stdout",
     "output_type": "stream",
     "text": [
      "ͅ / COMBINING GREEK YPOGEGRAMMENI\n",
      "ְ / HEBREW POINT SHEVA\n",
      "ֱ / HEBREW POINT HATAF SEGOL\n",
      "ֲ / HEBREW POINT HATAF PATAH\n",
      "ֳ / HEBREW POINT HATAF QAMATS\n",
      "ִ / HEBREW POINT HIRIQ\n",
      "ֵ / HEBREW POINT TSERE\n",
      "ֶ / HEBREW POINT SEGOL\n",
      "ַ / HEBREW POINT PATAH\n",
      "ָ / HEBREW POINT QAMATS\n",
      "ֹ / HEBREW POINT HOLAM\n",
      "ֺ / HEBREW POINT HOLAM HASER FOR VAV\n",
      "ֻ / HEBREW POINT QUBUTS\n",
      "ּ / HEBREW POINT DAGESH OR MAPIQ\n",
      "ֽ / HEBREW POINT METEG\n",
      "ֿ / HEBREW POINT RAFE\n",
      "ׁ / HEBREW POINT SHIN DOT\n",
      "ׂ / HEBREW POINT SIN DOT\n",
      "ׄ / HEBREW MARK UPPER DOT\n",
      "ׅ / HEBREW MARK LOWER DOT\n",
      "ׇ / HEBREW POINT QAMATS QATAN\n",
      "ؐ / ARABIC SIGN SALLALLAHOU ALAYHE WASSALLAM\n",
      "ؑ / ARABIC SIGN ALAYHE ASSALLAM\n",
      "ؒ / ARABIC SIGN RAHMATULLAH ALAYHE\n",
      "ؓ / ARABIC SIGN RADI ALLAHOU ANHU\n",
      "ؔ / ARABIC SIGN TAKHALLUS\n",
      "ؕ / ARABIC SMALL HIGH TAH\n",
      "ؖ / ARABIC SMALL HIGH LIGATURE ALEF WITH LAM WITH YEH\n",
      "ؗ / ARABIC SMALL HIGH ZAIN\n",
      "ؘ / ARABIC SMALL FATHA\n",
      "ؙ / ARABIC SMALL DAMMA\n",
      "ؚ / ARABIC SMALL KASRA\n",
      "ً / ARABIC FATHATAN\n",
      "ٌ / ARABIC DAMMATAN\n",
      "ٍ / ARABIC KASRATAN\n",
      "َ / ARABIC FATHA\n",
      "ُ / ARABIC DAMMA\n",
      "ِ / ARABIC KASRA\n",
      "ّ / ARABIC SHADDA\n",
      "ْ / ARABIC SUKUN\n",
      "ٓ / ARABIC MADDAH ABOVE\n",
      "ٔ / ARABIC HAMZA ABOVE\n",
      "ٕ / ARABIC HAMZA BELOW\n",
      "ٖ / ARABIC SUBSCRIPT ALEF\n",
      "ٗ / ARABIC INVERTED DAMMA\n",
      "ٙ / ARABIC ZWARAKAY\n",
      "ٚ / ARABIC VOWEL SIGN SMALL V ABOVE\n",
      "ٛ / ARABIC VOWEL SIGN INVERTED SMALL V ABOVE\n",
      "ٜ / ARABIC VOWEL SIGN DOT BELOW\n",
      "ٝ / ARABIC REVERSED DAMMA\n",
      "ٞ / ARABIC FATHA WITH TWO DOTS\n",
      "ٟ / ARABIC WAVY HAMZA BELOW\n",
      "ٰ / ARABIC LETTER SUPERSCRIPT ALEF\n",
      "ۖ / ARABIC SMALL HIGH LIGATURE SAD WITH LAM WITH ALEF MAKSURA\n",
      "ۗ / ARABIC SMALL HIGH LIGATURE QAF WITH LAM WITH ALEF MAKSURA\n",
      "ۘ / ARABIC SMALL HIGH MEEM INITIAL FORM\n",
      "ۙ / ARABIC SMALL HIGH LAM ALEF\n",
      "ۚ / ARABIC SMALL HIGH JEEM\n",
      "ۛ / ARABIC SMALL HIGH THREE DOTS\n",
      "ۜ / ARABIC SMALL HIGH SEEN\n",
      "ۡ / ARABIC SMALL HIGH DOTLESS HEAD OF KHAH\n",
      "ۢ / ARABIC SMALL HIGH MEEM ISOLATED FORM\n",
      "ۣ / ARABIC SMALL LOW SEEN\n",
      "ۤ / ARABIC SMALL HIGH MADDA\n",
      "ۧ / ARABIC SMALL HIGH YEH\n",
      "ۨ / ARABIC SMALL HIGH NOON\n",
      "ۭ / ARABIC SMALL LOW MEEM\n",
      "ܑ / SYRIAC LETTER SUPERSCRIPT ALAPH\n",
      "ܰ / SYRIAC PTHAHA ABOVE\n",
      "ܱ / SYRIAC PTHAHA BELOW\n",
      "ܲ / SYRIAC PTHAHA DOTTED\n",
      "ܳ / SYRIAC ZQAPHA ABOVE\n",
      "ܴ / SYRIAC ZQAPHA BELOW\n",
      "ܵ / SYRIAC ZQAPHA DOTTED\n",
      "ܶ / SYRIAC RBASA ABOVE\n",
      "ܷ / SYRIAC RBASA BELOW\n",
      "ܸ / SYRIAC DOTTED ZLAMA HORIZONTAL\n",
      "ܹ / SYRIAC DOTTED ZLAMA ANGULAR\n",
      "ܺ / SYRIAC HBASA ABOVE\n",
      "ܻ / SYRIAC HBASA BELOW\n",
      "ܼ / SYRIAC HBASA-ESASA DOTTED\n",
      "ܽ / SYRIAC ESASA ABOVE\n",
      "ܾ / SYRIAC ESASA BELOW\n",
      "ܿ / SYRIAC RWAHA\n",
      "ަ / THAANA ABAFILI\n",
      "ާ / THAANA AABAAFILI\n",
      "ި / THAANA IBIFILI\n",
      "ީ / THAANA EEBEEFILI\n",
      "ު / THAANA UBUFILI\n",
      "ޫ / THAANA OOBOOFILI\n",
      "ެ / THAANA EBEFILI\n",
      "ޭ / THAANA EYBEYFILI\n",
      "ޮ / THAANA OBOFILI\n",
      "ޯ / THAANA OABOAFILI\n",
      "ް / THAANA SUKUN\n",
      "ࠖ / SAMARITAN MARK IN\n",
      "ࠗ / SAMARITAN MARK IN-ALAF\n",
      "ࠛ / SAMARITAN MARK EPENTHETIC YUT\n",
      "ࠜ / SAMARITAN VOWEL SIGN LONG E\n",
      "ࠝ / SAMARITAN VOWEL SIGN E\n",
      "ࠞ / SAMARITAN VOWEL SIGN OVERLONG AA\n",
      "ࠟ / SAMARITAN VOWEL SIGN LONG AA\n",
      "ࠠ / SAMARITAN VOWEL SIGN AA\n",
      "ࠡ / SAMARITAN VOWEL SIGN OVERLONG A\n",
      "ࠢ / SAMARITAN VOWEL SIGN LONG A\n",
      "ࠣ / SAMARITAN VOWEL SIGN A\n",
      "ࠥ / SAMARITAN VOWEL SIGN SHORT A\n",
      "ࠦ / SAMARITAN VOWEL SIGN LONG U\n",
      "ࠧ / SAMARITAN VOWEL SIGN U\n",
      "ࠩ / SAMARITAN VOWEL SIGN LONG I\n",
      "ࠪ / SAMARITAN VOWEL SIGN I\n",
      "ࠫ / SAMARITAN VOWEL SIGN O\n",
      "ࠬ / SAMARITAN VOWEL SIGN SUKUN\n",
      "ࣔ / !no name!\n",
      "ࣕ / !no name!\n",
      "ࣖ / !no name!\n",
      "ࣗ / !no name!\n",
      "ࣘ / !no name!\n",
      "ࣙ / !no name!\n",
      "ࣚ / !no name!\n",
      "ࣛ / !no name!\n",
      "ࣜ / !no name!\n",
      "ࣝ / !no name!\n",
      "ࣞ / !no name!\n",
      "ࣟ / !no name!\n",
      "ࣣ / ARABIC TURNED DAMMA BELOW\n",
      "ࣤ / ARABIC CURLY FATHA\n",
      "ࣥ / ARABIC CURLY DAMMA\n",
      "ࣦ / ARABIC CURLY KASRA\n",
      "ࣧ / ARABIC CURLY FATHATAN\n",
      "ࣨ / ARABIC CURLY DAMMATAN\n",
      "ࣩ / ARABIC CURLY KASRATAN\n",
      "ࣰ / ARABIC OPEN FATHATAN\n",
      "ࣱ / ARABIC OPEN DAMMATAN\n",
      "ࣲ / ARABIC OPEN KASRATAN\n",
      "ࣳ / ARABIC SMALL HIGH WAW\n",
      "ࣴ / ARABIC FATHA WITH RING\n",
      "ࣵ / ARABIC FATHA WITH DOT ABOVE\n",
      "ࣶ / ARABIC KASRA WITH DOT BELOW\n",
      "ࣷ / ARABIC LEFT ARROWHEAD ABOVE\n",
      "ࣸ / ARABIC RIGHT ARROWHEAD ABOVE\n",
      "ࣹ / ARABIC LEFT ARROWHEAD BELOW\n",
      "ࣺ / ARABIC RIGHT ARROWHEAD BELOW\n",
      "ࣻ / ARABIC DOUBLE RIGHT ARROWHEAD ABOVE\n",
      "ࣼ / ARABIC DOUBLE RIGHT ARROWHEAD ABOVE WITH DOT\n",
      "ࣽ / ARABIC RIGHT ARROWHEAD ABOVE WITH DOT\n",
      "ࣾ / ARABIC DAMMA WITH DOT\n",
      "ࣿ / ARABIC MARK SIDEWAYS NOON GHUNNA\n",
      "ऀ / DEVANAGARI SIGN INVERTED CANDRABINDU\n",
      "ँ / DEVANAGARI SIGN CANDRABINDU\n",
      "ं / DEVANAGARI SIGN ANUSVARA\n",
      "ः / DEVANAGARI SIGN VISARGA\n",
      "ऺ / DEVANAGARI VOWEL SIGN OE\n",
      "ऻ / DEVANAGARI VOWEL SIGN OOE\n",
      "ा / DEVANAGARI VOWEL SIGN AA\n",
      "ि / DEVANAGARI VOWEL SIGN I\n",
      "ी / DEVANAGARI VOWEL SIGN II\n",
      "ु / DEVANAGARI VOWEL SIGN U\n",
      "ू / DEVANAGARI VOWEL SIGN UU\n",
      "ृ / DEVANAGARI VOWEL SIGN VOCALIC R\n",
      "ॄ / DEVANAGARI VOWEL SIGN VOCALIC RR\n",
      "ॅ / DEVANAGARI VOWEL SIGN CANDRA E\n",
      "ॆ / DEVANAGARI VOWEL SIGN SHORT E\n",
      "े / DEVANAGARI VOWEL SIGN E\n",
      "ै / DEVANAGARI VOWEL SIGN AI\n",
      "ॉ / DEVANAGARI VOWEL SIGN CANDRA O\n",
      "ॊ / DEVANAGARI VOWEL SIGN SHORT O\n",
      "ो / DEVANAGARI VOWEL SIGN O\n",
      "ौ / DEVANAGARI VOWEL SIGN AU\n",
      "ॎ / DEVANAGARI VOWEL SIGN PRISHTHAMATRA E\n",
      "ॏ / DEVANAGARI VOWEL SIGN AW\n",
      "ॕ / DEVANAGARI VOWEL SIGN CANDRA LONG E\n",
      "ॖ / DEVANAGARI VOWEL SIGN UE\n",
      "ॗ / DEVANAGARI VOWEL SIGN UUE\n",
      "ॢ / DEVANAGARI VOWEL SIGN VOCALIC L\n",
      "ॣ / DEVANAGARI VOWEL SIGN VOCALIC LL\n",
      "ঁ / BENGALI SIGN CANDRABINDU\n",
      "ং / BENGALI SIGN ANUSVARA\n",
      "ঃ / BENGALI SIGN VISARGA\n",
      "া / BENGALI VOWEL SIGN AA\n",
      "ি / BENGALI VOWEL SIGN I\n",
      "ী / BENGALI VOWEL SIGN II\n",
      "ু / BENGALI VOWEL SIGN U\n",
      "ূ / BENGALI VOWEL SIGN UU\n",
      "ৃ / BENGALI VOWEL SIGN VOCALIC R\n",
      "ৄ / BENGALI VOWEL SIGN VOCALIC RR\n",
      "ে / BENGALI VOWEL SIGN E\n",
      "ৈ / BENGALI VOWEL SIGN AI\n",
      "ো / BENGALI VOWEL SIGN O\n",
      "ৌ / BENGALI VOWEL SIGN AU\n",
      "ৗ / BENGALI AU LENGTH MARK\n",
      "ৢ / BENGALI VOWEL SIGN VOCALIC L\n",
      "ৣ / BENGALI VOWEL SIGN VOCALIC LL\n",
      "ਁ / GURMUKHI SIGN ADAK BINDI\n",
      "ਂ / GURMUKHI SIGN BINDI\n",
      "ਃ / GURMUKHI SIGN VISARGA\n",
      "ਾ / GURMUKHI VOWEL SIGN AA\n",
      "ਿ / GURMUKHI VOWEL SIGN I\n",
      "ੀ / GURMUKHI VOWEL SIGN II\n",
      "ੁ / GURMUKHI VOWEL SIGN U\n",
      "ੂ / GURMUKHI VOWEL SIGN UU\n",
      "ੇ / GURMUKHI VOWEL SIGN EE\n",
      "ੈ / GURMUKHI VOWEL SIGN AI\n",
      "ੋ / GURMUKHI VOWEL SIGN OO\n",
      "ੌ / GURMUKHI VOWEL SIGN AU\n",
      "ੑ / GURMUKHI SIGN UDAAT\n",
      "ੰ / GURMUKHI TIPPI\n",
      "ੱ / GURMUKHI ADDAK\n",
      "ੵ / GURMUKHI SIGN YAKASH\n",
      "ઁ / GUJARATI SIGN CANDRABINDU\n",
      "ં / GUJARATI SIGN ANUSVARA\n",
      "ઃ / GUJARATI SIGN VISARGA\n",
      "ા / GUJARATI VOWEL SIGN AA\n",
      "િ / GUJARATI VOWEL SIGN I\n",
      "ી / GUJARATI VOWEL SIGN II\n",
      "ુ / GUJARATI VOWEL SIGN U\n",
      "ૂ / GUJARATI VOWEL SIGN UU\n",
      "ૃ / GUJARATI VOWEL SIGN VOCALIC R\n",
      "ૄ / GUJARATI VOWEL SIGN VOCALIC RR\n",
      "ૅ / GUJARATI VOWEL SIGN CANDRA E\n",
      "ે / GUJARATI VOWEL SIGN E\n",
      "ૈ / GUJARATI VOWEL SIGN AI\n",
      "ૉ / GUJARATI VOWEL SIGN CANDRA O\n",
      "ો / GUJARATI VOWEL SIGN O\n",
      "ૌ / GUJARATI VOWEL SIGN AU\n",
      "ૢ / GUJARATI VOWEL SIGN VOCALIC L\n",
      "ૣ / GUJARATI VOWEL SIGN VOCALIC LL\n",
      "ଁ / ORIYA SIGN CANDRABINDU\n",
      "ଂ / ORIYA SIGN ANUSVARA\n",
      "ଃ / ORIYA SIGN VISARGA\n",
      "ା / ORIYA VOWEL SIGN AA\n",
      "ି / ORIYA VOWEL SIGN I\n",
      "ୀ / ORIYA VOWEL SIGN II\n",
      "ୁ / ORIYA VOWEL SIGN U\n",
      "ୂ / ORIYA VOWEL SIGN UU\n",
      "ୃ / ORIYA VOWEL SIGN VOCALIC R\n",
      "ୄ / ORIYA VOWEL SIGN VOCALIC RR\n",
      "େ / ORIYA VOWEL SIGN E\n",
      "ୈ / ORIYA VOWEL SIGN AI\n",
      "ୋ / ORIYA VOWEL SIGN O\n",
      "ୌ / ORIYA VOWEL SIGN AU\n",
      "ୖ / ORIYA AI LENGTH MARK\n",
      "ୗ / ORIYA AU LENGTH MARK\n",
      "ୢ / ORIYA VOWEL SIGN VOCALIC L\n",
      "ୣ / ORIYA VOWEL SIGN VOCALIC LL\n",
      "ஂ / TAMIL SIGN ANUSVARA\n",
      "ா / TAMIL VOWEL SIGN AA\n",
      "ி / TAMIL VOWEL SIGN I\n",
      "ீ / TAMIL VOWEL SIGN II\n",
      "ு / TAMIL VOWEL SIGN U\n",
      "ூ / TAMIL VOWEL SIGN UU\n",
      "ெ / TAMIL VOWEL SIGN E\n",
      "ே / TAMIL VOWEL SIGN EE\n",
      "ை / TAMIL VOWEL SIGN AI\n",
      "ொ / TAMIL VOWEL SIGN O\n",
      "ோ / TAMIL VOWEL SIGN OO\n",
      "ௌ / TAMIL VOWEL SIGN AU\n",
      "ௗ / TAMIL AU LENGTH MARK\n",
      "ఀ / TELUGU SIGN COMBINING CANDRABINDU ABOVE\n",
      "ఁ / TELUGU SIGN CANDRABINDU\n",
      "ం / TELUGU SIGN ANUSVARA\n",
      "ః / TELUGU SIGN VISARGA\n",
      "ా / TELUGU VOWEL SIGN AA\n",
      "ి / TELUGU VOWEL SIGN I\n",
      "ీ / TELUGU VOWEL SIGN II\n",
      "ు / TELUGU VOWEL SIGN U\n",
      "ూ / TELUGU VOWEL SIGN UU\n",
      "ృ / TELUGU VOWEL SIGN VOCALIC R\n",
      "ౄ / TELUGU VOWEL SIGN VOCALIC RR\n",
      "ె / TELUGU VOWEL SIGN E\n",
      "ే / TELUGU VOWEL SIGN EE\n",
      "ై / TELUGU VOWEL SIGN AI\n",
      "ొ / TELUGU VOWEL SIGN O\n",
      "ో / TELUGU VOWEL SIGN OO\n",
      "ౌ / TELUGU VOWEL SIGN AU\n",
      "ౕ / TELUGU LENGTH MARK\n",
      "ౖ / TELUGU AI LENGTH MARK\n",
      "ౢ / TELUGU VOWEL SIGN VOCALIC L\n",
      "ౣ / TELUGU VOWEL SIGN VOCALIC LL\n",
      "ಁ / KANNADA SIGN CANDRABINDU\n",
      "ಂ / KANNADA SIGN ANUSVARA\n",
      "ಃ / KANNADA SIGN VISARGA\n",
      "ಾ / KANNADA VOWEL SIGN AA\n",
      "ಿ / KANNADA VOWEL SIGN I\n",
      "ೀ / KANNADA VOWEL SIGN II\n",
      "ು / KANNADA VOWEL SIGN U\n",
      "ೂ / KANNADA VOWEL SIGN UU\n",
      "ೃ / KANNADA VOWEL SIGN VOCALIC R\n",
      "ೄ / KANNADA VOWEL SIGN VOCALIC RR\n",
      "ೆ / KANNADA VOWEL SIGN E\n",
      "ೇ / KANNADA VOWEL SIGN EE\n",
      "ೈ / KANNADA VOWEL SIGN AI\n",
      "ೊ / KANNADA VOWEL SIGN O\n",
      "ೋ / KANNADA VOWEL SIGN OO\n",
      "ೌ / KANNADA VOWEL SIGN AU\n",
      "ೕ / KANNADA LENGTH MARK\n",
      "ೖ / KANNADA AI LENGTH MARK\n",
      "ೢ / KANNADA VOWEL SIGN VOCALIC L\n",
      "ೣ / KANNADA VOWEL SIGN VOCALIC LL\n",
      "ഁ / MALAYALAM SIGN CANDRABINDU\n",
      "ം / MALAYALAM SIGN ANUSVARA\n",
      "ഃ / MALAYALAM SIGN VISARGA\n",
      "ാ / MALAYALAM VOWEL SIGN AA\n",
      "ി / MALAYALAM VOWEL SIGN I\n",
      "ീ / MALAYALAM VOWEL SIGN II\n",
      "ു / MALAYALAM VOWEL SIGN U\n",
      "ൂ / MALAYALAM VOWEL SIGN UU\n",
      "ൃ / MALAYALAM VOWEL SIGN VOCALIC R\n",
      "ൄ / MALAYALAM VOWEL SIGN VOCALIC RR\n",
      "െ / MALAYALAM VOWEL SIGN E\n",
      "േ / MALAYALAM VOWEL SIGN EE\n",
      "ൈ / MALAYALAM VOWEL SIGN AI\n",
      "ൊ / MALAYALAM VOWEL SIGN O\n",
      "ോ / MALAYALAM VOWEL SIGN OO\n",
      "ൌ / MALAYALAM VOWEL SIGN AU\n",
      "ൗ / MALAYALAM AU LENGTH MARK\n",
      "ൢ / MALAYALAM VOWEL SIGN VOCALIC L\n",
      "ൣ / MALAYALAM VOWEL SIGN VOCALIC LL\n",
      "ං / SINHALA SIGN ANUSVARAYA\n",
      "ඃ / SINHALA SIGN VISARGAYA\n",
      "ා / SINHALA VOWEL SIGN AELA-PILLA\n",
      "ැ / SINHALA VOWEL SIGN KETTI AEDA-PILLA\n",
      "ෑ / SINHALA VOWEL SIGN DIGA AEDA-PILLA\n",
      "ි / SINHALA VOWEL SIGN KETTI IS-PILLA\n",
      "ී / SINHALA VOWEL SIGN DIGA IS-PILLA\n",
      "ු / SINHALA VOWEL SIGN KETTI PAA-PILLA\n",
      "ූ / SINHALA VOWEL SIGN DIGA PAA-PILLA\n",
      "ෘ / SINHALA VOWEL SIGN GAETTA-PILLA\n",
      "ෙ / SINHALA VOWEL SIGN KOMBUVA\n",
      "ේ / SINHALA VOWEL SIGN DIGA KOMBUVA\n",
      "ෛ / SINHALA VOWEL SIGN KOMBU DEKA\n",
      "ො / SINHALA VOWEL SIGN KOMBUVA HAA AELA-PILLA\n",
      "ෝ / SINHALA VOWEL SIGN KOMBUVA HAA DIGA AELA-PILLA\n",
      "ෞ / SINHALA VOWEL SIGN KOMBUVA HAA GAYANUKITTA\n",
      "ෟ / SINHALA VOWEL SIGN GAYANUKITTA\n",
      "ෲ / SINHALA VOWEL SIGN DIGA GAETTA-PILLA\n",
      "ෳ / SINHALA VOWEL SIGN DIGA GAYANUKITTA\n",
      "ั / THAI CHARACTER MAI HAN-AKAT\n",
      "ิ / THAI CHARACTER SARA I\n",
      "ี / THAI CHARACTER SARA II\n",
      "ึ / THAI CHARACTER SARA UE\n",
      "ื / THAI CHARACTER SARA UEE\n",
      "ุ / THAI CHARACTER SARA U\n",
      "ู / THAI CHARACTER SARA UU\n",
      "ฺ / THAI CHARACTER PHINTHU\n",
      "ํ / THAI CHARACTER NIKHAHIT\n",
      "ັ / LAO VOWEL SIGN MAI KAN\n",
      "ິ / LAO VOWEL SIGN I\n",
      "ີ / LAO VOWEL SIGN II\n",
      "ຶ / LAO VOWEL SIGN Y\n",
      "ື / LAO VOWEL SIGN YY\n",
      "ຸ / LAO VOWEL SIGN U\n",
      "ູ / LAO VOWEL SIGN UU\n",
      "ົ / LAO VOWEL SIGN MAI KON\n",
      "ຼ / LAO SEMIVOWEL SIGN LO\n",
      "ໍ / LAO NIGGAHITA\n",
      "ཱ / TIBETAN VOWEL SIGN AA\n",
      "ི / TIBETAN VOWEL SIGN I\n",
      "ཱི / TIBETAN VOWEL SIGN II\n",
      "ུ / TIBETAN VOWEL SIGN U\n",
      "ཱུ / TIBETAN VOWEL SIGN UU\n",
      "ྲྀ / TIBETAN VOWEL SIGN VOCALIC R\n",
      "ཷ / TIBETAN VOWEL SIGN VOCALIC RR\n",
      "ླྀ / TIBETAN VOWEL SIGN VOCALIC L\n",
      "ཹ / TIBETAN VOWEL SIGN VOCALIC LL\n",
      "ེ / TIBETAN VOWEL SIGN E\n",
      "ཻ / TIBETAN VOWEL SIGN EE\n",
      "ོ / TIBETAN VOWEL SIGN O\n",
      "ཽ / TIBETAN VOWEL SIGN OO\n",
      "ཾ / TIBETAN SIGN RJES SU NGA RO\n",
      "ཿ / TIBETAN SIGN RNAM BCAD\n",
      "ྀ / TIBETAN VOWEL SIGN REVERSED I\n",
      "ཱྀ / TIBETAN VOWEL SIGN REVERSED II\n",
      "ྍ / TIBETAN SUBJOINED SIGN LCE TSA CAN\n",
      "ྎ / TIBETAN SUBJOINED SIGN MCHU CAN\n",
      "ྏ / TIBETAN SUBJOINED SIGN INVERTED MCHU CAN\n",
      "ྐ / TIBETAN SUBJOINED LETTER KA\n",
      "ྑ / TIBETAN SUBJOINED LETTER KHA\n",
      "ྒ / TIBETAN SUBJOINED LETTER GA\n",
      "ྒྷ / TIBETAN SUBJOINED LETTER GHA\n",
      "ྔ / TIBETAN SUBJOINED LETTER NGA\n",
      "ྕ / TIBETAN SUBJOINED LETTER CA\n",
      "ྖ / TIBETAN SUBJOINED LETTER CHA\n",
      "ྗ / TIBETAN SUBJOINED LETTER JA\n",
      "ྙ / TIBETAN SUBJOINED LETTER NYA\n",
      "ྚ / TIBETAN SUBJOINED LETTER TTA\n",
      "ྛ / TIBETAN SUBJOINED LETTER TTHA\n",
      "ྜ / TIBETAN SUBJOINED LETTER DDA\n",
      "ྜྷ / TIBETAN SUBJOINED LETTER DDHA\n",
      "ྞ / TIBETAN SUBJOINED LETTER NNA\n",
      "ྟ / TIBETAN SUBJOINED LETTER TA\n",
      "ྠ / TIBETAN SUBJOINED LETTER THA\n",
      "ྡ / TIBETAN SUBJOINED LETTER DA\n",
      "ྡྷ / TIBETAN SUBJOINED LETTER DHA\n",
      "ྣ / TIBETAN SUBJOINED LETTER NA\n",
      "ྤ / TIBETAN SUBJOINED LETTER PA\n",
      "ྥ / TIBETAN SUBJOINED LETTER PHA\n",
      "ྦ / TIBETAN SUBJOINED LETTER BA\n",
      "ྦྷ / TIBETAN SUBJOINED LETTER BHA\n",
      "ྨ / TIBETAN SUBJOINED LETTER MA\n",
      "ྩ / TIBETAN SUBJOINED LETTER TSA\n",
      "ྪ / TIBETAN SUBJOINED LETTER TSHA\n",
      "ྫ / TIBETAN SUBJOINED LETTER DZA\n",
      "ྫྷ / TIBETAN SUBJOINED LETTER DZHA\n",
      "ྭ / TIBETAN SUBJOINED LETTER WA\n",
      "ྮ / TIBETAN SUBJOINED LETTER ZHA\n",
      "ྯ / TIBETAN SUBJOINED LETTER ZA\n",
      "ྰ / TIBETAN SUBJOINED LETTER -A\n",
      "ྱ / TIBETAN SUBJOINED LETTER YA\n",
      "ྲ / TIBETAN SUBJOINED LETTER RA\n",
      "ླ / TIBETAN SUBJOINED LETTER LA\n",
      "ྴ / TIBETAN SUBJOINED LETTER SHA\n",
      "ྵ / TIBETAN SUBJOINED LETTER SSA\n",
      "ྶ / TIBETAN SUBJOINED LETTER SA\n",
      "ྷ / TIBETAN SUBJOINED LETTER HA\n",
      "ྸ / TIBETAN SUBJOINED LETTER A\n",
      "ྐྵ / TIBETAN SUBJOINED LETTER KSSA\n",
      "ྺ / TIBETAN SUBJOINED LETTER FIXED-FORM WA\n",
      "ྻ / TIBETAN SUBJOINED LETTER FIXED-FORM YA\n",
      "ྼ / TIBETAN SUBJOINED LETTER FIXED-FORM RA\n",
      "ါ / MYANMAR VOWEL SIGN TALL AA\n",
      "ာ / MYANMAR VOWEL SIGN AA\n",
      "ိ / MYANMAR VOWEL SIGN I\n",
      "ီ / MYANMAR VOWEL SIGN II\n",
      "ု / MYANMAR VOWEL SIGN U\n",
      "ူ / MYANMAR VOWEL SIGN UU\n",
      "ေ / MYANMAR VOWEL SIGN E\n",
      "ဲ / MYANMAR VOWEL SIGN AI\n",
      "ဳ / MYANMAR VOWEL SIGN MON II\n",
      "ဴ / MYANMAR VOWEL SIGN MON O\n",
      "ဵ / MYANMAR VOWEL SIGN E ABOVE\n",
      "ံ / MYANMAR SIGN ANUSVARA\n",
      "း / MYANMAR SIGN VISARGA\n",
      "ျ / MYANMAR CONSONANT SIGN MEDIAL YA\n",
      "ြ / MYANMAR CONSONANT SIGN MEDIAL RA\n",
      "ွ / MYANMAR CONSONANT SIGN MEDIAL WA\n",
      "ှ / MYANMAR CONSONANT SIGN MEDIAL HA\n",
      "ၖ / MYANMAR VOWEL SIGN VOCALIC R\n",
      "ၗ / MYANMAR VOWEL SIGN VOCALIC RR\n",
      "ၘ / MYANMAR VOWEL SIGN VOCALIC L\n",
      "ၙ / MYANMAR VOWEL SIGN VOCALIC LL\n",
      "ၞ / MYANMAR CONSONANT SIGN MON MEDIAL NA\n",
      "ၟ / MYANMAR CONSONANT SIGN MON MEDIAL MA\n",
      "ၠ / MYANMAR CONSONANT SIGN MON MEDIAL LA\n",
      "ၢ / MYANMAR VOWEL SIGN SGAW KAREN EU\n",
      "ၧ / MYANMAR VOWEL SIGN WESTERN PWO KAREN EU\n",
      "ၨ / MYANMAR VOWEL SIGN WESTERN PWO KAREN UE\n",
      "ၱ / MYANMAR VOWEL SIGN GEBA KAREN I\n",
      "ၲ / MYANMAR VOWEL SIGN KAYAH OE\n",
      "ၳ / MYANMAR VOWEL SIGN KAYAH U\n",
      "ၴ / MYANMAR VOWEL SIGN KAYAH EE\n",
      "ႂ / MYANMAR CONSONANT SIGN SHAN MEDIAL WA\n",
      "ႃ / MYANMAR VOWEL SIGN SHAN AA\n",
      "ႄ / MYANMAR VOWEL SIGN SHAN E\n",
      "ႅ / MYANMAR VOWEL SIGN SHAN E ABOVE\n",
      "ႆ / MYANMAR VOWEL SIGN SHAN FINAL Y\n",
      "ႜ / MYANMAR VOWEL SIGN AITON A\n",
      "ႝ / MYANMAR VOWEL SIGN AITON AI\n",
      "፟ / ETHIOPIC COMBINING GEMINATION MARK\n",
      "ᛮ / RUNIC ARLAUG SYMBOL\n",
      "ᛯ / RUNIC TVIMADUR SYMBOL\n",
      "ᛰ / RUNIC BELGTHOR SYMBOL\n",
      "ᜒ / TAGALOG VOWEL SIGN I\n",
      "ᜓ / TAGALOG VOWEL SIGN U\n",
      "ᜲ / HANUNOO VOWEL SIGN I\n",
      "ᜳ / HANUNOO VOWEL SIGN U\n",
      "ᝒ / BUHID VOWEL SIGN I\n",
      "ᝓ / BUHID VOWEL SIGN U\n",
      "ᝲ / TAGBANWA VOWEL SIGN I\n",
      "ᝳ / TAGBANWA VOWEL SIGN U\n",
      "ា / KHMER VOWEL SIGN AA\n",
      "ិ / KHMER VOWEL SIGN I\n",
      "ី / KHMER VOWEL SIGN II\n",
      "ឹ / KHMER VOWEL SIGN Y\n",
      "ឺ / KHMER VOWEL SIGN YY\n",
      "ុ / KHMER VOWEL SIGN U\n",
      "ូ / KHMER VOWEL SIGN UU\n",
      "ួ / KHMER VOWEL SIGN UA\n",
      "ើ / KHMER VOWEL SIGN OE\n",
      "ឿ / KHMER VOWEL SIGN YA\n",
      "ៀ / KHMER VOWEL SIGN IE\n",
      "េ / KHMER VOWEL SIGN E\n",
      "ែ / KHMER VOWEL SIGN AE\n",
      "ៃ / KHMER VOWEL SIGN AI\n",
      "ោ / KHMER VOWEL SIGN OO\n",
      "ៅ / KHMER VOWEL SIGN AU\n",
      "ំ / KHMER SIGN NIKAHIT\n",
      "ះ / KHMER SIGN REAHMUK\n",
      "ៈ / KHMER SIGN YUUKALEAPINTU\n",
      "ᢅ / MONGOLIAN LETTER ALI GALI BALUDA\n",
      "ᢆ / MONGOLIAN LETTER ALI GALI THREE BALUDA\n",
      "ᢩ / MONGOLIAN LETTER ALI GALI DAGALGA\n",
      "ᤠ / LIMBU VOWEL SIGN A\n",
      "ᤡ / LIMBU VOWEL SIGN I\n",
      "ᤢ / LIMBU VOWEL SIGN U\n",
      "ᤣ / LIMBU VOWEL SIGN EE\n",
      "ᤤ / LIMBU VOWEL SIGN AI\n",
      "ᤥ / LIMBU VOWEL SIGN OO\n",
      "ᤦ / LIMBU VOWEL SIGN AU\n",
      "ᤧ / LIMBU VOWEL SIGN E\n",
      "ᤨ / LIMBU VOWEL SIGN O\n",
      "ᤩ / LIMBU SUBJOINED LETTER YA\n",
      "ᤪ / LIMBU SUBJOINED LETTER RA\n",
      "ᤫ / LIMBU SUBJOINED LETTER WA\n",
      "ᤰ / LIMBU SMALL LETTER KA\n",
      "ᤱ / LIMBU SMALL LETTER NGA\n",
      "ᤲ / LIMBU SMALL LETTER ANUSVARA\n",
      "ᤳ / LIMBU SMALL LETTER TA\n",
      "ᤴ / LIMBU SMALL LETTER NA\n",
      "ᤵ / LIMBU SMALL LETTER PA\n",
      "ᤶ / LIMBU SMALL LETTER MA\n",
      "ᤷ / LIMBU SMALL LETTER RA\n",
      "ᤸ / LIMBU SMALL LETTER LA\n",
      "ᨗ / BUGINESE VOWEL SIGN I\n",
      "ᨘ / BUGINESE VOWEL SIGN U\n",
      "ᨙ / BUGINESE VOWEL SIGN E\n",
      "ᨚ / BUGINESE VOWEL SIGN O\n",
      "ᨛ / BUGINESE VOWEL SIGN AE\n",
      "ᩕ / TAI THAM CONSONANT SIGN MEDIAL RA\n",
      "ᩖ / TAI THAM CONSONANT SIGN MEDIAL LA\n",
      "ᩗ / TAI THAM CONSONANT SIGN LA TANG LAI\n",
      "ᩘ / TAI THAM SIGN MAI KANG LAI\n",
      "ᩙ / TAI THAM CONSONANT SIGN FINAL NGA\n",
      "ᩚ / TAI THAM CONSONANT SIGN LOW PA\n",
      "ᩛ / TAI THAM CONSONANT SIGN HIGH RATHA OR LOW PA\n",
      "ᩜ / TAI THAM CONSONANT SIGN MA\n",
      "ᩝ / TAI THAM CONSONANT SIGN BA\n",
      "ᩞ / TAI THAM CONSONANT SIGN SA\n",
      "ᩡ / TAI THAM VOWEL SIGN A\n",
      "ᩢ / TAI THAM VOWEL SIGN MAI SAT\n",
      "ᩣ / TAI THAM VOWEL SIGN AA\n",
      "ᩤ / TAI THAM VOWEL SIGN TALL AA\n",
      "ᩥ / TAI THAM VOWEL SIGN I\n",
      "ᩦ / TAI THAM VOWEL SIGN II\n",
      "ᩧ / TAI THAM VOWEL SIGN UE\n",
      "ᩨ / TAI THAM VOWEL SIGN UUE\n",
      "ᩩ / TAI THAM VOWEL SIGN U\n",
      "ᩪ / TAI THAM VOWEL SIGN UU\n",
      "ᩫ / TAI THAM VOWEL SIGN O\n",
      "ᩬ / TAI THAM VOWEL SIGN OA BELOW\n",
      "ᩭ / TAI THAM VOWEL SIGN OY\n",
      "ᩮ / TAI THAM VOWEL SIGN E\n",
      "ᩯ / TAI THAM VOWEL SIGN AE\n",
      "ᩰ / TAI THAM VOWEL SIGN OO\n",
      "ᩱ / TAI THAM VOWEL SIGN AI\n",
      "ᩲ / TAI THAM VOWEL SIGN THAM AI\n",
      "ᩳ / TAI THAM VOWEL SIGN OA ABOVE\n",
      "ᩴ / TAI THAM SIGN MAI KANG\n",
      "ᬀ / BALINESE SIGN ULU RICEM\n",
      "ᬁ / BALINESE SIGN ULU CANDRA\n",
      "ᬂ / BALINESE SIGN CECEK\n",
      "ᬃ / BALINESE SIGN SURANG\n",
      "ᬄ / BALINESE SIGN BISAH\n",
      "ᬵ / BALINESE VOWEL SIGN TEDUNG\n",
      "ᬶ / BALINESE VOWEL SIGN ULU\n",
      "ᬷ / BALINESE VOWEL SIGN ULU SARI\n",
      "ᬸ / BALINESE VOWEL SIGN SUKU\n",
      "ᬹ / BALINESE VOWEL SIGN SUKU ILUT\n",
      "ᬺ / BALINESE VOWEL SIGN RA REPA\n",
      "ᬻ / BALINESE VOWEL SIGN RA REPA TEDUNG\n",
      "ᬼ / BALINESE VOWEL SIGN LA LENGA\n",
      "ᬽ / BALINESE VOWEL SIGN LA LENGA TEDUNG\n",
      "ᬾ / BALINESE VOWEL SIGN TALING\n",
      "ᬿ / BALINESE VOWEL SIGN TALING REPA\n",
      "ᭀ / BALINESE VOWEL SIGN TALING TEDUNG\n",
      "ᭁ / BALINESE VOWEL SIGN TALING REPA TEDUNG\n",
      "ᭂ / BALINESE VOWEL SIGN PEPET\n",
      "ᭃ / BALINESE VOWEL SIGN PEPET TEDUNG\n",
      "ᮀ / SUNDANESE SIGN PANYECEK\n",
      "ᮁ / SUNDANESE SIGN PANGLAYAR\n",
      "ᮂ / SUNDANESE SIGN PANGWISAD\n",
      "ᮡ / SUNDANESE CONSONANT SIGN PAMINGKAL\n",
      "ᮢ / SUNDANESE CONSONANT SIGN PANYAKRA\n",
      "ᮣ / SUNDANESE CONSONANT SIGN PANYIKU\n",
      "ᮤ / SUNDANESE VOWEL SIGN PANGHULU\n",
      "ᮥ / SUNDANESE VOWEL SIGN PANYUKU\n",
      "ᮦ / SUNDANESE VOWEL SIGN PANAELAENG\n",
      "ᮧ / SUNDANESE VOWEL SIGN PANOLONG\n",
      "ᮨ / SUNDANESE VOWEL SIGN PAMEPET\n",
      "ᮩ / SUNDANESE VOWEL SIGN PANEULEUNG\n",
      "ᮬ / SUNDANESE CONSONANT SIGN PASANGAN MA\n",
      "ᮭ / SUNDANESE CONSONANT SIGN PASANGAN WA\n",
      "ᯧ / BATAK VOWEL SIGN E\n",
      "ᯨ / BATAK VOWEL SIGN PAKPAK E\n",
      "ᯩ / BATAK VOWEL SIGN EE\n",
      "ᯪ / BATAK VOWEL SIGN I\n",
      "ᯫ / BATAK VOWEL SIGN KARO I\n",
      "ᯬ / BATAK VOWEL SIGN O\n",
      "ᯭ / BATAK VOWEL SIGN KARO O\n",
      "ᯮ / BATAK VOWEL SIGN U\n",
      "ᯯ / BATAK VOWEL SIGN U FOR SIMALUNGUN SA\n",
      "ᯰ / BATAK CONSONANT SIGN NG\n",
      "ᯱ / BATAK CONSONANT SIGN H\n",
      "ᰤ / LEPCHA SUBJOINED LETTER YA\n",
      "ᰥ / LEPCHA SUBJOINED LETTER RA\n",
      "ᰦ / LEPCHA VOWEL SIGN AA\n",
      "ᰧ / LEPCHA VOWEL SIGN I\n",
      "ᰨ / LEPCHA VOWEL SIGN O\n",
      "ᰩ / LEPCHA VOWEL SIGN OO\n",
      "ᰪ / LEPCHA VOWEL SIGN U\n",
      "ᰫ / LEPCHA VOWEL SIGN UU\n",
      "ᰬ / LEPCHA VOWEL SIGN E\n",
      "ᰭ / LEPCHA CONSONANT SIGN K\n",
      "ᰮ / LEPCHA CONSONANT SIGN M\n",
      "ᰯ / LEPCHA CONSONANT SIGN L\n",
      "ᰰ / LEPCHA CONSONANT SIGN N\n",
      "ᰱ / LEPCHA CONSONANT SIGN P\n",
      "ᰲ / LEPCHA CONSONANT SIGN R\n",
      "ᰳ / LEPCHA CONSONANT SIGN T\n",
      "ᰴ / LEPCHA CONSONANT SIGN NYIN-DO\n",
      "ᰵ / LEPCHA CONSONANT SIGN KANG\n",
      "ᳲ / VEDIC SIGN ARDHAVISARGA\n",
      "ᳳ / VEDIC SIGN ROTATED ARDHAVISARGA\n",
      "ᷧ / COMBINING LATIN SMALL LETTER ALPHA\n",
      "ᷨ / COMBINING LATIN SMALL LETTER B\n",
      "ᷩ / COMBINING LATIN SMALL LETTER BETA\n",
      "ᷪ / COMBINING LATIN SMALL LETTER SCHWA\n",
      "ᷫ / COMBINING LATIN SMALL LETTER F\n",
      "ᷬ / COMBINING LATIN SMALL LETTER L WITH DOUBLE MIDDLE TILDE\n",
      "ᷭ / COMBINING LATIN SMALL LETTER O WITH LIGHT CENTRALIZATION STROKE\n",
      "ᷮ / COMBINING LATIN SMALL LETTER P\n",
      "ᷯ / COMBINING LATIN SMALL LETTER ESH\n",
      "ᷰ / COMBINING LATIN SMALL LETTER U WITH LIGHT CENTRALIZATION STROKE\n",
      "ᷱ / COMBINING LATIN SMALL LETTER W\n",
      "ᷲ / COMBINING LATIN SMALL LETTER A WITH DIAERESIS\n",
      "ᷳ / COMBINING LATIN SMALL LETTER O WITH DIAERESIS\n",
      "ᷴ / COMBINING LATIN SMALL LETTER U WITH DIAERESIS\n",
      "Ⅰ / ROMAN NUMERAL ONE\n",
      "Ⅱ / ROMAN NUMERAL TWO\n",
      "Ⅲ / ROMAN NUMERAL THREE\n",
      "Ⅳ / ROMAN NUMERAL FOUR\n",
      "Ⅴ / ROMAN NUMERAL FIVE\n",
      "Ⅵ / ROMAN NUMERAL SIX\n",
      "Ⅶ / ROMAN NUMERAL SEVEN\n",
      "Ⅷ / ROMAN NUMERAL EIGHT\n",
      "Ⅸ / ROMAN NUMERAL NINE\n",
      "Ⅹ / ROMAN NUMERAL TEN\n",
      "Ⅺ / ROMAN NUMERAL ELEVEN\n",
      "Ⅻ / ROMAN NUMERAL TWELVE\n",
      "Ⅼ / ROMAN NUMERAL FIFTY\n",
      "Ⅽ / ROMAN NUMERAL ONE HUNDRED\n",
      "Ⅾ / ROMAN NUMERAL FIVE HUNDRED\n",
      "Ⅿ / ROMAN NUMERAL ONE THOUSAND\n",
      "ⅰ / SMALL ROMAN NUMERAL ONE\n",
      "ⅱ / SMALL ROMAN NUMERAL TWO\n",
      "ⅲ / SMALL ROMAN NUMERAL THREE\n",
      "ⅳ / SMALL ROMAN NUMERAL FOUR\n",
      "ⅴ / SMALL ROMAN NUMERAL FIVE\n",
      "ⅵ / SMALL ROMAN NUMERAL SIX\n",
      "ⅶ / SMALL ROMAN NUMERAL SEVEN\n",
      "ⅷ / SMALL ROMAN NUMERAL EIGHT\n",
      "ⅸ / SMALL ROMAN NUMERAL NINE\n",
      "ⅹ / SMALL ROMAN NUMERAL TEN\n",
      "ⅺ / SMALL ROMAN NUMERAL ELEVEN\n",
      "ⅻ / SMALL ROMAN NUMERAL TWELVE\n",
      "ⅼ / SMALL ROMAN NUMERAL FIFTY\n",
      "ⅽ / SMALL ROMAN NUMERAL ONE HUNDRED\n",
      "ⅾ / SMALL ROMAN NUMERAL FIVE HUNDRED\n",
      "ⅿ / SMALL ROMAN NUMERAL ONE THOUSAND\n",
      "ↀ / ROMAN NUMERAL ONE THOUSAND C D\n",
      "ↁ / ROMAN NUMERAL FIVE THOUSAND\n",
      "ↂ / ROMAN NUMERAL TEN THOUSAND\n",
      "ↅ / ROMAN NUMERAL SIX LATE FORM\n",
      "ↆ / ROMAN NUMERAL FIFTY EARLY FORM\n",
      "ↇ / ROMAN NUMERAL FIFTY THOUSAND\n",
      "ↈ / ROMAN NUMERAL ONE HUNDRED THOUSAND\n",
      "Ⓐ / CIRCLED LATIN CAPITAL LETTER A\n",
      "Ⓑ / CIRCLED LATIN CAPITAL LETTER B\n",
      "Ⓒ / CIRCLED LATIN CAPITAL LETTER C\n",
      "Ⓓ / CIRCLED LATIN CAPITAL LETTER D\n",
      "Ⓔ / CIRCLED LATIN CAPITAL LETTER E\n",
      "Ⓕ / CIRCLED LATIN CAPITAL LETTER F\n",
      "Ⓖ / CIRCLED LATIN CAPITAL LETTER G\n",
      "Ⓗ / CIRCLED LATIN CAPITAL LETTER H\n",
      "Ⓘ / CIRCLED LATIN CAPITAL LETTER I\n",
      "Ⓙ / CIRCLED LATIN CAPITAL LETTER J\n",
      "Ⓚ / CIRCLED LATIN CAPITAL LETTER K\n",
      "Ⓛ / CIRCLED LATIN CAPITAL LETTER L\n",
      "Ⓜ / CIRCLED LATIN CAPITAL LETTER M\n",
      "Ⓝ / CIRCLED LATIN CAPITAL LETTER N\n",
      "Ⓞ / CIRCLED LATIN CAPITAL LETTER O\n",
      "Ⓟ / CIRCLED LATIN CAPITAL LETTER P\n",
      "Ⓠ / CIRCLED LATIN CAPITAL LETTER Q\n",
      "Ⓡ / CIRCLED LATIN CAPITAL LETTER R\n",
      "Ⓢ / CIRCLED LATIN CAPITAL LETTER S\n",
      "Ⓣ / CIRCLED LATIN CAPITAL LETTER T\n",
      "Ⓤ / CIRCLED LATIN CAPITAL LETTER U\n",
      "Ⓥ / CIRCLED LATIN CAPITAL LETTER V\n",
      "Ⓦ / CIRCLED LATIN CAPITAL LETTER W\n",
      "Ⓧ / CIRCLED LATIN CAPITAL LETTER X\n",
      "Ⓨ / CIRCLED LATIN CAPITAL LETTER Y\n",
      "Ⓩ / CIRCLED LATIN CAPITAL LETTER Z\n",
      "ⓐ / CIRCLED LATIN SMALL LETTER A\n",
      "ⓑ / CIRCLED LATIN SMALL LETTER B\n",
      "ⓒ / CIRCLED LATIN SMALL LETTER C\n",
      "ⓓ / CIRCLED LATIN SMALL LETTER D\n",
      "ⓔ / CIRCLED LATIN SMALL LETTER E\n",
      "ⓕ / CIRCLED LATIN SMALL LETTER F\n",
      "ⓖ / CIRCLED LATIN SMALL LETTER G\n",
      "ⓗ / CIRCLED LATIN SMALL LETTER H\n",
      "ⓘ / CIRCLED LATIN SMALL LETTER I\n",
      "ⓙ / CIRCLED LATIN SMALL LETTER J\n",
      "ⓚ / CIRCLED LATIN SMALL LETTER K\n",
      "ⓛ / CIRCLED LATIN SMALL LETTER L\n",
      "ⓜ / CIRCLED LATIN SMALL LETTER M\n",
      "ⓝ / CIRCLED LATIN SMALL LETTER N\n",
      "ⓞ / CIRCLED LATIN SMALL LETTER O\n",
      "ⓟ / CIRCLED LATIN SMALL LETTER P\n",
      "ⓠ / CIRCLED LATIN SMALL LETTER Q\n",
      "ⓡ / CIRCLED LATIN SMALL LETTER R\n",
      "ⓢ / CIRCLED LATIN SMALL LETTER S\n",
      "ⓣ / CIRCLED LATIN SMALL LETTER T\n",
      "ⓤ / CIRCLED LATIN SMALL LETTER U\n",
      "ⓥ / CIRCLED LATIN SMALL LETTER V\n",
      "ⓦ / CIRCLED LATIN SMALL LETTER W\n",
      "ⓧ / CIRCLED LATIN SMALL LETTER X\n",
      "ⓨ / CIRCLED LATIN SMALL LETTER Y\n",
      "ⓩ / CIRCLED LATIN SMALL LETTER Z\n",
      "ⷠ / COMBINING CYRILLIC LETTER BE\n",
      "ⷡ / COMBINING CYRILLIC LETTER VE\n",
      "ⷢ / COMBINING CYRILLIC LETTER GHE\n",
      "ⷣ / COMBINING CYRILLIC LETTER DE\n",
      "ⷤ / COMBINING CYRILLIC LETTER ZHE\n",
      "ⷥ / COMBINING CYRILLIC LETTER ZE\n",
      "ⷦ / COMBINING CYRILLIC LETTER KA\n",
      "ⷧ / COMBINING CYRILLIC LETTER EL\n",
      "ⷨ / COMBINING CYRILLIC LETTER EM\n",
      "ⷩ / COMBINING CYRILLIC LETTER EN\n",
      "ⷪ / COMBINING CYRILLIC LETTER O\n",
      "ⷫ / COMBINING CYRILLIC LETTER PE\n",
      "ⷬ / COMBINING CYRILLIC LETTER ER\n",
      "ⷭ / COMBINING CYRILLIC LETTER ES\n",
      "ⷮ / COMBINING CYRILLIC LETTER TE\n",
      "ⷯ / COMBINING CYRILLIC LETTER HA\n",
      "ⷰ / COMBINING CYRILLIC LETTER TSE\n",
      "ⷱ / COMBINING CYRILLIC LETTER CHE\n",
      "ⷲ / COMBINING CYRILLIC LETTER SHA\n",
      "ⷳ / COMBINING CYRILLIC LETTER SHCHA\n",
      "ⷴ / COMBINING CYRILLIC LETTER FITA\n",
      "ⷵ / COMBINING CYRILLIC LETTER ES-TE\n",
      "ⷶ / COMBINING CYRILLIC LETTER A\n",
      "ⷷ / COMBINING CYRILLIC LETTER IE\n",
      "ⷸ / COMBINING CYRILLIC LETTER DJERV\n",
      "ⷹ / COMBINING CYRILLIC LETTER MONOGRAPH UK\n",
      "ⷺ / COMBINING CYRILLIC LETTER YAT\n",
      "ⷻ / COMBINING CYRILLIC LETTER YU\n",
      "ⷼ / COMBINING CYRILLIC LETTER IOTIFIED A\n",
      "ⷽ / COMBINING CYRILLIC LETTER LITTLE YUS\n",
      "ⷾ / COMBINING CYRILLIC LETTER BIG YUS\n",
      "ⷿ / COMBINING CYRILLIC LETTER IOTIFIED BIG YUS\n",
      "〇 / IDEOGRAPHIC NUMBER ZERO\n",
      "〡 / HANGZHOU NUMERAL ONE\n",
      "〢 / HANGZHOU NUMERAL TWO\n",
      "〣 / HANGZHOU NUMERAL THREE\n",
      "〤 / HANGZHOU NUMERAL FOUR\n",
      "〥 / HANGZHOU NUMERAL FIVE\n",
      "〦 / HANGZHOU NUMERAL SIX\n",
      "〧 / HANGZHOU NUMERAL SEVEN\n",
      "〨 / HANGZHOU NUMERAL EIGHT\n",
      "〩 / HANGZHOU NUMERAL NINE\n",
      "〸 / HANGZHOU NUMERAL TEN\n",
      "〹 / HANGZHOU NUMERAL TWENTY\n",
      "〺 / HANGZHOU NUMERAL THIRTY\n",
      "ꙴ / COMBINING CYRILLIC LETTER UKRAINIAN IE\n",
      "ꙵ / COMBINING CYRILLIC LETTER I\n",
      "ꙶ / COMBINING CYRILLIC LETTER YI\n",
      "ꙷ / COMBINING CYRILLIC LETTER U\n",
      "ꙸ / COMBINING CYRILLIC LETTER HARD SIGN\n",
      "ꙹ / COMBINING CYRILLIC LETTER YERU\n",
      "ꙺ / COMBINING CYRILLIC LETTER SOFT SIGN\n",
      "ꙻ / COMBINING CYRILLIC LETTER OMEGA\n",
      "ꚞ / COMBINING CYRILLIC LETTER EF\n",
      "ꚟ / COMBINING CYRILLIC LETTER IOTIFIED E\n",
      "ꛦ / BAMUM LETTER MO\n",
      "ꛧ / BAMUM LETTER MBAA\n",
      "ꛨ / BAMUM LETTER TET\n",
      "ꛩ / BAMUM LETTER KPA\n",
      "ꛪ / BAMUM LETTER TEN\n",
      "ꛫ / BAMUM LETTER NTUU\n",
      "ꛬ / BAMUM LETTER SAMBA\n",
      "ꛭ / BAMUM LETTER FAAMAE\n",
      "ꛮ / BAMUM LETTER KOVUU\n",
      "ꛯ / BAMUM LETTER KOGHOM\n",
      "ꠣ / SYLOTI NAGRI VOWEL SIGN A\n",
      "ꠤ / SYLOTI NAGRI VOWEL SIGN I\n",
      "ꠥ / SYLOTI NAGRI VOWEL SIGN U\n",
      "ꠦ / SYLOTI NAGRI VOWEL SIGN E\n",
      "ꠧ / SYLOTI NAGRI VOWEL SIGN OO\n",
      "ꢀ / SAURASHTRA SIGN ANUSVARA\n",
      "ꢁ / SAURASHTRA SIGN VISARGA\n",
      "ꢴ / SAURASHTRA CONSONANT SIGN HAARU\n",
      "ꢵ / SAURASHTRA VOWEL SIGN AA\n",
      "ꢶ / SAURASHTRA VOWEL SIGN I\n",
      "ꢷ / SAURASHTRA VOWEL SIGN II\n",
      "ꢸ / SAURASHTRA VOWEL SIGN U\n",
      "ꢹ / SAURASHTRA VOWEL SIGN UU\n",
      "ꢺ / SAURASHTRA VOWEL SIGN VOCALIC R\n",
      "ꢻ / SAURASHTRA VOWEL SIGN VOCALIC RR\n",
      "ꢼ / SAURASHTRA VOWEL SIGN VOCALIC L\n",
      "ꢽ / SAURASHTRA VOWEL SIGN VOCALIC LL\n",
      "ꢾ / SAURASHTRA VOWEL SIGN E\n",
      "ꢿ / SAURASHTRA VOWEL SIGN EE\n",
      "ꣀ / SAURASHTRA VOWEL SIGN AI\n",
      "ꣁ / SAURASHTRA VOWEL SIGN O\n",
      "ꣂ / SAURASHTRA VOWEL SIGN OO\n",
      "ꣃ / SAURASHTRA VOWEL SIGN AU\n",
      "ꣅ / !no name!\n",
      "ꤦ / KAYAH LI VOWEL UE\n",
      "ꤧ / KAYAH LI VOWEL E\n",
      "ꤨ / KAYAH LI VOWEL U\n",
      "ꤩ / KAYAH LI VOWEL EE\n",
      "ꤪ / KAYAH LI VOWEL O\n",
      "ꥇ / REJANG VOWEL SIGN I\n",
      "ꥈ / REJANG VOWEL SIGN U\n",
      "ꥉ / REJANG VOWEL SIGN E\n",
      "ꥊ / REJANG VOWEL SIGN AI\n",
      "ꥋ / REJANG VOWEL SIGN O\n",
      "ꥌ / REJANG VOWEL SIGN AU\n",
      "ꥍ / REJANG VOWEL SIGN EU\n",
      "ꥎ / REJANG VOWEL SIGN EA\n",
      "ꥏ / REJANG CONSONANT SIGN NG\n",
      "ꥐ / REJANG CONSONANT SIGN N\n",
      "ꥑ / REJANG CONSONANT SIGN R\n",
      "ꥒ / REJANG CONSONANT SIGN H\n",
      "ꦀ / JAVANESE SIGN PANYANGGA\n",
      "ꦁ / JAVANESE SIGN CECAK\n",
      "ꦂ / JAVANESE SIGN LAYAR\n",
      "ꦃ / JAVANESE SIGN WIGNYAN\n",
      "ꦴ / JAVANESE VOWEL SIGN TARUNG\n",
      "ꦵ / JAVANESE VOWEL SIGN TOLONG\n",
      "ꦶ / JAVANESE VOWEL SIGN WULU\n",
      "ꦷ / JAVANESE VOWEL SIGN WULU MELIK\n",
      "ꦸ / JAVANESE VOWEL SIGN SUKU\n",
      "ꦹ / JAVANESE VOWEL SIGN SUKU MENDUT\n",
      "ꦺ / JAVANESE VOWEL SIGN TALING\n",
      "ꦻ / JAVANESE VOWEL SIGN DIRGA MURE\n",
      "ꦼ / JAVANESE VOWEL SIGN PEPET\n",
      "ꦽ / JAVANESE CONSONANT SIGN KERET\n",
      "ꦾ / JAVANESE CONSONANT SIGN PENGKAL\n",
      "ꦿ / JAVANESE CONSONANT SIGN CAKRA\n",
      "ꨩ / CHAM VOWEL SIGN AA\n",
      "ꨪ / CHAM VOWEL SIGN I\n",
      "ꨫ / CHAM VOWEL SIGN II\n",
      "ꨬ / CHAM VOWEL SIGN EI\n",
      "ꨭ / CHAM VOWEL SIGN U\n",
      "ꨮ / CHAM VOWEL SIGN OE\n",
      "ꨯ / CHAM VOWEL SIGN O\n",
      "ꨰ / CHAM VOWEL SIGN AI\n",
      "ꨱ / CHAM VOWEL SIGN AU\n",
      "ꨲ / CHAM VOWEL SIGN UE\n",
      "ꨳ / CHAM CONSONANT SIGN YA\n",
      "ꨴ / CHAM CONSONANT SIGN RA\n",
      "ꨵ / CHAM CONSONANT SIGN LA\n",
      "ꨶ / CHAM CONSONANT SIGN WA\n",
      "ꩃ / CHAM CONSONANT SIGN FINAL NG\n",
      "ꩌ / CHAM CONSONANT SIGN FINAL M\n",
      "ꩍ / CHAM CONSONANT SIGN FINAL H\n",
      "ꪰ / TAI VIET MAI KANG\n",
      "ꪲ / TAI VIET VOWEL I\n",
      "ꪳ / TAI VIET VOWEL UE\n",
      "ꪴ / TAI VIET VOWEL U\n",
      "ꪷ / TAI VIET MAI KHIT\n",
      "ꪸ / TAI VIET VOWEL IA\n",
      "ꪾ / TAI VIET VOWEL AM\n",
      "ꫫ / MEETEI MAYEK VOWEL SIGN II\n",
      "ꫬ / MEETEI MAYEK VOWEL SIGN UU\n",
      "ꫭ / MEETEI MAYEK VOWEL SIGN AAI\n",
      "ꫮ / MEETEI MAYEK VOWEL SIGN AU\n",
      "ꫯ / MEETEI MAYEK VOWEL SIGN AAU\n",
      "ꫵ / MEETEI MAYEK VOWEL SIGN VISARGA\n",
      "ꯣ / MEETEI MAYEK VOWEL SIGN ONAP\n",
      "ꯤ / MEETEI MAYEK VOWEL SIGN INAP\n",
      "ꯥ / MEETEI MAYEK VOWEL SIGN ANAP\n",
      "ꯦ / MEETEI MAYEK VOWEL SIGN YENAP\n",
      "ꯧ / MEETEI MAYEK VOWEL SIGN SOUNAP\n",
      "ꯨ / MEETEI MAYEK VOWEL SIGN UNAP\n",
      "ꯩ / MEETEI MAYEK VOWEL SIGN CHEINAP\n",
      "ꯪ / MEETEI MAYEK VOWEL SIGN NUNG\n",
      "ﬞ / HEBREW POINT JUDEO-SPANISH VARIKA\n",
      "𐅀 / GREEK ACROPHONIC ATTIC ONE QUARTER\n",
      "𐅁 / GREEK ACROPHONIC ATTIC ONE HALF\n",
      "𐅂 / GREEK ACROPHONIC ATTIC ONE DRACHMA\n",
      "𐅃 / GREEK ACROPHONIC ATTIC FIVE\n",
      "𐅄 / GREEK ACROPHONIC ATTIC FIFTY\n",
      "𐅅 / GREEK ACROPHONIC ATTIC FIVE HUNDRED\n",
      "𐅆 / GREEK ACROPHONIC ATTIC FIVE THOUSAND\n",
      "𐅇 / GREEK ACROPHONIC ATTIC FIFTY THOUSAND\n",
      "𐅈 / GREEK ACROPHONIC ATTIC FIVE TALENTS\n",
      "𐅉 / GREEK ACROPHONIC ATTIC TEN TALENTS\n",
      "𐅊 / GREEK ACROPHONIC ATTIC FIFTY TALENTS\n",
      "𐅋 / GREEK ACROPHONIC ATTIC ONE HUNDRED TALENTS\n",
      "𐅌 / GREEK ACROPHONIC ATTIC FIVE HUNDRED TALENTS\n",
      "𐅍 / GREEK ACROPHONIC ATTIC ONE THOUSAND TALENTS\n",
      "𐅎 / GREEK ACROPHONIC ATTIC FIVE THOUSAND TALENTS\n",
      "𐅏 / GREEK ACROPHONIC ATTIC FIVE STATERS\n",
      "𐅐 / GREEK ACROPHONIC ATTIC TEN STATERS\n",
      "𐅑 / GREEK ACROPHONIC ATTIC FIFTY STATERS\n",
      "𐅒 / GREEK ACROPHONIC ATTIC ONE HUNDRED STATERS\n",
      "𐅓 / GREEK ACROPHONIC ATTIC FIVE HUNDRED STATERS\n",
      "𐅔 / GREEK ACROPHONIC ATTIC ONE THOUSAND STATERS\n",
      "𐅕 / GREEK ACROPHONIC ATTIC TEN THOUSAND STATERS\n",
      "𐅖 / GREEK ACROPHONIC ATTIC FIFTY THOUSAND STATERS\n",
      "𐅗 / GREEK ACROPHONIC ATTIC TEN MNAS\n",
      "𐅘 / GREEK ACROPHONIC HERAEUM ONE PLETHRON\n",
      "𐅙 / GREEK ACROPHONIC THESPIAN ONE\n",
      "𐅚 / GREEK ACROPHONIC HERMIONIAN ONE\n",
      "𐅛 / GREEK ACROPHONIC EPIDAUREAN TWO\n",
      "𐅜 / GREEK ACROPHONIC THESPIAN TWO\n",
      "𐅝 / GREEK ACROPHONIC CYRENAIC TWO DRACHMAS\n",
      "𐅞 / GREEK ACROPHONIC EPIDAUREAN TWO DRACHMAS\n",
      "𐅟 / GREEK ACROPHONIC TROEZENIAN FIVE\n",
      "𐅠 / GREEK ACROPHONIC TROEZENIAN TEN\n",
      "𐅡 / GREEK ACROPHONIC TROEZENIAN TEN ALTERNATE FORM\n",
      "𐅢 / GREEK ACROPHONIC HERMIONIAN TEN\n",
      "𐅣 / GREEK ACROPHONIC MESSENIAN TEN\n",
      "𐅤 / GREEK ACROPHONIC THESPIAN TEN\n",
      "𐅥 / GREEK ACROPHONIC THESPIAN THIRTY\n",
      "𐅦 / GREEK ACROPHONIC TROEZENIAN FIFTY\n",
      "𐅧 / GREEK ACROPHONIC TROEZENIAN FIFTY ALTERNATE FORM\n",
      "𐅨 / GREEK ACROPHONIC HERMIONIAN FIFTY\n",
      "𐅩 / GREEK ACROPHONIC THESPIAN FIFTY\n",
      "𐅪 / GREEK ACROPHONIC THESPIAN ONE HUNDRED\n",
      "𐅫 / GREEK ACROPHONIC THESPIAN THREE HUNDRED\n",
      "𐅬 / GREEK ACROPHONIC EPIDAUREAN FIVE HUNDRED\n",
      "𐅭 / GREEK ACROPHONIC TROEZENIAN FIVE HUNDRED\n",
      "𐅮 / GREEK ACROPHONIC THESPIAN FIVE HUNDRED\n",
      "𐅯 / GREEK ACROPHONIC CARYSTIAN FIVE HUNDRED\n",
      "𐅰 / GREEK ACROPHONIC NAXIAN FIVE HUNDRED\n",
      "𐅱 / GREEK ACROPHONIC THESPIAN ONE THOUSAND\n",
      "𐅲 / GREEK ACROPHONIC THESPIAN FIVE THOUSAND\n",
      "𐅳 / GREEK ACROPHONIC DELPHIC FIVE MNAS\n",
      "𐅴 / GREEK ACROPHONIC STRATIAN FIFTY MNAS\n",
      "𐍁 / GOTHIC LETTER NINETY\n",
      "𐍊 / GOTHIC LETTER NINE HUNDRED\n",
      "𐍶 / COMBINING OLD PERMIC LETTER AN\n",
      "𐍷 / COMBINING OLD PERMIC LETTER DOI\n",
      "𐍸 / COMBINING OLD PERMIC LETTER ZATA\n",
      "𐍹 / COMBINING OLD PERMIC LETTER NENOE\n",
      "𐍺 / COMBINING OLD PERMIC LETTER SII\n",
      "𐏑 / OLD PERSIAN NUMBER ONE\n",
      "𐏒 / OLD PERSIAN NUMBER TWO\n",
      "𐏓 / OLD PERSIAN NUMBER TEN\n",
      "𐏔 / OLD PERSIAN NUMBER TWENTY\n",
      "𐏕 / OLD PERSIAN NUMBER HUNDRED\n",
      "𐨁 / KHAROSHTHI VOWEL SIGN I\n",
      "𐨂 / KHAROSHTHI VOWEL SIGN U\n",
      "𐨃 / KHAROSHTHI VOWEL SIGN VOCALIC R\n",
      "𐨅 / KHAROSHTHI VOWEL SIGN E\n",
      "𐨆 / KHAROSHTHI VOWEL SIGN O\n",
      "𐨌 / KHAROSHTHI VOWEL LENGTH MARK\n",
      "𐨍 / KHAROSHTHI SIGN DOUBLE RING BELOW\n",
      "𐨎 / KHAROSHTHI SIGN ANUSVARA\n",
      "𐨏 / KHAROSHTHI SIGN VISARGA\n",
      "𑀀 / BRAHMI SIGN CANDRABINDU\n",
      "𑀁 / BRAHMI SIGN ANUSVARA\n",
      "𑀂 / BRAHMI SIGN VISARGA\n",
      "𑀸 / BRAHMI VOWEL SIGN AA\n",
      "𑀹 / BRAHMI VOWEL SIGN BHATTIPROLU AA\n",
      "𑀺 / BRAHMI VOWEL SIGN I\n",
      "𑀻 / BRAHMI VOWEL SIGN II\n",
      "𑀼 / BRAHMI VOWEL SIGN U\n",
      "𑀽 / BRAHMI VOWEL SIGN UU\n",
      "𑀾 / BRAHMI VOWEL SIGN VOCALIC R\n",
      "𑀿 / BRAHMI VOWEL SIGN VOCALIC RR\n",
      "𑁀 / BRAHMI VOWEL SIGN VOCALIC L\n",
      "𑁁 / BRAHMI VOWEL SIGN VOCALIC LL\n",
      "𑁂 / BRAHMI VOWEL SIGN E\n",
      "𑁃 / BRAHMI VOWEL SIGN AI\n",
      "𑁄 / BRAHMI VOWEL SIGN O\n",
      "𑁅 / BRAHMI VOWEL SIGN AU\n",
      "𑂂 / KAITHI SIGN VISARGA\n",
      "𑂰 / KAITHI VOWEL SIGN AA\n",
      "𑂱 / KAITHI VOWEL SIGN I\n",
      "𑂲 / KAITHI VOWEL SIGN II\n",
      "𑂳 / KAITHI VOWEL SIGN U\n",
      "𑂴 / KAITHI VOWEL SIGN UU\n",
      "𑂵 / KAITHI VOWEL SIGN E\n",
      "𑂶 / KAITHI VOWEL SIGN AI\n",
      "𑂷 / KAITHI VOWEL SIGN O\n",
      "𑂸 / KAITHI VOWEL SIGN AU\n",
      "𑄀 / CHAKMA SIGN CANDRABINDU\n",
      "𑄁 / CHAKMA SIGN ANUSVARA\n",
      "𑄂 / CHAKMA SIGN VISARGA\n",
      "𑄧 / CHAKMA VOWEL SIGN A\n",
      "𑄨 / CHAKMA VOWEL SIGN I\n",
      "𑄩 / CHAKMA VOWEL SIGN II\n",
      "𑄪 / CHAKMA VOWEL SIGN U\n",
      "𑄫 / CHAKMA VOWEL SIGN UU\n",
      "𑄬 / CHAKMA VOWEL SIGN E\n",
      "𑄭 / CHAKMA VOWEL SIGN AI\n",
      "𑄮 / CHAKMA VOWEL SIGN O\n",
      "𑄯 / CHAKMA VOWEL SIGN AU\n",
      "𑄰 / CHAKMA VOWEL SIGN OI\n",
      "𑄱 / CHAKMA O MARK\n",
      "𑄲 / CHAKMA AU MARK\n",
      "𑆀 / SHARADA SIGN CANDRABINDU\n",
      "𑆁 / SHARADA SIGN ANUSVARA\n",
      "𑆂 / SHARADA SIGN VISARGA\n",
      "𑆳 / SHARADA VOWEL SIGN AA\n",
      "𑆴 / SHARADA VOWEL SIGN I\n",
      "𑆵 / SHARADA VOWEL SIGN II\n",
      "𑆶 / SHARADA VOWEL SIGN U\n",
      "𑆷 / SHARADA VOWEL SIGN UU\n",
      "𑆸 / SHARADA VOWEL SIGN VOCALIC R\n",
      "𑆹 / SHARADA VOWEL SIGN VOCALIC RR\n",
      "𑆺 / SHARADA VOWEL SIGN VOCALIC L\n",
      "𑆻 / SHARADA VOWEL SIGN VOCALIC LL\n",
      "𑆼 / SHARADA VOWEL SIGN E\n",
      "𑆽 / SHARADA VOWEL SIGN AI\n",
      "𑆾 / SHARADA VOWEL SIGN O\n",
      "𑆿 / SHARADA VOWEL SIGN AU\n",
      "𑈬 / KHOJKI VOWEL SIGN AA\n",
      "𑈭 / KHOJKI VOWEL SIGN I\n",
      "𑈮 / KHOJKI VOWEL SIGN II\n",
      "𑈯 / KHOJKI VOWEL SIGN U\n",
      "𑈰 / KHOJKI VOWEL SIGN E\n",
      "𑈱 / KHOJKI VOWEL SIGN AI\n",
      "𑈲 / KHOJKI VOWEL SIGN O\n",
      "𑈳 / KHOJKI VOWEL SIGN AU\n",
      "𑈴 / KHOJKI SIGN ANUSVARA\n",
      "𑈷 / KHOJKI SIGN SHADDA\n",
      "𑈾 / !no name!\n",
      "𑋟 / KHUDAWADI SIGN ANUSVARA\n",
      "𑋠 / KHUDAWADI VOWEL SIGN AA\n",
      "𑋡 / KHUDAWADI VOWEL SIGN I\n",
      "𑋢 / KHUDAWADI VOWEL SIGN II\n",
      "𑋣 / KHUDAWADI VOWEL SIGN U\n",
      "𑋤 / KHUDAWADI VOWEL SIGN UU\n",
      "𑋥 / KHUDAWADI VOWEL SIGN E\n",
      "𑋦 / KHUDAWADI VOWEL SIGN AI\n",
      "𑋧 / KHUDAWADI VOWEL SIGN O\n",
      "𑋨 / KHUDAWADI VOWEL SIGN AU\n",
      "𑌀 / GRANTHA SIGN COMBINING ANUSVARA ABOVE\n",
      "𑌁 / GRANTHA SIGN CANDRABINDU\n",
      "𑌂 / GRANTHA SIGN ANUSVARA\n",
      "𑌃 / GRANTHA SIGN VISARGA\n",
      "𑌾 / GRANTHA VOWEL SIGN AA\n",
      "𑌿 / GRANTHA VOWEL SIGN I\n",
      "𑍀 / GRANTHA VOWEL SIGN II\n",
      "𑍁 / GRANTHA VOWEL SIGN U\n",
      "𑍂 / GRANTHA VOWEL SIGN UU\n",
      "𑍃 / GRANTHA VOWEL SIGN VOCALIC R\n",
      "𑍄 / GRANTHA VOWEL SIGN VOCALIC RR\n",
      "𑍇 / GRANTHA VOWEL SIGN EE\n",
      "𑍈 / GRANTHA VOWEL SIGN AI\n",
      "𑍋 / GRANTHA VOWEL SIGN OO\n",
      "𑍌 / GRANTHA VOWEL SIGN AU\n",
      "𑍗 / GRANTHA AU LENGTH MARK\n",
      "𑍢 / GRANTHA VOWEL SIGN VOCALIC L\n",
      "𑍣 / GRANTHA VOWEL SIGN VOCALIC LL\n",
      "𑐵 / !no name!\n",
      "𑐶 / !no name!\n",
      "𑐷 / !no name!\n",
      "𑐸 / !no name!\n",
      "𑐹 / !no name!\n",
      "𑐺 / !no name!\n",
      "𑐻 / !no name!\n",
      "𑐼 / !no name!\n",
      "𑐽 / !no name!\n",
      "𑐾 / !no name!\n",
      "𑐿 / !no name!\n",
      "𑑀 / !no name!\n",
      "𑑁 / !no name!\n",
      "𑑃 / !no name!\n",
      "𑑄 / !no name!\n",
      "𑑅 / !no name!\n",
      "𑒰 / TIRHUTA VOWEL SIGN AA\n",
      "𑒱 / TIRHUTA VOWEL SIGN I\n",
      "𑒲 / TIRHUTA VOWEL SIGN II\n",
      "𑒳 / TIRHUTA VOWEL SIGN U\n",
      "𑒴 / TIRHUTA VOWEL SIGN UU\n",
      "𑒵 / TIRHUTA VOWEL SIGN VOCALIC R\n",
      "𑒶 / TIRHUTA VOWEL SIGN VOCALIC RR\n",
      "𑒷 / TIRHUTA VOWEL SIGN VOCALIC L\n",
      "𑒸 / TIRHUTA VOWEL SIGN VOCALIC LL\n",
      "𑒹 / TIRHUTA VOWEL SIGN E\n",
      "𑒺 / TIRHUTA VOWEL SIGN SHORT E\n",
      "𑒻 / TIRHUTA VOWEL SIGN AI\n",
      "𑒼 / TIRHUTA VOWEL SIGN O\n",
      "𑒽 / TIRHUTA VOWEL SIGN SHORT O\n",
      "𑒾 / TIRHUTA VOWEL SIGN AU\n",
      "𑒿 / TIRHUTA SIGN CANDRABINDU\n",
      "𑓀 / TIRHUTA SIGN ANUSVARA\n",
      "𑓁 / TIRHUTA SIGN VISARGA\n",
      "𑖯 / SIDDHAM VOWEL SIGN AA\n",
      "𑖰 / SIDDHAM VOWEL SIGN I\n",
      "𑖱 / SIDDHAM VOWEL SIGN II\n",
      "𑖲 / SIDDHAM VOWEL SIGN U\n",
      "𑖳 / SIDDHAM VOWEL SIGN UU\n",
      "𑖴 / SIDDHAM VOWEL SIGN VOCALIC R\n",
      "𑖵 / SIDDHAM VOWEL SIGN VOCALIC RR\n",
      "𑖸 / SIDDHAM VOWEL SIGN E\n",
      "𑖹 / SIDDHAM VOWEL SIGN AI\n",
      "𑖺 / SIDDHAM VOWEL SIGN O\n",
      "𑖻 / SIDDHAM VOWEL SIGN AU\n",
      "𑖼 / SIDDHAM SIGN CANDRABINDU\n",
      "𑖽 / SIDDHAM SIGN ANUSVARA\n",
      "𑖾 / SIDDHAM SIGN VISARGA\n",
      "𑗜 / SIDDHAM VOWEL SIGN ALTERNATE U\n",
      "𑗝 / SIDDHAM VOWEL SIGN ALTERNATE UU\n",
      "𑘰 / MODI VOWEL SIGN AA\n",
      "𑘱 / MODI VOWEL SIGN I\n",
      "𑘲 / MODI VOWEL SIGN II\n",
      "𑘳 / MODI VOWEL SIGN U\n",
      "𑘴 / MODI VOWEL SIGN UU\n",
      "𑘵 / MODI VOWEL SIGN VOCALIC R\n",
      "𑘶 / MODI VOWEL SIGN VOCALIC RR\n",
      "𑘷 / MODI VOWEL SIGN VOCALIC L\n",
      "𑘸 / MODI VOWEL SIGN VOCALIC LL\n",
      "𑘹 / MODI VOWEL SIGN E\n",
      "𑘺 / MODI VOWEL SIGN AI\n",
      "𑘻 / MODI VOWEL SIGN O\n",
      "𑘼 / MODI VOWEL SIGN AU\n",
      "𑘽 / MODI SIGN ANUSVARA\n",
      "𑘾 / MODI SIGN VISARGA\n",
      "𑙀 / MODI SIGN ARDHACANDRA\n",
      "𑚫 / TAKRI SIGN ANUSVARA\n",
      "𑚬 / TAKRI SIGN VISARGA\n",
      "𑚭 / TAKRI VOWEL SIGN AA\n",
      "𑚮 / TAKRI VOWEL SIGN I\n",
      "𑚯 / TAKRI VOWEL SIGN II\n",
      "𑚰 / TAKRI VOWEL SIGN U\n",
      "𑚱 / TAKRI VOWEL SIGN UU\n",
      "𑚲 / TAKRI VOWEL SIGN E\n",
      "𑚳 / TAKRI VOWEL SIGN AI\n",
      "𑚴 / TAKRI VOWEL SIGN O\n",
      "𑚵 / TAKRI VOWEL SIGN AU\n",
      "𑜝 / AHOM CONSONANT SIGN MEDIAL LA\n",
      "𑜞 / AHOM CONSONANT SIGN MEDIAL RA\n",
      "𑜟 / AHOM CONSONANT SIGN MEDIAL LIGATING RA\n",
      "𑜠 / AHOM VOWEL SIGN A\n",
      "𑜡 / AHOM VOWEL SIGN AA\n",
      "𑜢 / AHOM VOWEL SIGN I\n",
      "𑜣 / AHOM VOWEL SIGN II\n",
      "𑜤 / AHOM VOWEL SIGN U\n",
      "𑜥 / AHOM VOWEL SIGN UU\n",
      "𑜦 / AHOM VOWEL SIGN E\n",
      "𑜧 / AHOM VOWEL SIGN AW\n",
      "𑜨 / AHOM VOWEL SIGN O\n",
      "𑜩 / AHOM VOWEL SIGN AI\n",
      "𑜪 / AHOM VOWEL SIGN AM\n",
      "𑰯 / !no name!\n",
      "𑰰 / !no name!\n",
      "𑰱 / !no name!\n",
      "𑰲 / !no name!\n",
      "𑰳 / !no name!\n",
      "𑰴 / !no name!\n",
      "𑰵 / !no name!\n",
      "𑰶 / !no name!\n",
      "𑰸 / !no name!\n",
      "𑰹 / !no name!\n",
      "𑰺 / !no name!\n",
      "𑰻 / !no name!\n",
      "𑰼 / !no name!\n",
      "𑰽 / !no name!\n",
      "𑰾 / !no name!\n",
      "𑲒 / !no name!\n",
      "𑲓 / !no name!\n",
      "𑲔 / !no name!\n",
      "𑲕 / !no name!\n",
      "𑲖 / !no name!\n",
      "𑲗 / !no name!\n",
      "𑲘 / !no name!\n",
      "𑲙 / !no name!\n",
      "𑲚 / !no name!\n",
      "𑲛 / !no name!\n",
      "𑲜 / !no name!\n",
      "𑲝 / !no name!\n",
      "𑲞 / !no name!\n",
      "𑲟 / !no name!\n",
      "𑲠 / !no name!\n",
      "𑲡 / !no name!\n",
      "𑲢 / !no name!\n",
      "𑲣 / !no name!\n",
      "𑲤 / !no name!\n",
      "𑲥 / !no name!\n",
      "𑲦 / !no name!\n",
      "𑲧 / !no name!\n",
      "𑲩 / !no name!\n",
      "𑲪 / !no name!\n",
      "𑲫 / !no name!\n",
      "𑲬 / !no name!\n",
      "𑲭 / !no name!\n",
      "𑲮 / !no name!\n",
      "𑲯 / !no name!\n",
      "𑲰 / !no name!\n",
      "𑲱 / !no name!\n",
      "𑲲 / !no name!\n",
      "𑲳 / !no name!\n",
      "𑲴 / !no name!\n",
      "𑲵 / !no name!\n",
      "𑲶 / !no name!\n",
      "𒐀 / CUNEIFORM NUMERIC SIGN TWO ASH\n",
      "𒐁 / CUNEIFORM NUMERIC SIGN THREE ASH\n",
      "𒐂 / CUNEIFORM NUMERIC SIGN FOUR ASH\n",
      "𒐃 / CUNEIFORM NUMERIC SIGN FIVE ASH\n",
      "𒐄 / CUNEIFORM NUMERIC SIGN SIX ASH\n",
      "𒐅 / CUNEIFORM NUMERIC SIGN SEVEN ASH\n",
      "𒐆 / CUNEIFORM NUMERIC SIGN EIGHT ASH\n",
      "𒐇 / CUNEIFORM NUMERIC SIGN NINE ASH\n",
      "𒐈 / CUNEIFORM NUMERIC SIGN THREE DISH\n",
      "𒐉 / CUNEIFORM NUMERIC SIGN FOUR DISH\n",
      "𒐊 / CUNEIFORM NUMERIC SIGN FIVE DISH\n",
      "𒐋 / CUNEIFORM NUMERIC SIGN SIX DISH\n",
      "𒐌 / CUNEIFORM NUMERIC SIGN SEVEN DISH\n",
      "𒐍 / CUNEIFORM NUMERIC SIGN EIGHT DISH\n",
      "𒐎 / CUNEIFORM NUMERIC SIGN NINE DISH\n",
      "𒐏 / CUNEIFORM NUMERIC SIGN FOUR U\n",
      "𒐐 / CUNEIFORM NUMERIC SIGN FIVE U\n",
      "𒐑 / CUNEIFORM NUMERIC SIGN SIX U\n",
      "𒐒 / CUNEIFORM NUMERIC SIGN SEVEN U\n",
      "𒐓 / CUNEIFORM NUMERIC SIGN EIGHT U\n",
      "𒐔 / CUNEIFORM NUMERIC SIGN NINE U\n",
      "𒐕 / CUNEIFORM NUMERIC SIGN ONE GESH2\n",
      "𒐖 / CUNEIFORM NUMERIC SIGN TWO GESH2\n",
      "𒐗 / CUNEIFORM NUMERIC SIGN THREE GESH2\n",
      "𒐘 / CUNEIFORM NUMERIC SIGN FOUR GESH2\n",
      "𒐙 / CUNEIFORM NUMERIC SIGN FIVE GESH2\n",
      "𒐚 / CUNEIFORM NUMERIC SIGN SIX GESH2\n",
      "𒐛 / CUNEIFORM NUMERIC SIGN SEVEN GESH2\n",
      "𒐜 / CUNEIFORM NUMERIC SIGN EIGHT GESH2\n",
      "𒐝 / CUNEIFORM NUMERIC SIGN NINE GESH2\n",
      "𒐞 / CUNEIFORM NUMERIC SIGN ONE GESHU\n",
      "𒐟 / CUNEIFORM NUMERIC SIGN TWO GESHU\n",
      "𒐠 / CUNEIFORM NUMERIC SIGN THREE GESHU\n",
      "𒐡 / CUNEIFORM NUMERIC SIGN FOUR GESHU\n",
      "𒐢 / CUNEIFORM NUMERIC SIGN FIVE GESHU\n",
      "𒐣 / CUNEIFORM NUMERIC SIGN TWO SHAR2\n",
      "𒐤 / CUNEIFORM NUMERIC SIGN THREE SHAR2\n",
      "𒐥 / CUNEIFORM NUMERIC SIGN THREE SHAR2 VARIANT FORM\n",
      "𒐦 / CUNEIFORM NUMERIC SIGN FOUR SHAR2\n",
      "𒐧 / CUNEIFORM NUMERIC SIGN FIVE SHAR2\n",
      "𒐨 / CUNEIFORM NUMERIC SIGN SIX SHAR2\n",
      "𒐩 / CUNEIFORM NUMERIC SIGN SEVEN SHAR2\n",
      "𒐪 / CUNEIFORM NUMERIC SIGN EIGHT SHAR2\n",
      "𒐫 / CUNEIFORM NUMERIC SIGN NINE SHAR2\n",
      "𒐬 / CUNEIFORM NUMERIC SIGN ONE SHARU\n",
      "𒐭 / CUNEIFORM NUMERIC SIGN TWO SHARU\n",
      "𒐮 / CUNEIFORM NUMERIC SIGN THREE SHARU\n",
      "𒐯 / CUNEIFORM NUMERIC SIGN THREE SHARU VARIANT FORM\n",
      "𒐰 / CUNEIFORM NUMERIC SIGN FOUR SHARU\n",
      "𒐱 / CUNEIFORM NUMERIC SIGN FIVE SHARU\n",
      "𒐲 / CUNEIFORM NUMERIC SIGN SHAR2 TIMES GAL PLUS DISH\n",
      "𒐳 / CUNEIFORM NUMERIC SIGN SHAR2 TIMES GAL PLUS MIN\n",
      "𒐴 / CUNEIFORM NUMERIC SIGN ONE BURU\n",
      "𒐵 / CUNEIFORM NUMERIC SIGN TWO BURU\n",
      "𒐶 / CUNEIFORM NUMERIC SIGN THREE BURU\n",
      "𒐷 / CUNEIFORM NUMERIC SIGN THREE BURU VARIANT FORM\n",
      "𒐸 / CUNEIFORM NUMERIC SIGN FOUR BURU\n",
      "𒐹 / CUNEIFORM NUMERIC SIGN FIVE BURU\n",
      "𒐺 / CUNEIFORM NUMERIC SIGN THREE VARIANT FORM ESH16\n",
      "𒐻 / CUNEIFORM NUMERIC SIGN THREE VARIANT FORM ESH21\n",
      "𒐼 / CUNEIFORM NUMERIC SIGN FOUR VARIANT FORM LIMMU\n",
      "𒐽 / CUNEIFORM NUMERIC SIGN FOUR VARIANT FORM LIMMU4\n",
      "𒐾 / CUNEIFORM NUMERIC SIGN FOUR VARIANT FORM LIMMU A\n",
      "𒐿 / CUNEIFORM NUMERIC SIGN FOUR VARIANT FORM LIMMU B\n",
      "𒑀 / CUNEIFORM NUMERIC SIGN SIX VARIANT FORM ASH9\n",
      "𒑁 / CUNEIFORM NUMERIC SIGN SEVEN VARIANT FORM IMIN3\n",
      "𒑂 / CUNEIFORM NUMERIC SIGN SEVEN VARIANT FORM IMIN A\n",
      "𒑃 / CUNEIFORM NUMERIC SIGN SEVEN VARIANT FORM IMIN B\n",
      "𒑄 / CUNEIFORM NUMERIC SIGN EIGHT VARIANT FORM USSU\n",
      "𒑅 / CUNEIFORM NUMERIC SIGN EIGHT VARIANT FORM USSU3\n",
      "𒑆 / CUNEIFORM NUMERIC SIGN NINE VARIANT FORM ILIMMU\n",
      "𒑇 / CUNEIFORM NUMERIC SIGN NINE VARIANT FORM ILIMMU3\n",
      "𒑈 / CUNEIFORM NUMERIC SIGN NINE VARIANT FORM ILIMMU4\n",
      "𒑉 / CUNEIFORM NUMERIC SIGN NINE VARIANT FORM ILIMMU A\n",
      "𒑊 / CUNEIFORM NUMERIC SIGN TWO ASH TENU\n",
      "𒑋 / CUNEIFORM NUMERIC SIGN THREE ASH TENU\n",
      "𒑌 / CUNEIFORM NUMERIC SIGN FOUR ASH TENU\n",
      "𒑍 / CUNEIFORM NUMERIC SIGN FIVE ASH TENU\n",
      "𒑎 / CUNEIFORM NUMERIC SIGN SIX ASH TENU\n",
      "𒑏 / CUNEIFORM NUMERIC SIGN ONE BAN2\n",
      "𒑐 / CUNEIFORM NUMERIC SIGN TWO BAN2\n",
      "𒑑 / CUNEIFORM NUMERIC SIGN THREE BAN2\n",
      "𒑒 / CUNEIFORM NUMERIC SIGN FOUR BAN2\n",
      "𒑓 / CUNEIFORM NUMERIC SIGN FOUR BAN2 VARIANT FORM\n",
      "𒑔 / CUNEIFORM NUMERIC SIGN FIVE BAN2\n",
      "𒑕 / CUNEIFORM NUMERIC SIGN FIVE BAN2 VARIANT FORM\n",
      "𒑖 / CUNEIFORM NUMERIC SIGN NIGIDAMIN\n",
      "𒑗 / CUNEIFORM NUMERIC SIGN NIGIDAESH\n",
      "𒑘 / CUNEIFORM NUMERIC SIGN ONE ESHE3\n",
      "𒑙 / CUNEIFORM NUMERIC SIGN TWO ESHE3\n",
      "𒑚 / CUNEIFORM NUMERIC SIGN ONE THIRD DISH\n",
      "𒑛 / CUNEIFORM NUMERIC SIGN TWO THIRDS DISH\n",
      "𒑜 / CUNEIFORM NUMERIC SIGN FIVE SIXTHS DISH\n",
      "𒑝 / CUNEIFORM NUMERIC SIGN ONE THIRD VARIANT FORM A\n",
      "𒑞 / CUNEIFORM NUMERIC SIGN TWO THIRDS VARIANT FORM A\n",
      "𒑟 / CUNEIFORM NUMERIC SIGN ONE EIGHTH ASH\n",
      "𒑠 / CUNEIFORM NUMERIC SIGN ONE QUARTER ASH\n",
      "𒑡 / CUNEIFORM NUMERIC SIGN OLD ASSYRIAN ONE SIXTH\n",
      "𒑢 / CUNEIFORM NUMERIC SIGN OLD ASSYRIAN ONE QUARTER\n",
      "𒑣 / CUNEIFORM NUMERIC SIGN ONE QUARTER GUR\n",
      "𒑤 / CUNEIFORM NUMERIC SIGN ONE HALF GUR\n",
      "𒑥 / CUNEIFORM NUMERIC SIGN ELAMITE ONE THIRD\n",
      "𒑦 / CUNEIFORM NUMERIC SIGN ELAMITE TWO THIRDS\n",
      "𒑧 / CUNEIFORM NUMERIC SIGN ELAMITE FORTY\n",
      "𒑨 / CUNEIFORM NUMERIC SIGN ELAMITE FIFTY\n",
      "𒑩 / CUNEIFORM NUMERIC SIGN FOUR U VARIANT FORM\n",
      "𒑪 / CUNEIFORM NUMERIC SIGN FIVE U VARIANT FORM\n",
      "𒑫 / CUNEIFORM NUMERIC SIGN SIX U VARIANT FORM\n",
      "𒑬 / CUNEIFORM NUMERIC SIGN SEVEN U VARIANT FORM\n",
      "𒑭 / CUNEIFORM NUMERIC SIGN EIGHT U VARIANT FORM\n",
      "𒑮 / CUNEIFORM NUMERIC SIGN NINE U VARIANT FORM\n",
      "𖬰 / PAHAWH HMONG MARK CIM TUB\n",
      "𖬱 / PAHAWH HMONG MARK CIM SO\n",
      "𖬲 / PAHAWH HMONG MARK CIM KES\n",
      "𖬳 / PAHAWH HMONG MARK CIM KHAV\n",
      "𖬴 / PAHAWH HMONG MARK CIM SUAM\n",
      "𖬵 / PAHAWH HMONG MARK CIM HOM\n",
      "𖬶 / PAHAWH HMONG MARK CIM TAUM\n",
      "𖽑 / MIAO SIGN ASPIRATION\n",
      "𖽒 / MIAO SIGN REFORMED VOICING\n",
      "𖽓 / MIAO SIGN REFORMED ASPIRATION\n",
      "𖽔 / MIAO VOWEL SIGN A\n",
      "𖽕 / MIAO VOWEL SIGN AA\n",
      "𖽖 / MIAO VOWEL SIGN AHH\n",
      "𖽗 / MIAO VOWEL SIGN AN\n",
      "𖽘 / MIAO VOWEL SIGN ANG\n",
      "𖽙 / MIAO VOWEL SIGN O\n",
      "𖽚 / MIAO VOWEL SIGN OO\n",
      "𖽛 / MIAO VOWEL SIGN WO\n",
      "𖽜 / MIAO VOWEL SIGN W\n",
      "𖽝 / MIAO VOWEL SIGN E\n",
      "𖽞 / MIAO VOWEL SIGN EN\n",
      "𖽟 / MIAO VOWEL SIGN ENG\n",
      "𖽠 / MIAO VOWEL SIGN OEY\n",
      "𖽡 / MIAO VOWEL SIGN I\n",
      "𖽢 / MIAO VOWEL SIGN IA\n",
      "𖽣 / MIAO VOWEL SIGN IAN\n",
      "𖽤 / MIAO VOWEL SIGN IANG\n",
      "𖽥 / MIAO VOWEL SIGN IO\n",
      "𖽦 / MIAO VOWEL SIGN IE\n",
      "𖽧 / MIAO VOWEL SIGN II\n",
      "𖽨 / MIAO VOWEL SIGN IU\n",
      "𖽩 / MIAO VOWEL SIGN ING\n",
      "𖽪 / MIAO VOWEL SIGN U\n",
      "𖽫 / MIAO VOWEL SIGN UA\n",
      "𖽬 / MIAO VOWEL SIGN UAN\n",
      "𖽭 / MIAO VOWEL SIGN UANG\n",
      "𖽮 / MIAO VOWEL SIGN UU\n",
      "𖽯 / MIAO VOWEL SIGN UEI\n",
      "𖽰 / MIAO VOWEL SIGN UNG\n",
      "𖽱 / MIAO VOWEL SIGN Y\n",
      "𖽲 / MIAO VOWEL SIGN YI\n",
      "𖽳 / MIAO VOWEL SIGN AE\n",
      "𖽴 / MIAO VOWEL SIGN AEE\n",
      "𖽵 / MIAO VOWEL SIGN ERR\n",
      "𖽶 / MIAO VOWEL SIGN ROUNDED ERR\n",
      "𖽷 / MIAO VOWEL SIGN ER\n",
      "𖽸 / MIAO VOWEL SIGN ROUNDED ER\n",
      "𖽹 / MIAO VOWEL SIGN AI\n",
      "𖽺 / MIAO VOWEL SIGN EI\n",
      "𖽻 / MIAO VOWEL SIGN AU\n",
      "𖽼 / MIAO VOWEL SIGN OU\n",
      "𖽽 / MIAO VOWEL SIGN N\n",
      "𖽾 / MIAO VOWEL SIGN NG\n",
      "𛲞 / DUPLOYAN DOUBLE MARK\n",
      "𞀀 / !no name!\n",
      "𞀁 / !no name!\n",
      "𞀂 / !no name!\n",
      "𞀃 / !no name!\n",
      "𞀄 / !no name!\n",
      "𞀅 / !no name!\n",
      "𞀆 / !no name!\n",
      "𞀈 / !no name!\n",
      "𞀉 / !no name!\n",
      "𞀊 / !no name!\n",
      "𞀋 / !no name!\n",
      "𞀌 / !no name!\n",
      "𞀍 / !no name!\n",
      "𞀎 / !no name!\n",
      "𞀏 / !no name!\n",
      "𞀐 / !no name!\n",
      "𞀑 / !no name!\n",
      "𞀒 / !no name!\n",
      "𞀓 / !no name!\n",
      "𞀔 / !no name!\n",
      "𞀕 / !no name!\n",
      "𞀖 / !no name!\n",
      "𞀗 / !no name!\n",
      "𞀘 / !no name!\n",
      "𞀛 / !no name!\n",
      "𞀜 / !no name!\n",
      "𞀝 / !no name!\n",
      "𞀞 / !no name!\n",
      "𞀟 / !no name!\n",
      "𞀠 / !no name!\n",
      "𞀡 / !no name!\n",
      "𞀣 / !no name!\n",
      "𞀤 / !no name!\n",
      "𞀦 / !no name!\n",
      "𞀧 / !no name!\n",
      "𞀨 / !no name!\n",
      "𞀩 / !no name!\n",
      "𞀪 / !no name!\n",
      "𞥇 / !no name!\n",
      "🄰 / SQUARED LATIN CAPITAL LETTER A\n",
      "🄱 / SQUARED LATIN CAPITAL LETTER B\n",
      "🄲 / SQUARED LATIN CAPITAL LETTER C\n",
      "🄳 / SQUARED LATIN CAPITAL LETTER D\n",
      "🄴 / SQUARED LATIN CAPITAL LETTER E\n",
      "🄵 / SQUARED LATIN CAPITAL LETTER F\n",
      "🄶 / SQUARED LATIN CAPITAL LETTER G\n",
      "🄷 / SQUARED LATIN CAPITAL LETTER H\n",
      "🄸 / SQUARED LATIN CAPITAL LETTER I\n",
      "🄹 / SQUARED LATIN CAPITAL LETTER J\n",
      "🄺 / SQUARED LATIN CAPITAL LETTER K\n",
      "🄻 / SQUARED LATIN CAPITAL LETTER L\n",
      "🄼 / SQUARED LATIN CAPITAL LETTER M\n",
      "🄽 / SQUARED LATIN CAPITAL LETTER N\n",
      "🄾 / SQUARED LATIN CAPITAL LETTER O\n",
      "🄿 / SQUARED LATIN CAPITAL LETTER P\n",
      "🅀 / SQUARED LATIN CAPITAL LETTER Q\n",
      "🅁 / SQUARED LATIN CAPITAL LETTER R\n",
      "🅂 / SQUARED LATIN CAPITAL LETTER S\n",
      "🅃 / SQUARED LATIN CAPITAL LETTER T\n",
      "🅄 / SQUARED LATIN CAPITAL LETTER U\n",
      "🅅 / SQUARED LATIN CAPITAL LETTER V\n",
      "🅆 / SQUARED LATIN CAPITAL LETTER W\n",
      "🅇 / SQUARED LATIN CAPITAL LETTER X\n",
      "🅈 / SQUARED LATIN CAPITAL LETTER Y\n",
      "🅉 / SQUARED LATIN CAPITAL LETTER Z\n",
      "🅐 / NEGATIVE CIRCLED LATIN CAPITAL LETTER A\n",
      "🅑 / NEGATIVE CIRCLED LATIN CAPITAL LETTER B\n",
      "🅒 / NEGATIVE CIRCLED LATIN CAPITAL LETTER C\n",
      "🅓 / NEGATIVE CIRCLED LATIN CAPITAL LETTER D\n",
      "🅔 / NEGATIVE CIRCLED LATIN CAPITAL LETTER E\n",
      "🅕 / NEGATIVE CIRCLED LATIN CAPITAL LETTER F\n",
      "🅖 / NEGATIVE CIRCLED LATIN CAPITAL LETTER G\n",
      "🅗 / NEGATIVE CIRCLED LATIN CAPITAL LETTER H\n",
      "🅘 / NEGATIVE CIRCLED LATIN CAPITAL LETTER I\n",
      "🅙 / NEGATIVE CIRCLED LATIN CAPITAL LETTER J\n",
      "🅚 / NEGATIVE CIRCLED LATIN CAPITAL LETTER K\n",
      "🅛 / NEGATIVE CIRCLED LATIN CAPITAL LETTER L\n",
      "🅜 / NEGATIVE CIRCLED LATIN CAPITAL LETTER M\n",
      "🅝 / NEGATIVE CIRCLED LATIN CAPITAL LETTER N\n",
      "🅞 / NEGATIVE CIRCLED LATIN CAPITAL LETTER O\n",
      "🅟 / NEGATIVE CIRCLED LATIN CAPITAL LETTER P\n",
      "🅠 / NEGATIVE CIRCLED LATIN CAPITAL LETTER Q\n",
      "🅡 / NEGATIVE CIRCLED LATIN CAPITAL LETTER R\n",
      "🅢 / NEGATIVE CIRCLED LATIN CAPITAL LETTER S\n",
      "🅣 / NEGATIVE CIRCLED LATIN CAPITAL LETTER T\n",
      "🅤 / NEGATIVE CIRCLED LATIN CAPITAL LETTER U\n",
      "🅥 / NEGATIVE CIRCLED LATIN CAPITAL LETTER V\n",
      "🅦 / NEGATIVE CIRCLED LATIN CAPITAL LETTER W\n",
      "🅧 / NEGATIVE CIRCLED LATIN CAPITAL LETTER X\n",
      "🅨 / NEGATIVE CIRCLED LATIN CAPITAL LETTER Y\n",
      "🅩 / NEGATIVE CIRCLED LATIN CAPITAL LETTER Z\n",
      "🅰 / NEGATIVE SQUARED LATIN CAPITAL LETTER A\n",
      "🅱 / NEGATIVE SQUARED LATIN CAPITAL LETTER B\n",
      "🅲 / NEGATIVE SQUARED LATIN CAPITAL LETTER C\n",
      "🅳 / NEGATIVE SQUARED LATIN CAPITAL LETTER D\n",
      "🅴 / NEGATIVE SQUARED LATIN CAPITAL LETTER E\n",
      "🅵 / NEGATIVE SQUARED LATIN CAPITAL LETTER F\n",
      "🅶 / NEGATIVE SQUARED LATIN CAPITAL LETTER G\n",
      "🅷 / NEGATIVE SQUARED LATIN CAPITAL LETTER H\n",
      "🅸 / NEGATIVE SQUARED LATIN CAPITAL LETTER I\n",
      "🅹 / NEGATIVE SQUARED LATIN CAPITAL LETTER J\n",
      "🅺 / NEGATIVE SQUARED LATIN CAPITAL LETTER K\n",
      "🅻 / NEGATIVE SQUARED LATIN CAPITAL LETTER L\n",
      "🅼 / NEGATIVE SQUARED LATIN CAPITAL LETTER M\n",
      "🅽 / NEGATIVE SQUARED LATIN CAPITAL LETTER N\n",
      "🅾 / NEGATIVE SQUARED LATIN CAPITAL LETTER O\n",
      "🅿 / NEGATIVE SQUARED LATIN CAPITAL LETTER P\n",
      "🆀 / NEGATIVE SQUARED LATIN CAPITAL LETTER Q\n",
      "🆁 / NEGATIVE SQUARED LATIN CAPITAL LETTER R\n",
      "🆂 / NEGATIVE SQUARED LATIN CAPITAL LETTER S\n",
      "🆃 / NEGATIVE SQUARED LATIN CAPITAL LETTER T\n",
      "🆄 / NEGATIVE SQUARED LATIN CAPITAL LETTER U\n",
      "🆅 / NEGATIVE SQUARED LATIN CAPITAL LETTER V\n",
      "🆆 / NEGATIVE SQUARED LATIN CAPITAL LETTER W\n",
      "🆇 / NEGATIVE SQUARED LATIN CAPITAL LETTER X\n",
      "🆈 / NEGATIVE SQUARED LATIN CAPITAL LETTER Y\n",
      "🆉 / NEGATIVE SQUARED LATIN CAPITAL LETTER Z\n"
     ]
    }
   ],
   "source": [
    "import unicodedata as ud\n",
    "\n",
    "# this call to the range() function generates successive integers from 0\n",
    "# to 1114111; 0x10ffff is just the hexadecimal representation of 1114111,\n",
    "# and it's the highest integer that Python is able to convert to a character\n",
    "# in the Unicode character set, which I found out by looking at the\n",
    "# documentation of the chr function by running chr?\n",
    "for i in range(0x10ffff):\n",
    "    # for each of these integers, give me the corresponding character\n",
    "    c = chr(i)\n",
    "    # if the character is alphabetic (= it successfully matches \\p{Alphabetic})\n",
    "    # but at the same time, it's not a letter (= it fails to match \\p{Letter}),\n",
    "    # then print it, along with its name (if it has no name, print \"!no name!\"\n",
    "    # instead)\n",
    "    if re.match(r\"\\p{Alphabetic}\", c) and re.match(r\"\\P{Letter}\", c):\n",
    "        print(\"{} / {}\".format(c, ud.name(c, \"!no name!\")))"
   ]
  },
  {
   "cell_type": "markdown",
   "metadata": {},
   "source": [
    "# Getting your own data into Python II"
   ]
  },
  {
   "cell_type": "code",
   "execution_count": 68,
   "metadata": {
    "collapsed": false
   },
   "outputs": [],
   "source": [
    "# we've seen that nltk.Text() creates a Text object, and that NLTK provides\n",
    "# access to some corpora -- e.g. from nltk.corpus import brown. if you have\n",
    "# a collection of text files, you can also easily create your own corpus\n",
    "# objects! a PlaintextCorpusReader is initialized with a string containing\n",
    "# the path to the directory where your files are stored, and either a list\n",
    "# of filenames to include in the corpus, or a regular expression pattern against\n",
    "# which filenames will be matched and files included in case of a successful\n",
    "# match\n",
    "small_gutenberg = nltk.corpus.PlaintextCorpusReader(\"/Users/dvl/nltk_data/corpora/gutenberg/\",\n",
    "                                                    [\"melville-moby_dick.txt\", \"carroll-alice.txt\"])"
   ]
  },
  {
   "cell_type": "code",
   "execution_count": 69,
   "metadata": {
    "collapsed": false
   },
   "outputs": [
    {
     "data": {
      "text/plain": [
       "['melville-moby_dick.txt', 'carroll-alice.txt']"
      ]
     },
     "execution_count": 69,
     "metadata": {},
     "output_type": "execute_result"
    }
   ],
   "source": [
    "small_gutenberg.fileids()"
   ]
  },
  {
   "cell_type": "code",
   "execution_count": 70,
   "metadata": {
    "collapsed": true
   },
   "outputs": [],
   "source": [
    "my_gutenberg = nltk.corpus.PlaintextCorpusReader(\"/Users/dvl/nltk_data/corpora/gutenberg/\", r\".*\\.txt\")"
   ]
  },
  {
   "cell_type": "code",
   "execution_count": 71,
   "metadata": {
    "collapsed": false
   },
   "outputs": [
    {
     "data": {
      "text/plain": [
       "['austen-emma.txt',\n",
       " 'austen-persuasion.txt',\n",
       " 'austen-sense.txt',\n",
       " 'bible-kjv.txt',\n",
       " 'blake-poems.txt',\n",
       " 'bryant-stories.txt',\n",
       " 'burgess-busterbrown.txt',\n",
       " 'carroll-alice.txt',\n",
       " 'chesterton-ball.txt',\n",
       " 'chesterton-brown.txt',\n",
       " 'chesterton-thursday.txt',\n",
       " 'edgeworth-parents.txt',\n",
       " 'melville-moby_dick.txt',\n",
       " 'milton-paradise.txt',\n",
       " 'shakespeare-caesar.txt',\n",
       " 'shakespeare-hamlet.txt',\n",
       " 'shakespeare-macbeth.txt',\n",
       " 'whitman-leaves.txt']"
      ]
     },
     "execution_count": 71,
     "metadata": {},
     "output_type": "execute_result"
    }
   ],
   "source": [
    "my_gutenberg.fileids()"
   ]
  },
  {
   "cell_type": "code",
   "execution_count": 72,
   "metadata": {
    "collapsed": false
   },
   "outputs": [
    {
     "data": {
      "text/plain": [
       "['[', 'Leaves', 'of', 'Grass', 'by', 'Walt', 'Whitman', ...]"
      ]
     },
     "execution_count": 72,
     "metadata": {},
     "output_type": "execute_result"
    }
   ],
   "source": [
    "my_gutenberg.words(\"whitman-leaves.txt\")"
   ]
  },
  {
   "cell_type": "code",
   "execution_count": 73,
   "metadata": {
    "collapsed": true
   },
   "outputs": [],
   "source": [
    "# you can also create categorized corpora, like brown. there are various\n",
    "# ways to tell NLTK how the texts should be categorized, see\n",
    "# nltk.corpus.CategorizedCorpusReader? for an overview. one way is to\n",
    "# specify a cat_pattern argument, which is a regular expression with\n",
    "# a capturing group; this will be matched against the file names of the\n",
    "# files in the corpus, and the content of the group will be extracted\n",
    "# as the category for the given file:\n",
    "gutenberg_by_author = nltk.corpus.CategorizedPlaintextCorpusReader(\n",
    "    \"/Users/dvl/nltk_data/corpora/gutenberg/\", r\".*\\.txt\", cat_pattern=r\"(.*?)-\")"
   ]
  },
  {
   "cell_type": "code",
   "execution_count": 74,
   "metadata": {
    "collapsed": false
   },
   "outputs": [
    {
     "data": {
      "text/plain": [
       "['austen-emma.txt',\n",
       " 'austen-persuasion.txt',\n",
       " 'austen-sense.txt',\n",
       " 'bible-kjv.txt',\n",
       " 'blake-poems.txt',\n",
       " 'bryant-stories.txt',\n",
       " 'burgess-busterbrown.txt',\n",
       " 'carroll-alice.txt',\n",
       " 'chesterton-ball.txt',\n",
       " 'chesterton-brown.txt',\n",
       " 'chesterton-thursday.txt',\n",
       " 'edgeworth-parents.txt',\n",
       " 'melville-moby_dick.txt',\n",
       " 'milton-paradise.txt',\n",
       " 'shakespeare-caesar.txt',\n",
       " 'shakespeare-hamlet.txt',\n",
       " 'shakespeare-macbeth.txt',\n",
       " 'whitman-leaves.txt']"
      ]
     },
     "execution_count": 74,
     "metadata": {},
     "output_type": "execute_result"
    }
   ],
   "source": [
    "gutenberg_by_author.fileids()"
   ]
  },
  {
   "cell_type": "code",
   "execution_count": 75,
   "metadata": {
    "collapsed": false
   },
   "outputs": [
    {
     "data": {
      "text/plain": [
       "['austen',\n",
       " 'bible',\n",
       " 'blake',\n",
       " 'bryant',\n",
       " 'burgess',\n",
       " 'carroll',\n",
       " 'chesterton',\n",
       " 'edgeworth',\n",
       " 'melville',\n",
       " 'milton',\n",
       " 'shakespeare',\n",
       " 'whitman']"
      ]
     },
     "execution_count": 75,
     "metadata": {},
     "output_type": "execute_result"
    }
   ],
   "source": [
    "gutenberg_by_author.categories()"
   ]
  },
  {
   "cell_type": "code",
   "execution_count": 76,
   "metadata": {
    "collapsed": false
   },
   "outputs": [
    {
     "data": {
      "text/plain": [
       "['shakespeare']"
      ]
     },
     "execution_count": 76,
     "metadata": {},
     "output_type": "execute_result"
    }
   ],
   "source": [
    "gutenberg_by_author.categories(\"shakespeare-hamlet.txt\")"
   ]
  },
  {
   "cell_type": "code",
   "execution_count": 77,
   "metadata": {
    "collapsed": false
   },
   "outputs": [
    {
     "data": {
      "text/plain": [
       "['[', 'The', 'Tragedie', 'of', 'Julius', 'Caesar', ...]"
      ]
     },
     "execution_count": 77,
     "metadata": {},
     "output_type": "execute_result"
    }
   ],
   "source": [
    "gutenberg_by_author.words(categories=\"shakespeare\")"
   ]
  }
 ],
 "metadata": {
  "anaconda-cloud": {},
  "kernelspec": {
   "display_name": "Python [Root]",
   "language": "python",
   "name": "Python [Root]"
  },
  "language_info": {
   "codemirror_mode": {
    "name": "ipython",
    "version": 3
   },
   "file_extension": ".py",
   "mimetype": "text/x-python",
   "name": "python",
   "nbconvert_exporter": "python",
   "pygments_lexer": "ipython3",
   "version": "3.5.2"
  }
 },
 "nbformat": 4,
 "nbformat_minor": 0
}
