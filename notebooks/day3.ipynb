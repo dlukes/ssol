{
 "cells": [
  {
   "cell_type": "code",
   "execution_count": 1,
   "metadata": {
    "collapsed": false
   },
   "outputs": [],
   "source": [
    "%matplotlib notebook"
   ]
  },
  {
   "cell_type": "code",
   "execution_count": 2,
   "metadata": {
    "collapsed": true
   },
   "outputs": [],
   "source": [
    "import nltk"
   ]
  },
  {
   "cell_type": "markdown",
   "metadata": {},
   "source": [
    "# Homework\n",
    "\n",
    "If you'd like some, check out the exercises at the end of the first chapter of the NLTK Book: <http://www.nltk.org/book/ch01.html>."
   ]
  },
  {
   "cell_type": "markdown",
   "metadata": {},
   "source": [
    "# Review"
   ]
  },
  {
   "cell_type": "code",
   "execution_count": 3,
   "metadata": {
    "collapsed": false
   },
   "outputs": [
    {
     "data": {
      "text/plain": [
       "4528023496"
      ]
     },
     "execution_count": 3,
     "metadata": {},
     "output_type": "execute_result"
    }
   ],
   "source": [
    "# lists -- mutable collections indexed by a sequence of integers starting at 0\n",
    "lst = [1, 2, 3]\n",
    "# id() gives us the memory location of an object, which is like its ID card\n",
    "id(lst)"
   ]
  },
  {
   "cell_type": "code",
   "execution_count": 4,
   "metadata": {
    "collapsed": false
   },
   "outputs": [],
   "source": [
    "lst.append(4)"
   ]
  },
  {
   "cell_type": "code",
   "execution_count": 5,
   "metadata": {
    "collapsed": false
   },
   "outputs": [
    {
     "data": {
      "text/plain": [
       "[1, 2, 3, 4]"
      ]
     },
     "execution_count": 5,
     "metadata": {},
     "output_type": "execute_result"
    }
   ],
   "source": [
    "# the list has grown...\n",
    "lst"
   ]
  },
  {
   "cell_type": "code",
   "execution_count": 6,
   "metadata": {
    "collapsed": false
   },
   "outputs": [
    {
     "data": {
      "text/plain": [
       "4528023496"
      ]
     },
     "execution_count": 6,
     "metadata": {},
     "output_type": "execute_result"
    }
   ],
   "source": [
    "# ... but it's still \"the same\" object, just its content was modified \n",
    "id(lst)"
   ]
  },
  {
   "cell_type": "code",
   "execution_count": 7,
   "metadata": {
    "collapsed": false
   },
   "outputs": [
    {
     "data": {
      "text/plain": [
       "[1, 2, 42, 4]"
      ]
     },
     "execution_count": 7,
     "metadata": {},
     "output_type": "execute_result"
    }
   ],
   "source": [
    "# changing an element of a list is the same story\n",
    "lst[2] = 42\n",
    "lst"
   ]
  },
  {
   "cell_type": "code",
   "execution_count": 8,
   "metadata": {
    "collapsed": false
   },
   "outputs": [
    {
     "data": {
      "text/plain": [
       "4528023496"
      ]
     },
     "execution_count": 8,
     "metadata": {},
     "output_type": "execute_result"
    }
   ],
   "source": [
    "id(lst)"
   ]
  },
  {
   "cell_type": "code",
   "execution_count": 9,
   "metadata": {
    "collapsed": false
   },
   "outputs": [
    {
     "data": {
      "text/plain": [
       "'import nltk'"
      ]
     },
     "execution_count": 9,
     "metadata": {},
     "output_type": "execute_result"
    }
   ],
   "source": [
    "# by the way, in Jupyter, In and Out (see left margin of cells) are globally\n",
    "# available lists which allow you to refer to any previous input or output\n",
    "# of a cell evaluation action\n",
    "In[2]"
   ]
  },
  {
   "cell_type": "code",
   "execution_count": 10,
   "metadata": {
    "collapsed": true
   },
   "outputs": [],
   "source": [
    "# tuples are kind of like lists, but immutable -- they can't be modified in place\n",
    "pair = (1, 2)"
   ]
  },
  {
   "cell_type": "code",
   "execution_count": 12,
   "metadata": {
    "collapsed": false
   },
   "outputs": [
    {
     "ename": "TypeError",
     "evalue": "'tuple' object does not support item assignment",
     "output_type": "error",
     "traceback": [
      "\u001b[0;31m---------------------------------------------------------------------------\u001b[0m",
      "\u001b[0;31mTypeError\u001b[0m                                 Traceback (most recent call last)",
      "\u001b[0;32m<ipython-input-12-b6f06bd48953>\u001b[0m in \u001b[0;36m<module>\u001b[0;34m()\u001b[0m\n\u001b[0;32m----> 1\u001b[0;31m \u001b[0mpair\u001b[0m\u001b[0;34m[\u001b[0m\u001b[0;36m0\u001b[0m\u001b[0;34m]\u001b[0m \u001b[0;34m=\u001b[0m \u001b[0;36m42\u001b[0m\u001b[0;34m\u001b[0m\u001b[0m\n\u001b[0m",
      "\u001b[0;31mTypeError\u001b[0m: 'tuple' object does not support item assignment"
     ]
    }
   ],
   "source": [
    "pair[0] = 42"
   ]
  },
  {
   "cell_type": "code",
   "execution_count": 13,
   "metadata": {
    "collapsed": false
   },
   "outputs": [
    {
     "data": {
      "text/plain": [
       "1"
      ]
     },
     "execution_count": 13,
     "metadata": {},
     "output_type": "execute_result"
    }
   ],
   "source": [
    "# both lists and tuples support \"destructuring assignment\"\n",
    "first, second = pair\n",
    "first"
   ]
  },
  {
   "cell_type": "code",
   "execution_count": 14,
   "metadata": {
    "collapsed": false
   },
   "outputs": [
    {
     "data": {
      "text/plain": [
       "2"
      ]
     },
     "execution_count": 14,
     "metadata": {},
     "output_type": "execute_result"
    }
   ],
   "source": [
    "second"
   ]
  },
  {
   "cell_type": "code",
   "execution_count": 15,
   "metadata": {
    "collapsed": false
   },
   "outputs": [
    {
     "data": {
      "text/plain": [
       "'M'"
      ]
     },
     "execution_count": 15,
     "metadata": {},
     "output_type": "execute_result"
    }
   ],
   "source": [
    "# strings are also kind of like lists, but also immutable and optimized for\n",
    "# storing text data\n",
    "name = name2 = \"Monty\"\n",
    "name[0]"
   ]
  },
  {
   "cell_type": "code",
   "execution_count": 16,
   "metadata": {
    "collapsed": false
   },
   "outputs": [
    {
     "data": {
      "text/plain": [
       "4528068680"
      ]
     },
     "execution_count": 16,
     "metadata": {},
     "output_type": "execute_result"
    }
   ],
   "source": [
    "id(name)"
   ]
  },
  {
   "cell_type": "code",
   "execution_count": 17,
   "metadata": {
    "collapsed": false
   },
   "outputs": [
    {
     "data": {
      "text/plain": [
       "'MONTY'"
      ]
     },
     "execution_count": 17,
     "metadata": {},
     "output_type": "execute_result"
    }
   ],
   "source": [
    "# when you want to \"modify\" a string, you need to create a new one based on\n",
    "# the old one. even string methods like .upper() return a new string (unlike\n",
    "# e.g. .append() with lists). you can give it the same name (i.e. take the\n",
    "# label away from the old string and give it to the new one), but it'll still\n",
    "# be a different string with a brand new ID card\n",
    "name = name.upper()\n",
    "name"
   ]
  },
  {
   "cell_type": "code",
   "execution_count": 18,
   "metadata": {
    "collapsed": false
   },
   "outputs": [
    {
     "data": {
      "text/plain": [
       "'Monty'"
      ]
     },
     "execution_count": 18,
     "metadata": {},
     "output_type": "execute_result"
    }
   ],
   "source": [
    "name2"
   ]
  },
  {
   "cell_type": "code",
   "execution_count": 19,
   "metadata": {
    "collapsed": false
   },
   "outputs": [
    {
     "data": {
      "text/plain": [
       "4528067728"
      ]
     },
     "execution_count": 19,
     "metadata": {},
     "output_type": "execute_result"
    }
   ],
   "source": [
    "id(name)"
   ]
  },
  {
   "cell_type": "code",
   "execution_count": 20,
   "metadata": {
    "collapsed": false
   },
   "outputs": [
    {
     "data": {
      "text/plain": [
       "{'python': 1, 'the': 42}"
      ]
     },
     "execution_count": 20,
     "metadata": {},
     "output_type": "execute_result"
    }
   ],
   "source": [
    "# dictionaries are collections of key--value pairs; like lists, they're mutable;\n",
    "# unlike lists, which are indexed (keyed) by a sequence of integers, dictionaries\n",
    "# can be keyed by any immutable piece of data (typically strings, but tuples would\n",
    "# work as well)\n",
    "freq = {\"the\": 42, \"python\": 1}\n",
    "freq"
   ]
  },
  {
   "cell_type": "code",
   "execution_count": 21,
   "metadata": {
    "collapsed": false
   },
   "outputs": [
    {
     "data": {
      "text/plain": [
       "{'python': 1, 'the': 42}"
      ]
     },
     "execution_count": 21,
     "metadata": {},
     "output_type": "execute_result"
    }
   ],
   "source": [
    "freq = dict(the=42, python=1)\n",
    "freq"
   ]
  },
  {
   "cell_type": "code",
   "execution_count": 22,
   "metadata": {
    "collapsed": false
   },
   "outputs": [
    {
     "data": {
      "text/plain": [
       "{'python': 1, 'the': 42}"
      ]
     },
     "execution_count": 22,
     "metadata": {},
     "output_type": "execute_result"
    }
   ],
   "source": [
    "freq = dict([(\"the\", 42), (\"python\", 1)])\n",
    "freq"
   ]
  },
  {
   "cell_type": "code",
   "execution_count": 23,
   "metadata": {
    "collapsed": false
   },
   "outputs": [
    {
     "data": {
      "text/plain": [
       "1"
      ]
     },
     "execution_count": 23,
     "metadata": {},
     "output_type": "execute_result"
    }
   ],
   "source": [
    "freq[\"python\"]"
   ]
  },
  {
   "cell_type": "code",
   "execution_count": 24,
   "metadata": {
    "collapsed": false
   },
   "outputs": [
    {
     "data": {
      "text/plain": [
       "<generator object <genexpr> at 0x10de3b7d8>"
      ]
     },
     "execution_count": 24,
     "metadata": {},
     "output_type": "execute_result"
    }
   ],
   "source": [
    "# \"for expressions\" can be used to iterate over the elements of a collection while\n",
    "# acting on their values (filtering them, computing new values based on them);\n",
    "# they're lazy, i.e. they're not evaluated until someone asks for their output\n",
    "(-num for num in lst)"
   ]
  },
  {
   "cell_type": "code",
   "execution_count": 25,
   "metadata": {
    "collapsed": false
   },
   "outputs": [
    {
     "data": {
      "text/plain": [
       "-1"
      ]
     },
     "execution_count": 25,
     "metadata": {},
     "output_type": "execute_result"
    }
   ],
   "source": [
    "# the values they generate can either be retrieved one by one with next()...\n",
    "gen = (-num for num in lst)\n",
    "next(gen)"
   ]
  },
  {
   "cell_type": "code",
   "execution_count": 26,
   "metadata": {
    "collapsed": false
   },
   "outputs": [
    {
     "data": {
      "text/plain": [
       "-2"
      ]
     },
     "execution_count": 26,
     "metadata": {},
     "output_type": "execute_result"
    }
   ],
   "source": [
    "next(gen)"
   ]
  },
  {
   "cell_type": "code",
   "execution_count": 27,
   "metadata": {
    "collapsed": false
   },
   "outputs": [
    {
     "data": {
      "text/plain": [
       "[-1, -2, -42, -4]"
      ]
     },
     "execution_count": 27,
     "metadata": {},
     "output_type": "execute_result"
    }
   ],
   "source": [
    "# ... or by passing them as input to a function which exhausts a collection as\n",
    "# part of its operation (because it needs to get to the end of the collection\n",
    "# to compute a result)\n",
    "list(-num for num in lst)"
   ]
  },
  {
   "cell_type": "code",
   "execution_count": 28,
   "metadata": {
    "collapsed": false
   },
   "outputs": [
    {
     "data": {
      "text/plain": [
       "[-1, -2, -42, -4]"
      ]
     },
     "execution_count": 28,
     "metadata": {},
     "output_type": "execute_result"
    }
   ],
   "source": [
    "# equivalently (this syntax is called a \"list comphrehension\"):\n",
    "[-num for num in lst]"
   ]
  },
  {
   "cell_type": "code",
   "execution_count": 29,
   "metadata": {
    "collapsed": false
   },
   "outputs": [
    {
     "data": {
      "text/plain": [
       "[-42, -4, -2, -1]"
      ]
     },
     "execution_count": 29,
     "metadata": {},
     "output_type": "execute_result"
    }
   ],
   "source": [
    "sorted(-num for num in lst)"
   ]
  },
  {
   "cell_type": "code",
   "execution_count": 30,
   "metadata": {
    "collapsed": false
   },
   "outputs": [
    {
     "data": {
      "text/plain": [
       "[4, 42, 2, 1]"
      ]
     },
     "execution_count": 30,
     "metadata": {},
     "output_type": "execute_result"
    }
   ],
   "source": [
    "# some functions like reversed() or range() also create generators\n",
    "list(reversed(lst))"
   ]
  },
  {
   "cell_type": "code",
   "execution_count": 31,
   "metadata": {
    "collapsed": false
   },
   "outputs": [
    {
     "data": {
      "text/plain": [
       "[0, 1, 2]"
      ]
     },
     "execution_count": 31,
     "metadata": {},
     "output_type": "execute_result"
    }
   ],
   "source": [
    "list(range(3))"
   ]
  },
  {
   "cell_type": "code",
   "execution_count": 32,
   "metadata": {
    "collapsed": false
   },
   "outputs": [
    {
     "data": {
      "text/plain": [
       "[range(0, 3)]"
      ]
     },
     "execution_count": 32,
     "metadata": {},
     "output_type": "execute_result"
    }
   ],
   "source": [
    "# NOTE: unlike above with the list comprehension, this does not work, it just\n",
    "# creates a list which *contains* the generator object instead of exhausting it\n",
    "[range(3)]"
   ]
  },
  {
   "cell_type": "code",
   "execution_count": 33,
   "metadata": {
    "collapsed": false
   },
   "outputs": [
    {
     "data": {
      "text/plain": [
       "[0, 1, 2]"
      ]
     },
     "execution_count": 33,
     "metadata": {},
     "output_type": "execute_result"
    }
   ],
   "source": [
    "# you need an explicit \"for\" when using the list comprehension syntax to make\n",
    "# it clear to python that you want to exhaust the generator, so the following\n",
    "# works (but it's more verbose than just list(range(3)) for no good reason)\n",
    "[num for num in range(3)]"
   ]
  },
  {
   "cell_type": "markdown",
   "metadata": {},
   "source": [
    "# How is text represented inside a computer?\n",
    "\n",
    "See <http://dlukes.github.io/unicode.html> if you're interested in a more detailed account.\n",
    "\n",
    "A **character set** is a huge table mapping a sequence of integers (whole numbers) to characters. Each row of this table is called a **codepoint**.\n",
    "\n",
    "- [ASCII](http://www.ascii-code.com/) is an old, English-centric character set which can represent 128 characters\n",
    "- [Unicode](http://www.babelstone.co.uk/Unicode/unicode.html) is the current global standard for a universal character set which currently defines ~128k characters (in theory, it allows for 17 \"planes\" of ~65k characters each → ~1M in total)"
   ]
  },
  {
   "cell_type": "code",
   "execution_count": 34,
   "metadata": {
    "collapsed": false
   },
   "outputs": [
    {
     "data": {
      "text/plain": [
       "'늁'"
      ]
     },
     "execution_count": 34,
     "metadata": {},
     "output_type": "execute_result"
    }
   ],
   "source": [
    "# chr() takes an integer and gives you the corresponding character in the\n",
    "# *Unicode* character set table\n",
    "chr(45697)"
   ]
  },
  {
   "cell_type": "code",
   "execution_count": 35,
   "metadata": {
    "collapsed": false
   },
   "outputs": [
    {
     "data": {
      "text/plain": [
       "45697"
      ]
     },
     "execution_count": 35,
     "metadata": {},
     "output_type": "execute_result"
    }
   ],
   "source": [
    "# ord() does the reverse operation\n",
    "ord(\"늁\")"
   ]
  },
  {
   "cell_type": "markdown",
   "metadata": {},
   "source": [
    "An **encoding** is a mapping between the sequence of integers in a character set and actual physical bits (0's and 1's) in the computer's memory. One character set can be encoded in various ways. A **fixed-width encoding** spends the same amount of bits per codepoint. OK for small character sets, but very wasteful for huge character sets!"
   ]
  },
  {
   "cell_type": "code",
   "execution_count": 36,
   "metadata": {
    "collapsed": false
   },
   "outputs": [
    {
     "data": {
      "text/plain": [
       "1048576"
      ]
     },
     "execution_count": 36,
     "metadata": {},
     "output_type": "execute_result"
    }
   ],
   "source": [
    "# Unicode in theory has ~1M codepoints; to represent the \"biggest\" ones,\n",
    "# you'd need ~20 bits, which means that you'd need ~20 bits for all of\n",
    "# them\n",
    "2**20"
   ]
  },
  {
   "cell_type": "markdown",
   "metadata": {},
   "source": [
    "**UTF-8** is a **variable-width encoding** for Unicode which uses some tricks to represent more frequently used characters with less bits. Please use it for your textual data, it's ubiquitous, smart and sexy!\n",
    "\n",
    "Python mostly assumes UTF-8 bytes as input, then converts those bytes to its own internal representation of Unicode (= the strings we've been using all along), then encodes to UTF-8 bytes for output (though this can all be customized, generally by passing an `encoding=...` parameter to the relevant functions)."
   ]
  },
  {
   "cell_type": "code",
   "execution_count": 37,
   "metadata": {
    "collapsed": true
   },
   "outputs": [],
   "source": [
    "# you can also play with encoding and decoding manually and break stuff, yay!\n",
    "č_utf8_bytes = \"č\".encode(\"utf-8\")"
   ]
  },
  {
   "cell_type": "code",
   "execution_count": 38,
   "metadata": {
    "collapsed": false
   },
   "outputs": [
    {
     "data": {
      "text/plain": [
       "b'\\xc4\\x8d'"
      ]
     },
     "execution_count": 38,
     "metadata": {},
     "output_type": "execute_result"
    }
   ],
   "source": [
    "č_utf8_bytes"
   ]
  },
  {
   "cell_type": "code",
   "execution_count": 39,
   "metadata": {
    "collapsed": false
   },
   "outputs": [
    {
     "data": {
      "text/plain": [
       "'ÄŤ'"
      ]
     },
     "execution_count": 39,
     "metadata": {},
     "output_type": "execute_result"
    }
   ],
   "source": [
    "# decoding text that was intended to be UTF-8 with a different encoding results\n",
    "# in jumbled characters\n",
    "č_utf8_bytes.decode(\"cp1250\")"
   ]
  },
  {
   "cell_type": "code",
   "execution_count": 40,
   "metadata": {
    "collapsed": false
   },
   "outputs": [],
   "source": [
    "from unicodedata import normalize"
   ]
  },
  {
   "cell_type": "code",
   "execution_count": 41,
   "metadata": {
    "collapsed": false
   },
   "outputs": [
    {
     "name": "stdout",
     "output_type": "stream",
     "text": [
      "č\n"
     ]
    }
   ],
   "source": [
    "for codepoint in \"č\":\n",
    "    print(codepoint)"
   ]
  },
  {
   "cell_type": "code",
   "execution_count": 42,
   "metadata": {
    "collapsed": false
   },
   "outputs": [
    {
     "name": "stdout",
     "output_type": "stream",
     "text": [
      "c\n",
      "̌\n"
     ]
    }
   ],
   "source": [
    "for codepoint in normalize(\"NFD\", \"č\"):\n",
    "    print(codepoint)"
   ]
  },
  {
   "cell_type": "code",
   "execution_count": 43,
   "metadata": {
    "collapsed": false
   },
   "outputs": [
    {
     "name": "stdout",
     "output_type": "stream",
     "text": [
      "č\n"
     ]
    }
   ],
   "source": [
    "print(normalize(\"NFD\", \"č\"))"
   ]
  },
  {
   "cell_type": "code",
   "execution_count": 44,
   "metadata": {
    "collapsed": true
   },
   "outputs": [],
   "source": [
    "from nltk.corpus import gutenberg as gut"
   ]
  },
  {
   "cell_type": "code",
   "execution_count": 45,
   "metadata": {
    "collapsed": false
   },
   "outputs": [
    {
     "data": {
      "text/plain": [
       "['austen-emma.txt',\n",
       " 'austen-persuasion.txt',\n",
       " 'austen-sense.txt',\n",
       " 'bible-kjv.txt',\n",
       " 'blake-poems.txt',\n",
       " 'bryant-stories.txt',\n",
       " 'burgess-busterbrown.txt',\n",
       " 'carroll-alice.txt',\n",
       " 'chesterton-ball.txt',\n",
       " 'chesterton-brown.txt',\n",
       " 'chesterton-thursday.txt',\n",
       " 'edgeworth-parents.txt',\n",
       " 'melville-moby_dick.txt',\n",
       " 'milton-paradise.txt',\n",
       " 'shakespeare-caesar.txt',\n",
       " 'shakespeare-hamlet.txt',\n",
       " 'shakespeare-macbeth.txt',\n",
       " 'whitman-leaves.txt']"
      ]
     },
     "execution_count": 45,
     "metadata": {},
     "output_type": "execute_result"
    }
   ],
   "source": [
    "gut.fileids()"
   ]
  },
  {
   "cell_type": "code",
   "execution_count": 46,
   "metadata": {
    "collapsed": false
   },
   "outputs": [],
   "source": [
    "words = gut.words()"
   ]
  },
  {
   "cell_type": "code",
   "execution_count": 47,
   "metadata": {
    "collapsed": false
   },
   "outputs": [
    {
     "data": {
      "text/plain": [
       "['[', 'Emma', 'by', 'Jane', 'Austen', '1816', ']', 'VOLUME', 'I', 'CHAPTER']"
      ]
     },
     "execution_count": 47,
     "metadata": {},
     "output_type": "execute_result"
    }
   ],
   "source": [
    "words[:10]"
   ]
  },
  {
   "cell_type": "code",
   "execution_count": 48,
   "metadata": {
    "collapsed": false
   },
   "outputs": [
    {
     "data": {
      "text/plain": [
       "[['Some',\n",
       "  'people',\n",
       "  'even',\n",
       "  'talked',\n",
       "  'of',\n",
       "  'a',\n",
       "  'promise',\n",
       "  'to',\n",
       "  'his',\n",
       "  'wife',\n",
       "  'on',\n",
       "  'her',\n",
       "  'deathbed',\n",
       "  ',',\n",
       "  'and',\n",
       "  'others',\n",
       "  'of',\n",
       "  'the',\n",
       "  'son',\n",
       "  'and',\n",
       "  'the',\n",
       "  'uncle',\n",
       "  'not',\n",
       "  'letting',\n",
       "  'him',\n",
       "  '.'],\n",
       " ['All',\n",
       "  'manner',\n",
       "  'of',\n",
       "  'solemn',\n",
       "  'nonsense',\n",
       "  'was',\n",
       "  'talked',\n",
       "  'on',\n",
       "  'the',\n",
       "  'subject',\n",
       "  ',',\n",
       "  'but',\n",
       "  'I',\n",
       "  'believed',\n",
       "  'none',\n",
       "  'of',\n",
       "  'it',\n",
       "  '.']]"
      ]
     },
     "execution_count": 48,
     "metadata": {},
     "output_type": "execute_result"
    }
   ],
   "source": [
    "gut.sents()[132:134]"
   ]
  },
  {
   "cell_type": "code",
   "execution_count": 49,
   "metadata": {
    "collapsed": true
   },
   "outputs": [],
   "source": [
    "emma = nltk.Text(gut.words('austen-emma.txt'))"
   ]
  },
  {
   "cell_type": "code",
   "execution_count": 50,
   "metadata": {
    "collapsed": false
   },
   "outputs": [
    {
     "name": "stdout",
     "output_type": "stream",
     "text": [
      "Displaying 1 of 1 matches:\n",
      " that Emma could not but feel some surprise , and a little displeasure , on he\n"
     ]
    }
   ],
   "source": [
    "emma.concordance(\"surprise\")"
   ]
  },
  {
   "cell_type": "code",
   "execution_count": 51,
   "metadata": {
    "collapsed": false
   },
   "outputs": [
    {
     "data": {
      "application/javascript": [
       "/* Put everything inside the global mpl namespace */\n",
       "window.mpl = {};\n",
       "\n",
       "mpl.get_websocket_type = function() {\n",
       "    if (typeof(WebSocket) !== 'undefined') {\n",
       "        return WebSocket;\n",
       "    } else if (typeof(MozWebSocket) !== 'undefined') {\n",
       "        return MozWebSocket;\n",
       "    } else {\n",
       "        alert('Your browser does not have WebSocket support.' +\n",
       "              'Please try Chrome, Safari or Firefox ≥ 6. ' +\n",
       "              'Firefox 4 and 5 are also supported but you ' +\n",
       "              'have to enable WebSockets in about:config.');\n",
       "    };\n",
       "}\n",
       "\n",
       "mpl.figure = function(figure_id, websocket, ondownload, parent_element) {\n",
       "    this.id = figure_id;\n",
       "\n",
       "    this.ws = websocket;\n",
       "\n",
       "    this.supports_binary = (this.ws.binaryType != undefined);\n",
       "\n",
       "    if (!this.supports_binary) {\n",
       "        var warnings = document.getElementById(\"mpl-warnings\");\n",
       "        if (warnings) {\n",
       "            warnings.style.display = 'block';\n",
       "            warnings.textContent = (\n",
       "                \"This browser does not support binary websocket messages. \" +\n",
       "                    \"Performance may be slow.\");\n",
       "        }\n",
       "    }\n",
       "\n",
       "    this.imageObj = new Image();\n",
       "\n",
       "    this.context = undefined;\n",
       "    this.message = undefined;\n",
       "    this.canvas = undefined;\n",
       "    this.rubberband_canvas = undefined;\n",
       "    this.rubberband_context = undefined;\n",
       "    this.format_dropdown = undefined;\n",
       "\n",
       "    this.image_mode = 'full';\n",
       "\n",
       "    this.root = $('<div/>');\n",
       "    this._root_extra_style(this.root)\n",
       "    this.root.attr('style', 'display: inline-block');\n",
       "\n",
       "    $(parent_element).append(this.root);\n",
       "\n",
       "    this._init_header(this);\n",
       "    this._init_canvas(this);\n",
       "    this._init_toolbar(this);\n",
       "\n",
       "    var fig = this;\n",
       "\n",
       "    this.waiting = false;\n",
       "\n",
       "    this.ws.onopen =  function () {\n",
       "            fig.send_message(\"supports_binary\", {value: fig.supports_binary});\n",
       "            fig.send_message(\"send_image_mode\", {});\n",
       "            fig.send_message(\"refresh\", {});\n",
       "        }\n",
       "\n",
       "    this.imageObj.onload = function() {\n",
       "            if (fig.image_mode == 'full') {\n",
       "                // Full images could contain transparency (where diff images\n",
       "                // almost always do), so we need to clear the canvas so that\n",
       "                // there is no ghosting.\n",
       "                fig.context.clearRect(0, 0, fig.canvas.width, fig.canvas.height);\n",
       "            }\n",
       "            fig.context.drawImage(fig.imageObj, 0, 0);\n",
       "        };\n",
       "\n",
       "    this.imageObj.onunload = function() {\n",
       "        this.ws.close();\n",
       "    }\n",
       "\n",
       "    this.ws.onmessage = this._make_on_message_function(this);\n",
       "\n",
       "    this.ondownload = ondownload;\n",
       "}\n",
       "\n",
       "mpl.figure.prototype._init_header = function() {\n",
       "    var titlebar = $(\n",
       "        '<div class=\"ui-dialog-titlebar ui-widget-header ui-corner-all ' +\n",
       "        'ui-helper-clearfix\"/>');\n",
       "    var titletext = $(\n",
       "        '<div class=\"ui-dialog-title\" style=\"width: 100%; ' +\n",
       "        'text-align: center; padding: 3px;\"/>');\n",
       "    titlebar.append(titletext)\n",
       "    this.root.append(titlebar);\n",
       "    this.header = titletext[0];\n",
       "}\n",
       "\n",
       "\n",
       "\n",
       "mpl.figure.prototype._canvas_extra_style = function(canvas_div) {\n",
       "\n",
       "}\n",
       "\n",
       "\n",
       "mpl.figure.prototype._root_extra_style = function(canvas_div) {\n",
       "\n",
       "}\n",
       "\n",
       "mpl.figure.prototype._init_canvas = function() {\n",
       "    var fig = this;\n",
       "\n",
       "    var canvas_div = $('<div/>');\n",
       "\n",
       "    canvas_div.attr('style', 'position: relative; clear: both; outline: 0');\n",
       "\n",
       "    function canvas_keyboard_event(event) {\n",
       "        return fig.key_event(event, event['data']);\n",
       "    }\n",
       "\n",
       "    canvas_div.keydown('key_press', canvas_keyboard_event);\n",
       "    canvas_div.keyup('key_release', canvas_keyboard_event);\n",
       "    this.canvas_div = canvas_div\n",
       "    this._canvas_extra_style(canvas_div)\n",
       "    this.root.append(canvas_div);\n",
       "\n",
       "    var canvas = $('<canvas/>');\n",
       "    canvas.addClass('mpl-canvas');\n",
       "    canvas.attr('style', \"left: 0; top: 0; z-index: 0; outline: 0\")\n",
       "\n",
       "    this.canvas = canvas[0];\n",
       "    this.context = canvas[0].getContext(\"2d\");\n",
       "\n",
       "    var rubberband = $('<canvas/>');\n",
       "    rubberband.attr('style', \"position: absolute; left: 0; top: 0; z-index: 1;\")\n",
       "\n",
       "    var pass_mouse_events = true;\n",
       "\n",
       "    canvas_div.resizable({\n",
       "        start: function(event, ui) {\n",
       "            pass_mouse_events = false;\n",
       "        },\n",
       "        resize: function(event, ui) {\n",
       "            fig.request_resize(ui.size.width, ui.size.height);\n",
       "        },\n",
       "        stop: function(event, ui) {\n",
       "            pass_mouse_events = true;\n",
       "            fig.request_resize(ui.size.width, ui.size.height);\n",
       "        },\n",
       "    });\n",
       "\n",
       "    function mouse_event_fn(event) {\n",
       "        if (pass_mouse_events)\n",
       "            return fig.mouse_event(event, event['data']);\n",
       "    }\n",
       "\n",
       "    rubberband.mousedown('button_press', mouse_event_fn);\n",
       "    rubberband.mouseup('button_release', mouse_event_fn);\n",
       "    // Throttle sequential mouse events to 1 every 20ms.\n",
       "    rubberband.mousemove('motion_notify', mouse_event_fn);\n",
       "\n",
       "    rubberband.mouseenter('figure_enter', mouse_event_fn);\n",
       "    rubberband.mouseleave('figure_leave', mouse_event_fn);\n",
       "\n",
       "    canvas_div.on(\"wheel\", function (event) {\n",
       "        event = event.originalEvent;\n",
       "        event['data'] = 'scroll'\n",
       "        if (event.deltaY < 0) {\n",
       "            event.step = 1;\n",
       "        } else {\n",
       "            event.step = -1;\n",
       "        }\n",
       "        mouse_event_fn(event);\n",
       "    });\n",
       "\n",
       "    canvas_div.append(canvas);\n",
       "    canvas_div.append(rubberband);\n",
       "\n",
       "    this.rubberband = rubberband;\n",
       "    this.rubberband_canvas = rubberband[0];\n",
       "    this.rubberband_context = rubberband[0].getContext(\"2d\");\n",
       "    this.rubberband_context.strokeStyle = \"#000000\";\n",
       "\n",
       "    this._resize_canvas = function(width, height) {\n",
       "        // Keep the size of the canvas, canvas container, and rubber band\n",
       "        // canvas in synch.\n",
       "        canvas_div.css('width', width)\n",
       "        canvas_div.css('height', height)\n",
       "\n",
       "        canvas.attr('width', width);\n",
       "        canvas.attr('height', height);\n",
       "\n",
       "        rubberband.attr('width', width);\n",
       "        rubberband.attr('height', height);\n",
       "    }\n",
       "\n",
       "    // Set the figure to an initial 600x600px, this will subsequently be updated\n",
       "    // upon first draw.\n",
       "    this._resize_canvas(600, 600);\n",
       "\n",
       "    // Disable right mouse context menu.\n",
       "    $(this.rubberband_canvas).bind(\"contextmenu\",function(e){\n",
       "        return false;\n",
       "    });\n",
       "\n",
       "    function set_focus () {\n",
       "        canvas.focus();\n",
       "        canvas_div.focus();\n",
       "    }\n",
       "\n",
       "    window.setTimeout(set_focus, 100);\n",
       "}\n",
       "\n",
       "mpl.figure.prototype._init_toolbar = function() {\n",
       "    var fig = this;\n",
       "\n",
       "    var nav_element = $('<div/>')\n",
       "    nav_element.attr('style', 'width: 100%');\n",
       "    this.root.append(nav_element);\n",
       "\n",
       "    // Define a callback function for later on.\n",
       "    function toolbar_event(event) {\n",
       "        return fig.toolbar_button_onclick(event['data']);\n",
       "    }\n",
       "    function toolbar_mouse_event(event) {\n",
       "        return fig.toolbar_button_onmouseover(event['data']);\n",
       "    }\n",
       "\n",
       "    for(var toolbar_ind in mpl.toolbar_items) {\n",
       "        var name = mpl.toolbar_items[toolbar_ind][0];\n",
       "        var tooltip = mpl.toolbar_items[toolbar_ind][1];\n",
       "        var image = mpl.toolbar_items[toolbar_ind][2];\n",
       "        var method_name = mpl.toolbar_items[toolbar_ind][3];\n",
       "\n",
       "        if (!name) {\n",
       "            // put a spacer in here.\n",
       "            continue;\n",
       "        }\n",
       "        var button = $('<button/>');\n",
       "        button.addClass('ui-button ui-widget ui-state-default ui-corner-all ' +\n",
       "                        'ui-button-icon-only');\n",
       "        button.attr('role', 'button');\n",
       "        button.attr('aria-disabled', 'false');\n",
       "        button.click(method_name, toolbar_event);\n",
       "        button.mouseover(tooltip, toolbar_mouse_event);\n",
       "\n",
       "        var icon_img = $('<span/>');\n",
       "        icon_img.addClass('ui-button-icon-primary ui-icon');\n",
       "        icon_img.addClass(image);\n",
       "        icon_img.addClass('ui-corner-all');\n",
       "\n",
       "        var tooltip_span = $('<span/>');\n",
       "        tooltip_span.addClass('ui-button-text');\n",
       "        tooltip_span.html(tooltip);\n",
       "\n",
       "        button.append(icon_img);\n",
       "        button.append(tooltip_span);\n",
       "\n",
       "        nav_element.append(button);\n",
       "    }\n",
       "\n",
       "    var fmt_picker_span = $('<span/>');\n",
       "\n",
       "    var fmt_picker = $('<select/>');\n",
       "    fmt_picker.addClass('mpl-toolbar-option ui-widget ui-widget-content');\n",
       "    fmt_picker_span.append(fmt_picker);\n",
       "    nav_element.append(fmt_picker_span);\n",
       "    this.format_dropdown = fmt_picker[0];\n",
       "\n",
       "    for (var ind in mpl.extensions) {\n",
       "        var fmt = mpl.extensions[ind];\n",
       "        var option = $(\n",
       "            '<option/>', {selected: fmt === mpl.default_extension}).html(fmt);\n",
       "        fmt_picker.append(option)\n",
       "    }\n",
       "\n",
       "    // Add hover states to the ui-buttons\n",
       "    $( \".ui-button\" ).hover(\n",
       "        function() { $(this).addClass(\"ui-state-hover\");},\n",
       "        function() { $(this).removeClass(\"ui-state-hover\");}\n",
       "    );\n",
       "\n",
       "    var status_bar = $('<span class=\"mpl-message\"/>');\n",
       "    nav_element.append(status_bar);\n",
       "    this.message = status_bar[0];\n",
       "}\n",
       "\n",
       "mpl.figure.prototype.request_resize = function(x_pixels, y_pixels) {\n",
       "    // Request matplotlib to resize the figure. Matplotlib will then trigger a resize in the client,\n",
       "    // which will in turn request a refresh of the image.\n",
       "    this.send_message('resize', {'width': x_pixels, 'height': y_pixels});\n",
       "}\n",
       "\n",
       "mpl.figure.prototype.send_message = function(type, properties) {\n",
       "    properties['type'] = type;\n",
       "    properties['figure_id'] = this.id;\n",
       "    this.ws.send(JSON.stringify(properties));\n",
       "}\n",
       "\n",
       "mpl.figure.prototype.send_draw_message = function() {\n",
       "    if (!this.waiting) {\n",
       "        this.waiting = true;\n",
       "        this.ws.send(JSON.stringify({type: \"draw\", figure_id: this.id}));\n",
       "    }\n",
       "}\n",
       "\n",
       "\n",
       "mpl.figure.prototype.handle_save = function(fig, msg) {\n",
       "    var format_dropdown = fig.format_dropdown;\n",
       "    var format = format_dropdown.options[format_dropdown.selectedIndex].value;\n",
       "    fig.ondownload(fig, format);\n",
       "}\n",
       "\n",
       "\n",
       "mpl.figure.prototype.handle_resize = function(fig, msg) {\n",
       "    var size = msg['size'];\n",
       "    if (size[0] != fig.canvas.width || size[1] != fig.canvas.height) {\n",
       "        fig._resize_canvas(size[0], size[1]);\n",
       "        fig.send_message(\"refresh\", {});\n",
       "    };\n",
       "}\n",
       "\n",
       "mpl.figure.prototype.handle_rubberband = function(fig, msg) {\n",
       "    var x0 = msg['x0'];\n",
       "    var y0 = fig.canvas.height - msg['y0'];\n",
       "    var x1 = msg['x1'];\n",
       "    var y1 = fig.canvas.height - msg['y1'];\n",
       "    x0 = Math.floor(x0) + 0.5;\n",
       "    y0 = Math.floor(y0) + 0.5;\n",
       "    x1 = Math.floor(x1) + 0.5;\n",
       "    y1 = Math.floor(y1) + 0.5;\n",
       "    var min_x = Math.min(x0, x1);\n",
       "    var min_y = Math.min(y0, y1);\n",
       "    var width = Math.abs(x1 - x0);\n",
       "    var height = Math.abs(y1 - y0);\n",
       "\n",
       "    fig.rubberband_context.clearRect(\n",
       "        0, 0, fig.canvas.width, fig.canvas.height);\n",
       "\n",
       "    fig.rubberband_context.strokeRect(min_x, min_y, width, height);\n",
       "}\n",
       "\n",
       "mpl.figure.prototype.handle_figure_label = function(fig, msg) {\n",
       "    // Updates the figure title.\n",
       "    fig.header.textContent = msg['label'];\n",
       "}\n",
       "\n",
       "mpl.figure.prototype.handle_cursor = function(fig, msg) {\n",
       "    var cursor = msg['cursor'];\n",
       "    switch(cursor)\n",
       "    {\n",
       "    case 0:\n",
       "        cursor = 'pointer';\n",
       "        break;\n",
       "    case 1:\n",
       "        cursor = 'default';\n",
       "        break;\n",
       "    case 2:\n",
       "        cursor = 'crosshair';\n",
       "        break;\n",
       "    case 3:\n",
       "        cursor = 'move';\n",
       "        break;\n",
       "    }\n",
       "    fig.rubberband_canvas.style.cursor = cursor;\n",
       "}\n",
       "\n",
       "mpl.figure.prototype.handle_message = function(fig, msg) {\n",
       "    fig.message.textContent = msg['message'];\n",
       "}\n",
       "\n",
       "mpl.figure.prototype.handle_draw = function(fig, msg) {\n",
       "    // Request the server to send over a new figure.\n",
       "    fig.send_draw_message();\n",
       "}\n",
       "\n",
       "mpl.figure.prototype.handle_image_mode = function(fig, msg) {\n",
       "    fig.image_mode = msg['mode'];\n",
       "}\n",
       "\n",
       "mpl.figure.prototype.updated_canvas_event = function() {\n",
       "    // Called whenever the canvas gets updated.\n",
       "    this.send_message(\"ack\", {});\n",
       "}\n",
       "\n",
       "// A function to construct a web socket function for onmessage handling.\n",
       "// Called in the figure constructor.\n",
       "mpl.figure.prototype._make_on_message_function = function(fig) {\n",
       "    return function socket_on_message(evt) {\n",
       "        if (evt.data instanceof Blob) {\n",
       "            /* FIXME: We get \"Resource interpreted as Image but\n",
       "             * transferred with MIME type text/plain:\" errors on\n",
       "             * Chrome.  But how to set the MIME type?  It doesn't seem\n",
       "             * to be part of the websocket stream */\n",
       "            evt.data.type = \"image/png\";\n",
       "\n",
       "            /* Free the memory for the previous frames */\n",
       "            if (fig.imageObj.src) {\n",
       "                (window.URL || window.webkitURL).revokeObjectURL(\n",
       "                    fig.imageObj.src);\n",
       "            }\n",
       "\n",
       "            fig.imageObj.src = (window.URL || window.webkitURL).createObjectURL(\n",
       "                evt.data);\n",
       "            fig.updated_canvas_event();\n",
       "            fig.waiting = false;\n",
       "            return;\n",
       "        }\n",
       "        else if (typeof evt.data === 'string' && evt.data.slice(0, 21) == \"data:image/png;base64\") {\n",
       "            fig.imageObj.src = evt.data;\n",
       "            fig.updated_canvas_event();\n",
       "            fig.waiting = false;\n",
       "            return;\n",
       "        }\n",
       "\n",
       "        var msg = JSON.parse(evt.data);\n",
       "        var msg_type = msg['type'];\n",
       "\n",
       "        // Call the  \"handle_{type}\" callback, which takes\n",
       "        // the figure and JSON message as its only arguments.\n",
       "        try {\n",
       "            var callback = fig[\"handle_\" + msg_type];\n",
       "        } catch (e) {\n",
       "            console.log(\"No handler for the '\" + msg_type + \"' message type: \", msg);\n",
       "            return;\n",
       "        }\n",
       "\n",
       "        if (callback) {\n",
       "            try {\n",
       "                // console.log(\"Handling '\" + msg_type + \"' message: \", msg);\n",
       "                callback(fig, msg);\n",
       "            } catch (e) {\n",
       "                console.log(\"Exception inside the 'handler_\" + msg_type + \"' callback:\", e, e.stack, msg);\n",
       "            }\n",
       "        }\n",
       "    };\n",
       "}\n",
       "\n",
       "// from http://stackoverflow.com/questions/1114465/getting-mouse-location-in-canvas\n",
       "mpl.findpos = function(e) {\n",
       "    //this section is from http://www.quirksmode.org/js/events_properties.html\n",
       "    var targ;\n",
       "    if (!e)\n",
       "        e = window.event;\n",
       "    if (e.target)\n",
       "        targ = e.target;\n",
       "    else if (e.srcElement)\n",
       "        targ = e.srcElement;\n",
       "    if (targ.nodeType == 3) // defeat Safari bug\n",
       "        targ = targ.parentNode;\n",
       "\n",
       "    // jQuery normalizes the pageX and pageY\n",
       "    // pageX,Y are the mouse positions relative to the document\n",
       "    // offset() returns the position of the element relative to the document\n",
       "    var x = e.pageX - $(targ).offset().left;\n",
       "    var y = e.pageY - $(targ).offset().top;\n",
       "\n",
       "    return {\"x\": x, \"y\": y};\n",
       "};\n",
       "\n",
       "/*\n",
       " * return a copy of an object with only non-object keys\n",
       " * we need this to avoid circular references\n",
       " * http://stackoverflow.com/a/24161582/3208463\n",
       " */\n",
       "function simpleKeys (original) {\n",
       "  return Object.keys(original).reduce(function (obj, key) {\n",
       "    if (typeof original[key] !== 'object')\n",
       "        obj[key] = original[key]\n",
       "    return obj;\n",
       "  }, {});\n",
       "}\n",
       "\n",
       "mpl.figure.prototype.mouse_event = function(event, name) {\n",
       "    var canvas_pos = mpl.findpos(event)\n",
       "\n",
       "    if (name === 'button_press')\n",
       "    {\n",
       "        this.canvas.focus();\n",
       "        this.canvas_div.focus();\n",
       "    }\n",
       "\n",
       "    var x = canvas_pos.x;\n",
       "    var y = canvas_pos.y;\n",
       "\n",
       "    this.send_message(name, {x: x, y: y, button: event.button,\n",
       "                             step: event.step,\n",
       "                             guiEvent: simpleKeys(event)});\n",
       "\n",
       "    /* This prevents the web browser from automatically changing to\n",
       "     * the text insertion cursor when the button is pressed.  We want\n",
       "     * to control all of the cursor setting manually through the\n",
       "     * 'cursor' event from matplotlib */\n",
       "    event.preventDefault();\n",
       "    return false;\n",
       "}\n",
       "\n",
       "mpl.figure.prototype._key_event_extra = function(event, name) {\n",
       "    // Handle any extra behaviour associated with a key event\n",
       "}\n",
       "\n",
       "mpl.figure.prototype.key_event = function(event, name) {\n",
       "\n",
       "    // Prevent repeat events\n",
       "    if (name == 'key_press')\n",
       "    {\n",
       "        if (event.which === this._key)\n",
       "            return;\n",
       "        else\n",
       "            this._key = event.which;\n",
       "    }\n",
       "    if (name == 'key_release')\n",
       "        this._key = null;\n",
       "\n",
       "    var value = '';\n",
       "    if (event.ctrlKey && event.which != 17)\n",
       "        value += \"ctrl+\";\n",
       "    if (event.altKey && event.which != 18)\n",
       "        value += \"alt+\";\n",
       "    if (event.shiftKey && event.which != 16)\n",
       "        value += \"shift+\";\n",
       "\n",
       "    value += 'k';\n",
       "    value += event.which.toString();\n",
       "\n",
       "    this._key_event_extra(event, name);\n",
       "\n",
       "    this.send_message(name, {key: value,\n",
       "                             guiEvent: simpleKeys(event)});\n",
       "    return false;\n",
       "}\n",
       "\n",
       "mpl.figure.prototype.toolbar_button_onclick = function(name) {\n",
       "    if (name == 'download') {\n",
       "        this.handle_save(this, null);\n",
       "    } else {\n",
       "        this.send_message(\"toolbar_button\", {name: name});\n",
       "    }\n",
       "};\n",
       "\n",
       "mpl.figure.prototype.toolbar_button_onmouseover = function(tooltip) {\n",
       "    this.message.textContent = tooltip;\n",
       "};\n",
       "mpl.toolbar_items = [[\"Home\", \"Reset original view\", \"fa fa-home icon-home\", \"home\"], [\"Back\", \"Back to  previous view\", \"fa fa-arrow-left icon-arrow-left\", \"back\"], [\"Forward\", \"Forward to next view\", \"fa fa-arrow-right icon-arrow-right\", \"forward\"], [\"\", \"\", \"\", \"\"], [\"Pan\", \"Pan axes with left mouse, zoom with right\", \"fa fa-arrows icon-move\", \"pan\"], [\"Zoom\", \"Zoom to rectangle\", \"fa fa-square-o icon-check-empty\", \"zoom\"], [\"\", \"\", \"\", \"\"], [\"Download\", \"Download plot\", \"fa fa-floppy-o icon-save\", \"download\"]];\n",
       "\n",
       "mpl.extensions = [\"eps\", \"jpeg\", \"pdf\", \"png\", \"ps\", \"raw\", \"svg\", \"tif\"];\n",
       "\n",
       "mpl.default_extension = \"png\";var comm_websocket_adapter = function(comm) {\n",
       "    // Create a \"websocket\"-like object which calls the given IPython comm\n",
       "    // object with the appropriate methods. Currently this is a non binary\n",
       "    // socket, so there is still some room for performance tuning.\n",
       "    var ws = {};\n",
       "\n",
       "    ws.close = function() {\n",
       "        comm.close()\n",
       "    };\n",
       "    ws.send = function(m) {\n",
       "        //console.log('sending', m);\n",
       "        comm.send(m);\n",
       "    };\n",
       "    // Register the callback with on_msg.\n",
       "    comm.on_msg(function(msg) {\n",
       "        //console.log('receiving', msg['content']['data'], msg);\n",
       "        // Pass the mpl event to the overriden (by mpl) onmessage function.\n",
       "        ws.onmessage(msg['content']['data'])\n",
       "    });\n",
       "    return ws;\n",
       "}\n",
       "\n",
       "mpl.mpl_figure_comm = function(comm, msg) {\n",
       "    // This is the function which gets called when the mpl process\n",
       "    // starts-up an IPython Comm through the \"matplotlib\" channel.\n",
       "\n",
       "    var id = msg.content.data.id;\n",
       "    // Get hold of the div created by the display call when the Comm\n",
       "    // socket was opened in Python.\n",
       "    var element = $(\"#\" + id);\n",
       "    var ws_proxy = comm_websocket_adapter(comm)\n",
       "\n",
       "    function ondownload(figure, format) {\n",
       "        window.open(figure.imageObj.src);\n",
       "    }\n",
       "\n",
       "    var fig = new mpl.figure(id, ws_proxy,\n",
       "                           ondownload,\n",
       "                           element.get(0));\n",
       "\n",
       "    // Call onopen now - mpl needs it, as it is assuming we've passed it a real\n",
       "    // web socket which is closed, not our websocket->open comm proxy.\n",
       "    ws_proxy.onopen();\n",
       "\n",
       "    fig.parent_element = element.get(0);\n",
       "    fig.cell_info = mpl.find_output_cell(\"<div id='\" + id + \"'></div>\");\n",
       "    if (!fig.cell_info) {\n",
       "        console.error(\"Failed to find cell for figure\", id, fig);\n",
       "        return;\n",
       "    }\n",
       "\n",
       "    var output_index = fig.cell_info[2]\n",
       "    var cell = fig.cell_info[0];\n",
       "\n",
       "};\n",
       "\n",
       "mpl.figure.prototype.handle_close = function(fig, msg) {\n",
       "    fig.root.unbind('remove')\n",
       "\n",
       "    // Update the output cell to use the data from the current canvas.\n",
       "    fig.push_to_output();\n",
       "    var dataURL = fig.canvas.toDataURL();\n",
       "    // Re-enable the keyboard manager in IPython - without this line, in FF,\n",
       "    // the notebook keyboard shortcuts fail.\n",
       "    IPython.keyboard_manager.enable()\n",
       "    $(fig.parent_element).html('<img src=\"' + dataURL + '\">');\n",
       "    fig.close_ws(fig, msg);\n",
       "}\n",
       "\n",
       "mpl.figure.prototype.close_ws = function(fig, msg){\n",
       "    fig.send_message('closing', msg);\n",
       "    // fig.ws.close()\n",
       "}\n",
       "\n",
       "mpl.figure.prototype.push_to_output = function(remove_interactive) {\n",
       "    // Turn the data on the canvas into data in the output cell.\n",
       "    var dataURL = this.canvas.toDataURL();\n",
       "    this.cell_info[1]['text/html'] = '<img src=\"' + dataURL + '\">';\n",
       "}\n",
       "\n",
       "mpl.figure.prototype.updated_canvas_event = function() {\n",
       "    // Tell IPython that the notebook contents must change.\n",
       "    IPython.notebook.set_dirty(true);\n",
       "    this.send_message(\"ack\", {});\n",
       "    var fig = this;\n",
       "    // Wait a second, then push the new image to the DOM so\n",
       "    // that it is saved nicely (might be nice to debounce this).\n",
       "    setTimeout(function () { fig.push_to_output() }, 1000);\n",
       "}\n",
       "\n",
       "mpl.figure.prototype._init_toolbar = function() {\n",
       "    var fig = this;\n",
       "\n",
       "    var nav_element = $('<div/>')\n",
       "    nav_element.attr('style', 'width: 100%');\n",
       "    this.root.append(nav_element);\n",
       "\n",
       "    // Define a callback function for later on.\n",
       "    function toolbar_event(event) {\n",
       "        return fig.toolbar_button_onclick(event['data']);\n",
       "    }\n",
       "    function toolbar_mouse_event(event) {\n",
       "        return fig.toolbar_button_onmouseover(event['data']);\n",
       "    }\n",
       "\n",
       "    for(var toolbar_ind in mpl.toolbar_items){\n",
       "        var name = mpl.toolbar_items[toolbar_ind][0];\n",
       "        var tooltip = mpl.toolbar_items[toolbar_ind][1];\n",
       "        var image = mpl.toolbar_items[toolbar_ind][2];\n",
       "        var method_name = mpl.toolbar_items[toolbar_ind][3];\n",
       "\n",
       "        if (!name) { continue; };\n",
       "\n",
       "        var button = $('<button class=\"btn btn-default\" href=\"#\" title=\"' + name + '\"><i class=\"fa ' + image + ' fa-lg\"></i></button>');\n",
       "        button.click(method_name, toolbar_event);\n",
       "        button.mouseover(tooltip, toolbar_mouse_event);\n",
       "        nav_element.append(button);\n",
       "    }\n",
       "\n",
       "    // Add the status bar.\n",
       "    var status_bar = $('<span class=\"mpl-message\" style=\"text-align:right; float: right;\"/>');\n",
       "    nav_element.append(status_bar);\n",
       "    this.message = status_bar[0];\n",
       "\n",
       "    // Add the close button to the window.\n",
       "    var buttongrp = $('<div class=\"btn-group inline pull-right\"></div>');\n",
       "    var button = $('<button class=\"btn btn-mini btn-primary\" href=\"#\" title=\"Stop Interaction\"><i class=\"fa fa-power-off icon-remove icon-large\"></i></button>');\n",
       "    button.click(function (evt) { fig.handle_close(fig, {}); } );\n",
       "    button.mouseover('Stop Interaction', toolbar_mouse_event);\n",
       "    buttongrp.append(button);\n",
       "    var titlebar = this.root.find($('.ui-dialog-titlebar'));\n",
       "    titlebar.prepend(buttongrp);\n",
       "}\n",
       "\n",
       "mpl.figure.prototype._root_extra_style = function(el){\n",
       "    var fig = this\n",
       "    el.on(\"remove\", function(){\n",
       "\tfig.close_ws(fig, {});\n",
       "    });\n",
       "}\n",
       "\n",
       "mpl.figure.prototype._canvas_extra_style = function(el){\n",
       "    // this is important to make the div 'focusable\n",
       "    el.attr('tabindex', 0)\n",
       "    // reach out to IPython and tell the keyboard manager to turn it's self\n",
       "    // off when our div gets focus\n",
       "\n",
       "    // location in version 3\n",
       "    if (IPython.notebook.keyboard_manager) {\n",
       "        IPython.notebook.keyboard_manager.register_events(el);\n",
       "    }\n",
       "    else {\n",
       "        // location in version 2\n",
       "        IPython.keyboard_manager.register_events(el);\n",
       "    }\n",
       "\n",
       "}\n",
       "\n",
       "mpl.figure.prototype._key_event_extra = function(event, name) {\n",
       "    var manager = IPython.notebook.keyboard_manager;\n",
       "    if (!manager)\n",
       "        manager = IPython.keyboard_manager;\n",
       "\n",
       "    // Check for shift+enter\n",
       "    if (event.shiftKey && event.which == 13) {\n",
       "        this.canvas_div.blur();\n",
       "        event.shiftKey = false;\n",
       "        // Send a \"J\" for go to next cell\n",
       "        event.which = 74;\n",
       "        event.keyCode = 74;\n",
       "        manager.command_mode();\n",
       "        manager.handle_keydown(event);\n",
       "    }\n",
       "}\n",
       "\n",
       "mpl.figure.prototype.handle_save = function(fig, msg) {\n",
       "    fig.ondownload(fig, null);\n",
       "}\n",
       "\n",
       "\n",
       "mpl.find_output_cell = function(html_output) {\n",
       "    // Return the cell and output element which can be found *uniquely* in the notebook.\n",
       "    // Note - this is a bit hacky, but it is done because the \"notebook_saving.Notebook\"\n",
       "    // IPython event is triggered only after the cells have been serialised, which for\n",
       "    // our purposes (turning an active figure into a static one), is too late.\n",
       "    var cells = IPython.notebook.get_cells();\n",
       "    var ncells = cells.length;\n",
       "    for (var i=0; i<ncells; i++) {\n",
       "        var cell = cells[i];\n",
       "        if (cell.cell_type === 'code'){\n",
       "            for (var j=0; j<cell.output_area.outputs.length; j++) {\n",
       "                var data = cell.output_area.outputs[j];\n",
       "                if (data.data) {\n",
       "                    // IPython >= 3 moved mimebundle to data attribute of output\n",
       "                    data = data.data;\n",
       "                }\n",
       "                if (data['text/html'] == html_output) {\n",
       "                    return [cell, data, j];\n",
       "                }\n",
       "            }\n",
       "        }\n",
       "    }\n",
       "}\n",
       "\n",
       "// Register the function which deals with the matplotlib target/channel.\n",
       "// The kernel may be null if the page has been refreshed.\n",
       "if (IPython.notebook.kernel != null) {\n",
       "    IPython.notebook.kernel.comm_manager.register_target('matplotlib', mpl.mpl_figure_comm);\n",
       "}\n"
      ],
      "text/plain": [
       "<IPython.core.display.Javascript object>"
      ]
     },
     "metadata": {},
     "output_type": "display_data"
    },
    {
     "data": {
      "text/html": [
       "<img src=\"data:image/png;base64,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\">"
      ],
      "text/plain": [
       "<IPython.core.display.HTML object>"
      ]
     },
     "metadata": {},
     "output_type": "display_data"
    }
   ],
   "source": [
    "emma.dispersion_plot([\"Emma\"])"
   ]
  },
  {
   "cell_type": "code",
   "execution_count": 52,
   "metadata": {
    "collapsed": true
   },
   "outputs": [],
   "source": [
    "from nltk.corpus import brown"
   ]
  },
  {
   "cell_type": "code",
   "execution_count": 53,
   "metadata": {
    "collapsed": false
   },
   "outputs": [
    {
     "data": {
      "text/plain": [
       "['adventure',\n",
       " 'belles_lettres',\n",
       " 'editorial',\n",
       " 'fiction',\n",
       " 'government',\n",
       " 'hobbies',\n",
       " 'humor',\n",
       " 'learned',\n",
       " 'lore',\n",
       " 'mystery',\n",
       " 'news',\n",
       " 'religion',\n",
       " 'reviews',\n",
       " 'romance',\n",
       " 'science_fiction']"
      ]
     },
     "execution_count": 53,
     "metadata": {},
     "output_type": "execute_result"
    }
   ],
   "source": [
    "brown.categories()"
   ]
  },
  {
   "cell_type": "code",
   "execution_count": 54,
   "metadata": {
    "collapsed": false
   },
   "outputs": [
    {
     "data": {
      "text/plain": [
       "['The', 'Fulton', 'County', 'Grand', 'Jury', 'said', ...]"
      ]
     },
     "execution_count": 54,
     "metadata": {},
     "output_type": "execute_result"
    }
   ],
   "source": [
    "brown.words(categories=\"news\")"
   ]
  },
  {
   "cell_type": "code",
   "execution_count": 55,
   "metadata": {
    "collapsed": false
   },
   "outputs": [
    {
     "data": {
      "text/plain": [
       "['The', 'Fulton', 'County', 'Grand', 'Jury', 'said', ...]"
      ]
     },
     "execution_count": 55,
     "metadata": {},
     "output_type": "execute_result"
    }
   ],
   "source": [
    "brown.words(categories=[\"news\", \"editorial\", \"reviews\"])"
   ]
  },
  {
   "cell_type": "code",
   "execution_count": 56,
   "metadata": {
    "collapsed": false
   },
   "outputs": [
    {
     "name": "stdout",
     "output_type": "stream",
     "text": [
      "can: 94 / 934.8210911550012\n",
      "could: 87 / 865.2067545796289\n",
      "may: 93 / 924.8761859299482\n",
      "might: 38 / 377.9063985520218\n",
      "must: 53 / 527.0799769278199\n",
      "will: 389 / 3868.5681325456967\n"
     ]
    }
   ],
   "source": [
    "news = brown.words(categories=\"news\")\n",
    "fdist = nltk.FreqDist(w.lower() for w in news)\n",
    "modals = [\"can\", \"could\", \"may\", \"might\", \"must\", \"will\"]\n",
    "for m in modals:\n",
    "    print(m + \":\", fdist[m], \"/\", fdist.freq(m)*1e6)"
   ]
  },
  {
   "cell_type": "code",
   "execution_count": 57,
   "metadata": {
    "collapsed": false
   },
   "outputs": [
    {
     "name": "stdout",
     "output_type": "stream",
     "text": [
      "                  can could   may might  must  will \n",
      "           news    93    86    66    38    50   389 \n",
      "       religion    82    59    78    12    54    71 \n",
      "        hobbies   268    58   131    22    83   264 \n",
      "science_fiction    16    49     4    12     8    16 \n",
      "        romance    74   193    11    51    45    43 \n",
      "          humor    16    30     8     8     9    13 \n"
     ]
    }
   ],
   "source": [
    "# conditional frequency distributions\n",
    "cfd = nltk.ConditionalFreqDist(\n",
    "          (genre, word)\n",
    "          for genre in brown.categories()\n",
    "          for word in brown.words(categories=genre))\n",
    "# select a subset of cfd.conditions()\n",
    "genres = ['news', 'religion', 'hobbies', 'science_fiction', 'romance', 'humor']\n",
    "modals = ['can', 'could', 'may', 'might', 'must', 'will']\n",
    "# the parameters limit the cfd only to the genres and words of interest to us\n",
    "cfd.tabulate(conditions=genres, samples=modals)"
   ]
  }
 ],
 "metadata": {
  "anaconda-cloud": {},
  "kernelspec": {
   "display_name": "Python [Root]",
   "language": "python",
   "name": "Python [Root]"
  },
  "language_info": {
   "codemirror_mode": {
    "name": "ipython",
    "version": 3
   },
   "file_extension": ".py",
   "mimetype": "text/x-python",
   "name": "python",
   "nbconvert_exporter": "python",
   "pygments_lexer": "ipython3",
   "version": "3.5.2"
  }
 },
 "nbformat": 4,
 "nbformat_minor": 0
}
